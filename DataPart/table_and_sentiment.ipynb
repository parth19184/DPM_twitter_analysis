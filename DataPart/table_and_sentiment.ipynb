{
 "cells": [
  {
   "cell_type": "code",
   "execution_count": 191,
   "metadata": {},
   "outputs": [],
   "source": [
    "import pandas as pd\n",
    "import tweepy\n",
    "from textblob import TextBlob\n",
    "from wordcloud import WordCloud\n",
    "import numpy as np\n",
    "import matplotlib.pyplot as plt\n",
    "import re"
   ]
  },
  {
   "cell_type": "code",
   "execution_count": 200,
   "metadata": {},
   "outputs": [],
   "source": [
    "consumer_key = \"CSuIiOnVjfkIVlwoOt8TmrGW7\"\n",
    "consumer_key_secret = \"wz0VqziOsFNr1vaz1RY3XySNHajIeW7D2SKdyMP76Z89rJuHvd\"\n",
    "access_token = \"1457745168690450437-7dnKuIzrBMIxTJSqQ0eSfaNycyp7BV\"\n",
    "access_token_secret = \"mfkismanuwheyKmCsXCbFIVLNibt2MW8CZas3qfqFPken\""
   ]
  },
  {
   "cell_type": "code",
   "execution_count": 201,
   "metadata": {},
   "outputs": [],
   "source": [
    "auth = tweepy .OAuthHandler(consumer_key, consumer_key_secret)\n",
    "auth.set_access_token(access_token, access_token_secret)\n",
    "api = tweepy.API(auth)"
   ]
  },
  {
   "cell_type": "code",
   "execution_count": 202,
   "metadata": {},
   "outputs": [],
   "source": [
    "def cleanText(text):\n",
    "    text = re.sub(r\"@[A-Za-z0-9]+\", '', text) #removed @mentions\n",
    "    text = re.sub(r'#', '', text) #removing # symbol\n",
    "    text = re.sub(r'RT[\\s]+', '', text) #removing retweets RT\n",
    "    text = re.sub(r'https?:\\/\\/\\S+', '', text) #removes the hyperlink\n",
    "\n",
    "    return text"
   ]
  },
  {
   "cell_type": "code",
   "execution_count": 203,
   "metadata": {},
   "outputs": [],
   "source": [
    "def getSubjectivity(text):\n",
    "    return TextBlob(text).sentiment.subjectivity\n",
    "\n",
    "def getPolarity(text):\n",
    "    return TextBlob(text).sentiment.polarity"
   ]
  },
  {
   "cell_type": "code",
   "execution_count": 204,
   "metadata": {},
   "outputs": [],
   "source": [
    "def getAnalysis(score):\n",
    "    if score < 0:\n",
    "        return \"Negative\"\n",
    "    elif score == 0:\n",
    "        return \"Neutral\"\n",
    "    else:\n",
    "        return \"Positive\""
   ]
  },
  {
   "cell_type": "code",
   "execution_count": 225,
   "metadata": {},
   "outputs": [],
   "source": [
    "def get_keyword_tweets(keyword, count):\n",
    "    items = api.search_30_day(label='Development', query=keyword, maxResults= count)\n",
    "    return items"
   ]
  },
  {
   "cell_type": "code",
   "execution_count": 230,
   "metadata": {},
   "outputs": [],
   "source": [
    "answer = api.search_tweets(q=\"BOSCH\", lang = \"en\", result_type= \"popular\", count = 99)"
   ]
  },
  {
   "cell_type": "code",
   "execution_count": 252,
   "metadata": {},
   "outputs": [],
   "source": [
    "answer = get_keyword_tweets(\"3M INDIA\", 100)"
   ]
  },
  {
   "cell_type": "code",
   "execution_count": 211,
   "metadata": {},
   "outputs": [
    {
     "data": {
      "text/plain": [
       "'Wed Nov 10 16:40:01 +0000 2021'"
      ]
     },
     "execution_count": 211,
     "metadata": {},
     "output_type": "execute_result"
    }
   ],
   "source": [
    "p = answer[0]._json\n",
    "p[\"created_at\"]"
   ]
  },
  {
   "cell_type": "code",
   "execution_count": 253,
   "metadata": {},
   "outputs": [
    {
     "data": {
      "text/plain": [
       "80"
      ]
     },
     "execution_count": 253,
     "metadata": {},
     "output_type": "execute_result"
    }
   ],
   "source": [
    "m3_df = pd.DataFrame({\"tweet\": [tweet.text for tweet in answer], \"language\":[tweet.lang for tweet in answer],\"likes\": [tweet.favorite_count for tweet in answer],\"retweets\": [tweet.retweet_count for tweet in answer], \"datetime\":[tweet.created_at for tweet in answer]})\n",
    "m3_df.head(5)\n",
    "len(bosch_df)"
   ]
  },
  {
   "cell_type": "code",
   "execution_count": 254,
   "metadata": {},
   "outputs": [
    {
     "name": "stderr",
     "output_type": "stream",
     "text": [
      "/var/folders/6r/61h6dlnx7vx63vghxcc869mm0000gn/T/ipykernel_73419/2593412604.py:1: UserWarning: Boolean Series key will be reindexed to match DataFrame index.\n",
      "  m3_df = tata_df[m3_df.language == \"en\"]\n"
     ]
    }
   ],
   "source": [
    "m3_df = tata_df[m3_df.language == \"en\"]"
   ]
  },
  {
   "cell_type": "markdown",
   "metadata": {},
   "source": [
    "We need to get favorite_count, retweet_count, lang, text"
   ]
  },
  {
   "cell_type": "code",
   "execution_count": 199,
   "metadata": {},
   "outputs": [
    {
     "ename": "Unauthorized",
     "evalue": "401 Unauthorized\nCould not authenticate you.",
     "output_type": "error",
     "traceback": [
      "\u001b[0;31m---------------------------------------------------------------------------\u001b[0m",
      "\u001b[0;31mUnauthorized\u001b[0m                              Traceback (most recent call last)",
      "\u001b[0;32m/var/folders/6r/61h6dlnx7vx63vghxcc869mm0000gn/T/ipykernel_73419/434368917.py\u001b[0m in \u001b[0;36m<module>\u001b[0;34m\u001b[0m\n\u001b[0;32m----> 1\u001b[0;31m \u001b[0mtest_list\u001b[0m \u001b[0;34m=\u001b[0m \u001b[0mget_keyword_tweets\u001b[0m\u001b[0;34m(\u001b[0m\u001b[0;34m\"infosys\"\u001b[0m\u001b[0;34m,\u001b[0m\u001b[0;36m100\u001b[0m\u001b[0;34m)\u001b[0m\u001b[0;34m\u001b[0m\u001b[0;34m\u001b[0m\u001b[0m\n\u001b[0m\u001b[1;32m      2\u001b[0m \u001b[0mtest_list\u001b[0m\u001b[0;34m[\u001b[0m\u001b[0;36m0\u001b[0m\u001b[0;34m]\u001b[0m\u001b[0;34m.\u001b[0m\u001b[0m_json\u001b[0m\u001b[0;34m[\u001b[0m\u001b[0;34m\"text\"\u001b[0m\u001b[0;34m]\u001b[0m\u001b[0;34m\u001b[0m\u001b[0;34m\u001b[0m\u001b[0m\n",
      "\u001b[0;32m/var/folders/6r/61h6dlnx7vx63vghxcc869mm0000gn/T/ipykernel_73419/1454804703.py\u001b[0m in \u001b[0;36mget_keyword_tweets\u001b[0;34m(keyword, count)\u001b[0m\n\u001b[1;32m      1\u001b[0m \u001b[0;32mdef\u001b[0m \u001b[0mget_keyword_tweets\u001b[0m\u001b[0;34m(\u001b[0m\u001b[0mkeyword\u001b[0m\u001b[0;34m,\u001b[0m \u001b[0mcount\u001b[0m\u001b[0;34m)\u001b[0m\u001b[0;34m:\u001b[0m\u001b[0;34m\u001b[0m\u001b[0;34m\u001b[0m\u001b[0m\n\u001b[0;32m----> 2\u001b[0;31m     \u001b[0mitems\u001b[0m \u001b[0;34m=\u001b[0m \u001b[0mapi\u001b[0m\u001b[0;34m.\u001b[0m\u001b[0msearch_30_day\u001b[0m\u001b[0;34m(\u001b[0m\u001b[0mlabel\u001b[0m\u001b[0;34m=\u001b[0m\u001b[0;34m'development'\u001b[0m\u001b[0;34m,\u001b[0m \u001b[0mquery\u001b[0m\u001b[0;34m=\u001b[0m\u001b[0mkeyword\u001b[0m\u001b[0;34m,\u001b[0m \u001b[0mmaxResults\u001b[0m\u001b[0;34m=\u001b[0m \u001b[0mcount\u001b[0m\u001b[0;34m)\u001b[0m\u001b[0;34m\u001b[0m\u001b[0;34m\u001b[0m\u001b[0m\n\u001b[0m\u001b[1;32m      3\u001b[0m     \u001b[0;32mreturn\u001b[0m \u001b[0mitems\u001b[0m\u001b[0;34m\u001b[0m\u001b[0;34m\u001b[0m\u001b[0m\n",
      "\u001b[0;32m/opt/homebrew/lib/python3.9/site-packages/tweepy/api.py\u001b[0m in \u001b[0;36mwrapper\u001b[0;34m(*args, **kwargs)\u001b[0m\n\u001b[1;32m     31\u001b[0m         \u001b[0;34m@\u001b[0m\u001b[0mfunctools\u001b[0m\u001b[0;34m.\u001b[0m\u001b[0mwraps\u001b[0m\u001b[0;34m(\u001b[0m\u001b[0mmethod\u001b[0m\u001b[0;34m)\u001b[0m\u001b[0;34m\u001b[0m\u001b[0;34m\u001b[0m\u001b[0m\n\u001b[1;32m     32\u001b[0m         \u001b[0;32mdef\u001b[0m \u001b[0mwrapper\u001b[0m\u001b[0;34m(\u001b[0m\u001b[0;34m*\u001b[0m\u001b[0margs\u001b[0m\u001b[0;34m,\u001b[0m \u001b[0;34m**\u001b[0m\u001b[0mkwargs\u001b[0m\u001b[0;34m)\u001b[0m\u001b[0;34m:\u001b[0m\u001b[0;34m\u001b[0m\u001b[0;34m\u001b[0m\u001b[0m\n\u001b[0;32m---> 33\u001b[0;31m             \u001b[0;32mreturn\u001b[0m \u001b[0mmethod\u001b[0m\u001b[0;34m(\u001b[0m\u001b[0;34m*\u001b[0m\u001b[0margs\u001b[0m\u001b[0;34m,\u001b[0m \u001b[0;34m**\u001b[0m\u001b[0mkwargs\u001b[0m\u001b[0;34m)\u001b[0m\u001b[0;34m\u001b[0m\u001b[0;34m\u001b[0m\u001b[0m\n\u001b[0m\u001b[1;32m     34\u001b[0m         \u001b[0mwrapper\u001b[0m\u001b[0;34m.\u001b[0m\u001b[0mpagination_mode\u001b[0m \u001b[0;34m=\u001b[0m \u001b[0mmode\u001b[0m\u001b[0;34m\u001b[0m\u001b[0;34m\u001b[0m\u001b[0m\n\u001b[1;32m     35\u001b[0m         \u001b[0;32mreturn\u001b[0m \u001b[0mwrapper\u001b[0m\u001b[0;34m\u001b[0m\u001b[0;34m\u001b[0m\u001b[0m\n",
      "\u001b[0;32m/opt/homebrew/lib/python3.9/site-packages/tweepy/api.py\u001b[0m in \u001b[0;36mwrapper\u001b[0;34m(*args, **kwargs)\u001b[0m\n\u001b[1;32m     44\u001b[0m             \u001b[0mkwargs\u001b[0m\u001b[0;34m[\u001b[0m\u001b[0;34m'payload_list'\u001b[0m\u001b[0;34m]\u001b[0m \u001b[0;34m=\u001b[0m \u001b[0mpayload_list\u001b[0m\u001b[0;34m\u001b[0m\u001b[0;34m\u001b[0m\u001b[0m\n\u001b[1;32m     45\u001b[0m             \u001b[0mkwargs\u001b[0m\u001b[0;34m[\u001b[0m\u001b[0;34m'payload_type'\u001b[0m\u001b[0;34m]\u001b[0m \u001b[0;34m=\u001b[0m \u001b[0mpayload_type\u001b[0m\u001b[0;34m\u001b[0m\u001b[0;34m\u001b[0m\u001b[0m\n\u001b[0;32m---> 46\u001b[0;31m             \u001b[0;32mreturn\u001b[0m \u001b[0mmethod\u001b[0m\u001b[0;34m(\u001b[0m\u001b[0;34m*\u001b[0m\u001b[0margs\u001b[0m\u001b[0;34m,\u001b[0m \u001b[0;34m**\u001b[0m\u001b[0mkwargs\u001b[0m\u001b[0;34m)\u001b[0m\u001b[0;34m\u001b[0m\u001b[0;34m\u001b[0m\u001b[0m\n\u001b[0m\u001b[1;32m     47\u001b[0m         \u001b[0mwrapper\u001b[0m\u001b[0;34m.\u001b[0m\u001b[0mpayload_list\u001b[0m \u001b[0;34m=\u001b[0m \u001b[0mpayload_list\u001b[0m\u001b[0;34m\u001b[0m\u001b[0;34m\u001b[0m\u001b[0m\n\u001b[1;32m     48\u001b[0m         \u001b[0mwrapper\u001b[0m\u001b[0;34m.\u001b[0m\u001b[0mpayload_type\u001b[0m \u001b[0;34m=\u001b[0m \u001b[0mpayload_type\u001b[0m\u001b[0;34m\u001b[0m\u001b[0;34m\u001b[0m\u001b[0m\n",
      "\u001b[0;32m/opt/homebrew/lib/python3.9/site-packages/tweepy/api.py\u001b[0m in \u001b[0;36msearch_30_day\u001b[0;34m(self, label, query, **kwargs)\u001b[0m\n\u001b[1;32m    361\u001b[0m         \u001b[0mhttps\u001b[0m\u001b[0;34m:\u001b[0m\u001b[0;34m//\u001b[0m\u001b[0mdeveloper\u001b[0m\u001b[0;34m.\u001b[0m\u001b[0mtwitter\u001b[0m\u001b[0;34m.\u001b[0m\u001b[0mcom\u001b[0m\u001b[0;34m/\u001b[0m\u001b[0men\u001b[0m\u001b[0;34m/\u001b[0m\u001b[0mdocs\u001b[0m\u001b[0;34m/\u001b[0m\u001b[0mtwitter\u001b[0m\u001b[0;34m-\u001b[0m\u001b[0mapi\u001b[0m\u001b[0;34m/\u001b[0m\u001b[0mpremium\u001b[0m\u001b[0;34m/\u001b[0m\u001b[0msearch\u001b[0m\u001b[0;34m-\u001b[0m\u001b[0mapi\u001b[0m\u001b[0;34m/\u001b[0m\u001b[0mapi\u001b[0m\u001b[0;34m-\u001b[0m\u001b[0mreference\u001b[0m\u001b[0;34m/\u001b[0m\u001b[0mpremium\u001b[0m\u001b[0;34m-\u001b[0m\u001b[0msearch\u001b[0m\u001b[0;34m\u001b[0m\u001b[0;34m\u001b[0m\u001b[0m\n\u001b[1;32m    362\u001b[0m         \"\"\"\n\u001b[0;32m--> 363\u001b[0;31m         return self.request(\n\u001b[0m\u001b[1;32m    364\u001b[0m             'GET', f'tweets/search/30day/{label}', endpoint_parameters=(\n\u001b[1;32m    365\u001b[0m                 \u001b[0;34m'query'\u001b[0m\u001b[0;34m,\u001b[0m \u001b[0;34m'tag'\u001b[0m\u001b[0;34m,\u001b[0m \u001b[0;34m'fromDate'\u001b[0m\u001b[0;34m,\u001b[0m \u001b[0;34m'toDate'\u001b[0m\u001b[0;34m,\u001b[0m \u001b[0;34m'maxResults'\u001b[0m\u001b[0;34m,\u001b[0m \u001b[0;34m'next'\u001b[0m\u001b[0;34m\u001b[0m\u001b[0;34m\u001b[0m\u001b[0m\n",
      "\u001b[0;32m/opt/homebrew/lib/python3.9/site-packages/tweepy/api.py\u001b[0m in \u001b[0;36mrequest\u001b[0;34m(self, method, endpoint, endpoint_parameters, params, headers, json_payload, parser, payload_list, payload_type, post_data, files, require_auth, return_cursors, upload_api, use_cache, **kwargs)\u001b[0m\n\u001b[1;32m    255\u001b[0m                 \u001b[0;32mraise\u001b[0m \u001b[0mBadRequest\u001b[0m\u001b[0;34m(\u001b[0m\u001b[0mresp\u001b[0m\u001b[0;34m)\u001b[0m\u001b[0;34m\u001b[0m\u001b[0;34m\u001b[0m\u001b[0m\n\u001b[1;32m    256\u001b[0m             \u001b[0;32mif\u001b[0m \u001b[0mresp\u001b[0m\u001b[0;34m.\u001b[0m\u001b[0mstatus_code\u001b[0m \u001b[0;34m==\u001b[0m \u001b[0;36m401\u001b[0m\u001b[0;34m:\u001b[0m\u001b[0;34m\u001b[0m\u001b[0;34m\u001b[0m\u001b[0m\n\u001b[0;32m--> 257\u001b[0;31m                 \u001b[0;32mraise\u001b[0m \u001b[0mUnauthorized\u001b[0m\u001b[0;34m(\u001b[0m\u001b[0mresp\u001b[0m\u001b[0;34m)\u001b[0m\u001b[0;34m\u001b[0m\u001b[0;34m\u001b[0m\u001b[0m\n\u001b[0m\u001b[1;32m    258\u001b[0m             \u001b[0;32mif\u001b[0m \u001b[0mresp\u001b[0m\u001b[0;34m.\u001b[0m\u001b[0mstatus_code\u001b[0m \u001b[0;34m==\u001b[0m \u001b[0;36m403\u001b[0m\u001b[0;34m:\u001b[0m\u001b[0;34m\u001b[0m\u001b[0;34m\u001b[0m\u001b[0m\n\u001b[1;32m    259\u001b[0m                 \u001b[0;32mraise\u001b[0m \u001b[0mForbidden\u001b[0m\u001b[0;34m(\u001b[0m\u001b[0mresp\u001b[0m\u001b[0;34m)\u001b[0m\u001b[0;34m\u001b[0m\u001b[0;34m\u001b[0m\u001b[0m\n",
      "\u001b[0;31mUnauthorized\u001b[0m: 401 Unauthorized\nCould not authenticate you."
     ]
    }
   ],
   "source": [
    "test_list = get_keyword_tweets(\"infosys\",100)\n",
    "test_list[0]._json[\"text\"]"
   ]
  },
  {
   "cell_type": "code",
   "execution_count": 255,
   "metadata": {},
   "outputs": [],
   "source": [
    "m3_df[\"Subjectivity\"] = m3_df[\"tweet\"].apply(getSubjectivity)\n",
    "m3_df[\"Polarity\"] = m3_df[\"tweet\"].apply(getPolarity)"
   ]
  },
  {
   "cell_type": "code",
   "execution_count": 256,
   "metadata": {},
   "outputs": [],
   "source": [
    "m3_df[\"Analysis\"] = m3_df[\"Polarity\"].apply(getAnalysis)"
   ]
  },
  {
   "cell_type": "code",
   "execution_count": 70,
   "metadata": {},
   "outputs": [
    {
     "data": {
      "text/plain": [
       "0"
      ]
     },
     "execution_count": 70,
     "metadata": {},
     "output_type": "execute_result"
    }
   ],
   "source": [
    "test_list[0].retweet_count"
   ]
  },
  {
   "cell_type": "markdown",
   "metadata": {},
   "source": [
    "test_list is a list with data type Status"
   ]
  },
  {
   "cell_type": "code",
   "execution_count": 72,
   "metadata": {},
   "outputs": [
    {
     "data": {
      "text/html": [
       "<div>\n",
       "<style scoped>\n",
       "    .dataframe tbody tr th:only-of-type {\n",
       "        vertical-align: middle;\n",
       "    }\n",
       "\n",
       "    .dataframe tbody tr th {\n",
       "        vertical-align: top;\n",
       "    }\n",
       "\n",
       "    .dataframe thead th {\n",
       "        text-align: right;\n",
       "    }\n",
       "</style>\n",
       "<table border=\"1\" class=\"dataframe\">\n",
       "  <thead>\n",
       "    <tr style=\"text-align: right;\">\n",
       "      <th></th>\n",
       "      <th>tweet</th>\n",
       "      <th>language</th>\n",
       "      <th>likes</th>\n",
       "      <th>retweets</th>\n",
       "    </tr>\n",
       "  </thead>\n",
       "  <tbody>\n",
       "    <tr>\n",
       "      <th>0</th>\n",
       "      <td>@Infosys_GSTN @cbic_india Can u pls share gst ...</td>\n",
       "      <td>en</td>\n",
       "      <td>0</td>\n",
       "      <td>0</td>\n",
       "    </tr>\n",
       "    <tr>\n",
       "      <th>1</th>\n",
       "      <td>RT @Arunstockguru: 1st Multibagger Pick of Top...</td>\n",
       "      <td>en</td>\n",
       "      <td>0</td>\n",
       "      <td>0</td>\n",
       "    </tr>\n",
       "    <tr>\n",
       "      <th>2</th>\n",
       "      <td>RT @SimonPe35298675: @GoodLawProject I contact...</td>\n",
       "      <td>en</td>\n",
       "      <td>0</td>\n",
       "      <td>0</td>\n",
       "    </tr>\n",
       "    <tr>\n",
       "      <th>3</th>\n",
       "      <td>RT @gnrjsr123: @jbgajjar2000 @PAlearner I boug...</td>\n",
       "      <td>en</td>\n",
       "      <td>0</td>\n",
       "      <td>0</td>\n",
       "    </tr>\n",
       "    <tr>\n",
       "      <th>4</th>\n",
       "      <td>@nsitharaman @Infosys @TCS @timesofindia @PMOI...</td>\n",
       "      <td>en</td>\n",
       "      <td>0</td>\n",
       "      <td>0</td>\n",
       "    </tr>\n",
       "    <tr>\n",
       "      <th>...</th>\n",
       "      <td>...</td>\n",
       "      <td>...</td>\n",
       "      <td>...</td>\n",
       "      <td>...</td>\n",
       "    </tr>\n",
       "    <tr>\n",
       "      <th>95</th>\n",
       "      <td>@themukulagrawal INFOSYS, ITC,HUL,IRCTC.</td>\n",
       "      <td>ro</td>\n",
       "      <td>0</td>\n",
       "      <td>0</td>\n",
       "    </tr>\n",
       "    <tr>\n",
       "      <th>96</th>\n",
       "      <td>@tweet_avina @Infosys @nsitharamanoffc @nsitha...</td>\n",
       "      <td>en</td>\n",
       "      <td>0</td>\n",
       "      <td>0</td>\n",
       "    </tr>\n",
       "    <tr>\n",
       "      <th>97</th>\n",
       "      <td>@CAVISHALGARG3 @CaSondagar @CaHimalaya @cbic_i...</td>\n",
       "      <td>en</td>\n",
       "      <td>0</td>\n",
       "      <td>0</td>\n",
       "    </tr>\n",
       "    <tr>\n",
       "      <th>98</th>\n",
       "      <td>@trikaldarshiii @Infosys @Finacle @nsitharaman...</td>\n",
       "      <td>en</td>\n",
       "      <td>0</td>\n",
       "      <td>0</td>\n",
       "    </tr>\n",
       "    <tr>\n",
       "      <th>99</th>\n",
       "      <td>@themukulagrawal Tata power, tatamotors, infos...</td>\n",
       "      <td>pl</td>\n",
       "      <td>0</td>\n",
       "      <td>0</td>\n",
       "    </tr>\n",
       "  </tbody>\n",
       "</table>\n",
       "<p>100 rows × 4 columns</p>\n",
       "</div>"
      ],
      "text/plain": [
       "                                                tweet language  likes  \\\n",
       "0   @Infosys_GSTN @cbic_india Can u pls share gst ...       en      0   \n",
       "1   RT @Arunstockguru: 1st Multibagger Pick of Top...       en      0   \n",
       "2   RT @SimonPe35298675: @GoodLawProject I contact...       en      0   \n",
       "3   RT @gnrjsr123: @jbgajjar2000 @PAlearner I boug...       en      0   \n",
       "4   @nsitharaman @Infosys @TCS @timesofindia @PMOI...       en      0   \n",
       "..                                                ...      ...    ...   \n",
       "95           @themukulagrawal INFOSYS, ITC,HUL,IRCTC.       ro      0   \n",
       "96  @tweet_avina @Infosys @nsitharamanoffc @nsitha...       en      0   \n",
       "97  @CAVISHALGARG3 @CaSondagar @CaHimalaya @cbic_i...       en      0   \n",
       "98  @trikaldarshiii @Infosys @Finacle @nsitharaman...       en      0   \n",
       "99  @themukulagrawal Tata power, tatamotors, infos...       pl      0   \n",
       "\n",
       "    retweets  \n",
       "0          0  \n",
       "1          0  \n",
       "2          0  \n",
       "3          0  \n",
       "4          0  \n",
       "..       ...  \n",
       "95         0  \n",
       "96         0  \n",
       "97         0  \n",
       "98         0  \n",
       "99         0  \n",
       "\n",
       "[100 rows x 4 columns]"
      ]
     },
     "execution_count": 72,
     "metadata": {},
     "output_type": "execute_result"
    }
   ],
   "source": [
    "df = pd.DataFrame({\"tweet\": [tweet.text for tweet in test_list], \"language\":[tweet.lang for tweet in test_list],\"likes\": [tweet.favorite_count for tweet in test_list],\"retweets\": [tweet.retweet_count for tweet in test_list]})\n",
    "df"
   ]
  },
  {
   "cell_type": "code",
   "execution_count": 74,
   "metadata": {},
   "outputs": [],
   "source": [
    "df = df[df.language == \"en\"]\n"
   ]
  },
  {
   "cell_type": "code",
   "execution_count": 75,
   "metadata": {},
   "outputs": [
    {
     "data": {
      "text/html": [
       "<div>\n",
       "<style scoped>\n",
       "    .dataframe tbody tr th:only-of-type {\n",
       "        vertical-align: middle;\n",
       "    }\n",
       "\n",
       "    .dataframe tbody tr th {\n",
       "        vertical-align: top;\n",
       "    }\n",
       "\n",
       "    .dataframe thead th {\n",
       "        text-align: right;\n",
       "    }\n",
       "</style>\n",
       "<table border=\"1\" class=\"dataframe\">\n",
       "  <thead>\n",
       "    <tr style=\"text-align: right;\">\n",
       "      <th></th>\n",
       "      <th>tweet</th>\n",
       "      <th>language</th>\n",
       "      <th>likes</th>\n",
       "      <th>retweets</th>\n",
       "    </tr>\n",
       "  </thead>\n",
       "  <tbody>\n",
       "    <tr>\n",
       "      <th>0</th>\n",
       "      <td>@Infosys_GSTN @cbic_india Can u pls share gst ...</td>\n",
       "      <td>en</td>\n",
       "      <td>0</td>\n",
       "      <td>0</td>\n",
       "    </tr>\n",
       "    <tr>\n",
       "      <th>1</th>\n",
       "      <td>RT @Arunstockguru: 1st Multibagger Pick of Top...</td>\n",
       "      <td>en</td>\n",
       "      <td>0</td>\n",
       "      <td>0</td>\n",
       "    </tr>\n",
       "    <tr>\n",
       "      <th>2</th>\n",
       "      <td>RT @SimonPe35298675: @GoodLawProject I contact...</td>\n",
       "      <td>en</td>\n",
       "      <td>0</td>\n",
       "      <td>0</td>\n",
       "    </tr>\n",
       "    <tr>\n",
       "      <th>3</th>\n",
       "      <td>RT @gnrjsr123: @jbgajjar2000 @PAlearner I boug...</td>\n",
       "      <td>en</td>\n",
       "      <td>0</td>\n",
       "      <td>0</td>\n",
       "    </tr>\n",
       "    <tr>\n",
       "      <th>4</th>\n",
       "      <td>@nsitharaman @Infosys @TCS @timesofindia @PMOI...</td>\n",
       "      <td>en</td>\n",
       "      <td>0</td>\n",
       "      <td>0</td>\n",
       "    </tr>\n",
       "    <tr>\n",
       "      <th>...</th>\n",
       "      <td>...</td>\n",
       "      <td>...</td>\n",
       "      <td>...</td>\n",
       "      <td>...</td>\n",
       "    </tr>\n",
       "    <tr>\n",
       "      <th>93</th>\n",
       "      <td>@IncomeTaxIndia @Infosys @FinMinIndia @nsithar...</td>\n",
       "      <td>en</td>\n",
       "      <td>1</td>\n",
       "      <td>0</td>\n",
       "    </tr>\n",
       "    <tr>\n",
       "      <th>94</th>\n",
       "      <td>@GoodLawProject I contacted the government and...</td>\n",
       "      <td>en</td>\n",
       "      <td>1</td>\n",
       "      <td>1</td>\n",
       "    </tr>\n",
       "    <tr>\n",
       "      <th>96</th>\n",
       "      <td>@tweet_avina @Infosys @nsitharamanoffc @nsitha...</td>\n",
       "      <td>en</td>\n",
       "      <td>0</td>\n",
       "      <td>0</td>\n",
       "    </tr>\n",
       "    <tr>\n",
       "      <th>97</th>\n",
       "      <td>@CAVISHALGARG3 @CaSondagar @CaHimalaya @cbic_i...</td>\n",
       "      <td>en</td>\n",
       "      <td>0</td>\n",
       "      <td>0</td>\n",
       "    </tr>\n",
       "    <tr>\n",
       "      <th>98</th>\n",
       "      <td>@trikaldarshiii @Infosys @Finacle @nsitharaman...</td>\n",
       "      <td>en</td>\n",
       "      <td>0</td>\n",
       "      <td>0</td>\n",
       "    </tr>\n",
       "  </tbody>\n",
       "</table>\n",
       "<p>83 rows × 4 columns</p>\n",
       "</div>"
      ],
      "text/plain": [
       "                                                tweet language  likes  \\\n",
       "0   @Infosys_GSTN @cbic_india Can u pls share gst ...       en      0   \n",
       "1   RT @Arunstockguru: 1st Multibagger Pick of Top...       en      0   \n",
       "2   RT @SimonPe35298675: @GoodLawProject I contact...       en      0   \n",
       "3   RT @gnrjsr123: @jbgajjar2000 @PAlearner I boug...       en      0   \n",
       "4   @nsitharaman @Infosys @TCS @timesofindia @PMOI...       en      0   \n",
       "..                                                ...      ...    ...   \n",
       "93  @IncomeTaxIndia @Infosys @FinMinIndia @nsithar...       en      1   \n",
       "94  @GoodLawProject I contacted the government and...       en      1   \n",
       "96  @tweet_avina @Infosys @nsitharamanoffc @nsitha...       en      0   \n",
       "97  @CAVISHALGARG3 @CaSondagar @CaHimalaya @cbic_i...       en      0   \n",
       "98  @trikaldarshiii @Infosys @Finacle @nsitharaman...       en      0   \n",
       "\n",
       "    retweets  \n",
       "0          0  \n",
       "1          0  \n",
       "2          0  \n",
       "3          0  \n",
       "4          0  \n",
       "..       ...  \n",
       "93         0  \n",
       "94         1  \n",
       "96         0  \n",
       "97         0  \n",
       "98         0  \n",
       "\n",
       "[83 rows x 4 columns]"
      ]
     },
     "execution_count": 75,
     "metadata": {},
     "output_type": "execute_result"
    }
   ],
   "source": [
    "\n",
    "df"
   ]
  },
  {
   "cell_type": "code",
   "execution_count": 76,
   "metadata": {},
   "outputs": [],
   "source": [
    "df[\"Subjectivity\"] = df[\"tweet\"].apply(getSubjectivity)\n",
    "df[\"Polarity\"] = df[\"tweet\"].apply(getPolarity)\n",
    "df[\"Analysis\"] = df[\"Polarity\"].apply(getAnalysis)"
   ]
  },
  {
   "cell_type": "code",
   "execution_count": 91,
   "metadata": {},
   "outputs": [
    {
     "data": {
      "text/html": [
       "<div>\n",
       "<style scoped>\n",
       "    .dataframe tbody tr th:only-of-type {\n",
       "        vertical-align: middle;\n",
       "    }\n",
       "\n",
       "    .dataframe tbody tr th {\n",
       "        vertical-align: top;\n",
       "    }\n",
       "\n",
       "    .dataframe thead th {\n",
       "        text-align: right;\n",
       "    }\n",
       "</style>\n",
       "<table border=\"1\" class=\"dataframe\">\n",
       "  <thead>\n",
       "    <tr style=\"text-align: right;\">\n",
       "      <th></th>\n",
       "      <th>tweet</th>\n",
       "      <th>language</th>\n",
       "      <th>likes</th>\n",
       "      <th>retweets</th>\n",
       "      <th>Subjectivity</th>\n",
       "      <th>Polarity</th>\n",
       "    </tr>\n",
       "  </thead>\n",
       "  <tbody>\n",
       "    <tr>\n",
       "      <th>0</th>\n",
       "      <td>@Infosys_GSTN @cbic_india Can u pls share gst ...</td>\n",
       "      <td>en</td>\n",
       "      <td>0</td>\n",
       "      <td>0</td>\n",
       "      <td>0.900000</td>\n",
       "      <td>0.400000</td>\n",
       "    </tr>\n",
       "    <tr>\n",
       "      <th>1</th>\n",
       "      <td>RT @Arunstockguru: 1st Multibagger Pick of Top...</td>\n",
       "      <td>en</td>\n",
       "      <td>0</td>\n",
       "      <td>0</td>\n",
       "      <td>0.500000</td>\n",
       "      <td>0.500000</td>\n",
       "    </tr>\n",
       "    <tr>\n",
       "      <th>2</th>\n",
       "      <td>RT @SimonPe35298675: @GoodLawProject I contact...</td>\n",
       "      <td>en</td>\n",
       "      <td>0</td>\n",
       "      <td>0</td>\n",
       "      <td>0.000000</td>\n",
       "      <td>0.000000</td>\n",
       "    </tr>\n",
       "    <tr>\n",
       "      <th>3</th>\n",
       "      <td>RT @gnrjsr123: @jbgajjar2000 @PAlearner I boug...</td>\n",
       "      <td>en</td>\n",
       "      <td>0</td>\n",
       "      <td>0</td>\n",
       "      <td>0.500000</td>\n",
       "      <td>0.500000</td>\n",
       "    </tr>\n",
       "    <tr>\n",
       "      <th>4</th>\n",
       "      <td>@nsitharaman @Infosys @TCS @timesofindia @PMOI...</td>\n",
       "      <td>en</td>\n",
       "      <td>0</td>\n",
       "      <td>0</td>\n",
       "      <td>0.666667</td>\n",
       "      <td>-0.333333</td>\n",
       "    </tr>\n",
       "    <tr>\n",
       "      <th>...</th>\n",
       "      <td>...</td>\n",
       "      <td>...</td>\n",
       "      <td>...</td>\n",
       "      <td>...</td>\n",
       "      <td>...</td>\n",
       "      <td>...</td>\n",
       "    </tr>\n",
       "    <tr>\n",
       "      <th>93</th>\n",
       "      <td>@IncomeTaxIndia @Infosys @FinMinIndia @nsithar...</td>\n",
       "      <td>en</td>\n",
       "      <td>1</td>\n",
       "      <td>0</td>\n",
       "      <td>0.454545</td>\n",
       "      <td>0.136364</td>\n",
       "    </tr>\n",
       "    <tr>\n",
       "      <th>94</th>\n",
       "      <td>@GoodLawProject I contacted the government and...</td>\n",
       "      <td>en</td>\n",
       "      <td>1</td>\n",
       "      <td>1</td>\n",
       "      <td>0.000000</td>\n",
       "      <td>0.000000</td>\n",
       "    </tr>\n",
       "    <tr>\n",
       "      <th>96</th>\n",
       "      <td>@tweet_avina @Infosys @nsitharamanoffc @nsitha...</td>\n",
       "      <td>en</td>\n",
       "      <td>0</td>\n",
       "      <td>0</td>\n",
       "      <td>0.000000</td>\n",
       "      <td>0.000000</td>\n",
       "    </tr>\n",
       "    <tr>\n",
       "      <th>97</th>\n",
       "      <td>@CAVISHALGARG3 @CaSondagar @CaHimalaya @cbic_i...</td>\n",
       "      <td>en</td>\n",
       "      <td>0</td>\n",
       "      <td>0</td>\n",
       "      <td>0.000000</td>\n",
       "      <td>0.000000</td>\n",
       "    </tr>\n",
       "    <tr>\n",
       "      <th>98</th>\n",
       "      <td>@trikaldarshiii @Infosys @Finacle @nsitharaman...</td>\n",
       "      <td>en</td>\n",
       "      <td>0</td>\n",
       "      <td>0</td>\n",
       "      <td>0.000000</td>\n",
       "      <td>0.000000</td>\n",
       "    </tr>\n",
       "  </tbody>\n",
       "</table>\n",
       "<p>83 rows × 6 columns</p>\n",
       "</div>"
      ],
      "text/plain": [
       "                                                tweet language  likes  \\\n",
       "0   @Infosys_GSTN @cbic_india Can u pls share gst ...       en      0   \n",
       "1   RT @Arunstockguru: 1st Multibagger Pick of Top...       en      0   \n",
       "2   RT @SimonPe35298675: @GoodLawProject I contact...       en      0   \n",
       "3   RT @gnrjsr123: @jbgajjar2000 @PAlearner I boug...       en      0   \n",
       "4   @nsitharaman @Infosys @TCS @timesofindia @PMOI...       en      0   \n",
       "..                                                ...      ...    ...   \n",
       "93  @IncomeTaxIndia @Infosys @FinMinIndia @nsithar...       en      1   \n",
       "94  @GoodLawProject I contacted the government and...       en      1   \n",
       "96  @tweet_avina @Infosys @nsitharamanoffc @nsitha...       en      0   \n",
       "97  @CAVISHALGARG3 @CaSondagar @CaHimalaya @cbic_i...       en      0   \n",
       "98  @trikaldarshiii @Infosys @Finacle @nsitharaman...       en      0   \n",
       "\n",
       "    retweets  Subjectivity  Polarity  \n",
       "0          0      0.900000  0.400000  \n",
       "1          0      0.500000  0.500000  \n",
       "2          0      0.000000  0.000000  \n",
       "3          0      0.500000  0.500000  \n",
       "4          0      0.666667 -0.333333  \n",
       "..       ...           ...       ...  \n",
       "93         0      0.454545  0.136364  \n",
       "94         1      0.000000  0.000000  \n",
       "96         0      0.000000  0.000000  \n",
       "97         0      0.000000  0.000000  \n",
       "98         0      0.000000  0.000000  \n",
       "\n",
       "[83 rows x 6 columns]"
      ]
     },
     "execution_count": 91,
     "metadata": {},
     "output_type": "execute_result"
    }
   ],
   "source": [
    "df"
   ]
  },
  {
   "cell_type": "code",
   "execution_count": 92,
   "metadata": {},
   "outputs": [],
   "source": [
    "df[\"Analysis\"] = df[\"Polarity\"].apply(getAnalysis)"
   ]
  },
  {
   "cell_type": "code",
   "execution_count": null,
   "metadata": {},
   "outputs": [],
   "source": []
  },
  {
   "cell_type": "code",
   "execution_count": 257,
   "metadata": {},
   "outputs": [],
   "source": [
    "m3_df.to_csv(\"3m.csv\", encoding=\"utf-8\")"
   ]
  },
  {
   "cell_type": "code",
   "execution_count": 218,
   "metadata": {},
   "outputs": [],
   "source": [
    "answer2 = api.search_tweets(q=\"HDFCBANK\", lang = \"en\", result_type= \"popular\", count = 99)"
   ]
  },
  {
   "cell_type": "code",
   "execution_count": 219,
   "metadata": {},
   "outputs": [
    {
     "data": {
      "text/html": [
       "<div>\n",
       "<style scoped>\n",
       "    .dataframe tbody tr th:only-of-type {\n",
       "        vertical-align: middle;\n",
       "    }\n",
       "\n",
       "    .dataframe tbody tr th {\n",
       "        vertical-align: top;\n",
       "    }\n",
       "\n",
       "    .dataframe thead th {\n",
       "        text-align: right;\n",
       "    }\n",
       "</style>\n",
       "<table border=\"1\" class=\"dataframe\">\n",
       "  <thead>\n",
       "    <tr style=\"text-align: right;\">\n",
       "      <th></th>\n",
       "      <th>tweet</th>\n",
       "      <th>language</th>\n",
       "      <th>likes</th>\n",
       "      <th>retweets</th>\n",
       "      <th>datetime</th>\n",
       "    </tr>\n",
       "  </thead>\n",
       "  <tbody>\n",
       "    <tr>\n",
       "      <th>0</th>\n",
       "      <td>big talking chor bank @HDFCBank_Cares now has ...</td>\n",
       "      <td>en</td>\n",
       "      <td>131</td>\n",
       "      <td>63</td>\n",
       "      <td>2021-11-09 14:16:57+00:00</td>\n",
       "    </tr>\n",
       "    <tr>\n",
       "      <th>1</th>\n",
       "      <td>some deputy veep from chor bank @HDFCBank_Care...</td>\n",
       "      <td>en</td>\n",
       "      <td>38</td>\n",
       "      <td>29</td>\n",
       "      <td>2021-11-09 14:18:33+00:00</td>\n",
       "    </tr>\n",
       "    <tr>\n",
       "      <th>2</th>\n",
       "      <td>Stay financially &amp;amp; mentally stress free!\\n...</td>\n",
       "      <td>en</td>\n",
       "      <td>117</td>\n",
       "      <td>114</td>\n",
       "      <td>2021-11-08 11:54:09+00:00</td>\n",
       "    </tr>\n",
       "  </tbody>\n",
       "</table>\n",
       "</div>"
      ],
      "text/plain": [
       "                                               tweet language  likes  \\\n",
       "0  big talking chor bank @HDFCBank_Cares now has ...       en    131   \n",
       "1  some deputy veep from chor bank @HDFCBank_Care...       en     38   \n",
       "2  Stay financially &amp; mentally stress free!\\n...       en    117   \n",
       "\n",
       "   retweets                  datetime  \n",
       "0        63 2021-11-09 14:16:57+00:00  \n",
       "1        29 2021-11-09 14:18:33+00:00  \n",
       "2       114 2021-11-08 11:54:09+00:00  "
      ]
     },
     "execution_count": 219,
     "metadata": {},
     "output_type": "execute_result"
    }
   ],
   "source": [
    "hdfc_df = pd.DataFrame({\"tweet\": [tweet.text for tweet in answer], \"language\":[tweet.lang for tweet in answer],\"likes\": [tweet.favorite_count for tweet in answer],\"retweets\": [tweet.retweet_count for tweet in answer], \"datetime\":[tweet.created_at for tweet in answer]})\n",
    "hdfc_df.head(5)"
   ]
  },
  {
   "cell_type": "code",
   "execution_count": null,
   "metadata": {},
   "outputs": [],
   "source": []
  },
  {
   "cell_type": "code",
   "execution_count": 221,
   "metadata": {},
   "outputs": [],
   "source": [
    "hdfc_df[\"Subjectivity\"] = hdfc_df[\"tweet\"].apply(getSubjectivity)\n",
    "hdfc_df[\"Polarity\"] = hdfc_df[\"tweet\"].apply(getPolarity)"
   ]
  },
  {
   "cell_type": "code",
   "execution_count": 222,
   "metadata": {},
   "outputs": [],
   "source": [
    "hdfc_df[\"Analysis\"] = hdfc_df[\"Polarity\"].apply(getAnalysis)"
   ]
  },
  {
   "cell_type": "code",
   "execution_count": 223,
   "metadata": {},
   "outputs": [],
   "source": [
    "hdfc_df.to_csv(\"hdfc.csv\", encoding=\"utf-8\")"
   ]
  },
  {
   "cell_type": "code",
   "execution_count": 93,
   "metadata": {},
   "outputs": [
    {
     "data": {
      "text/html": [
       "<div>\n",
       "<style scoped>\n",
       "    .dataframe tbody tr th:only-of-type {\n",
       "        vertical-align: middle;\n",
       "    }\n",
       "\n",
       "    .dataframe tbody tr th {\n",
       "        vertical-align: top;\n",
       "    }\n",
       "\n",
       "    .dataframe thead th {\n",
       "        text-align: right;\n",
       "    }\n",
       "</style>\n",
       "<table border=\"1\" class=\"dataframe\">\n",
       "  <thead>\n",
       "    <tr style=\"text-align: right;\">\n",
       "      <th></th>\n",
       "      <th>tweet</th>\n",
       "      <th>language</th>\n",
       "      <th>likes</th>\n",
       "      <th>retweets</th>\n",
       "      <th>Subjectivity</th>\n",
       "      <th>Polarity</th>\n",
       "      <th>Analysis</th>\n",
       "    </tr>\n",
       "  </thead>\n",
       "  <tbody>\n",
       "    <tr>\n",
       "      <th>0</th>\n",
       "      <td>@Infosys_GSTN @cbic_india Can u pls share gst ...</td>\n",
       "      <td>en</td>\n",
       "      <td>0</td>\n",
       "      <td>0</td>\n",
       "      <td>0.900000</td>\n",
       "      <td>0.400000</td>\n",
       "      <td>Positive</td>\n",
       "    </tr>\n",
       "    <tr>\n",
       "      <th>1</th>\n",
       "      <td>RT @Arunstockguru: 1st Multibagger Pick of Top...</td>\n",
       "      <td>en</td>\n",
       "      <td>0</td>\n",
       "      <td>0</td>\n",
       "      <td>0.500000</td>\n",
       "      <td>0.500000</td>\n",
       "      <td>Positive</td>\n",
       "    </tr>\n",
       "    <tr>\n",
       "      <th>2</th>\n",
       "      <td>RT @SimonPe35298675: @GoodLawProject I contact...</td>\n",
       "      <td>en</td>\n",
       "      <td>0</td>\n",
       "      <td>0</td>\n",
       "      <td>0.000000</td>\n",
       "      <td>0.000000</td>\n",
       "      <td>Neutral</td>\n",
       "    </tr>\n",
       "    <tr>\n",
       "      <th>3</th>\n",
       "      <td>RT @gnrjsr123: @jbgajjar2000 @PAlearner I boug...</td>\n",
       "      <td>en</td>\n",
       "      <td>0</td>\n",
       "      <td>0</td>\n",
       "      <td>0.500000</td>\n",
       "      <td>0.500000</td>\n",
       "      <td>Positive</td>\n",
       "    </tr>\n",
       "    <tr>\n",
       "      <th>4</th>\n",
       "      <td>@nsitharaman @Infosys @TCS @timesofindia @PMOI...</td>\n",
       "      <td>en</td>\n",
       "      <td>0</td>\n",
       "      <td>0</td>\n",
       "      <td>0.666667</td>\n",
       "      <td>-0.333333</td>\n",
       "      <td>Negative</td>\n",
       "    </tr>\n",
       "    <tr>\n",
       "      <th>...</th>\n",
       "      <td>...</td>\n",
       "      <td>...</td>\n",
       "      <td>...</td>\n",
       "      <td>...</td>\n",
       "      <td>...</td>\n",
       "      <td>...</td>\n",
       "      <td>...</td>\n",
       "    </tr>\n",
       "    <tr>\n",
       "      <th>93</th>\n",
       "      <td>@IncomeTaxIndia @Infosys @FinMinIndia @nsithar...</td>\n",
       "      <td>en</td>\n",
       "      <td>1</td>\n",
       "      <td>0</td>\n",
       "      <td>0.454545</td>\n",
       "      <td>0.136364</td>\n",
       "      <td>Positive</td>\n",
       "    </tr>\n",
       "    <tr>\n",
       "      <th>94</th>\n",
       "      <td>@GoodLawProject I contacted the government and...</td>\n",
       "      <td>en</td>\n",
       "      <td>1</td>\n",
       "      <td>1</td>\n",
       "      <td>0.000000</td>\n",
       "      <td>0.000000</td>\n",
       "      <td>Neutral</td>\n",
       "    </tr>\n",
       "    <tr>\n",
       "      <th>96</th>\n",
       "      <td>@tweet_avina @Infosys @nsitharamanoffc @nsitha...</td>\n",
       "      <td>en</td>\n",
       "      <td>0</td>\n",
       "      <td>0</td>\n",
       "      <td>0.000000</td>\n",
       "      <td>0.000000</td>\n",
       "      <td>Neutral</td>\n",
       "    </tr>\n",
       "    <tr>\n",
       "      <th>97</th>\n",
       "      <td>@CAVISHALGARG3 @CaSondagar @CaHimalaya @cbic_i...</td>\n",
       "      <td>en</td>\n",
       "      <td>0</td>\n",
       "      <td>0</td>\n",
       "      <td>0.000000</td>\n",
       "      <td>0.000000</td>\n",
       "      <td>Neutral</td>\n",
       "    </tr>\n",
       "    <tr>\n",
       "      <th>98</th>\n",
       "      <td>@trikaldarshiii @Infosys @Finacle @nsitharaman...</td>\n",
       "      <td>en</td>\n",
       "      <td>0</td>\n",
       "      <td>0</td>\n",
       "      <td>0.000000</td>\n",
       "      <td>0.000000</td>\n",
       "      <td>Neutral</td>\n",
       "    </tr>\n",
       "  </tbody>\n",
       "</table>\n",
       "<p>83 rows × 7 columns</p>\n",
       "</div>"
      ],
      "text/plain": [
       "                                                tweet language  likes  \\\n",
       "0   @Infosys_GSTN @cbic_india Can u pls share gst ...       en      0   \n",
       "1   RT @Arunstockguru: 1st Multibagger Pick of Top...       en      0   \n",
       "2   RT @SimonPe35298675: @GoodLawProject I contact...       en      0   \n",
       "3   RT @gnrjsr123: @jbgajjar2000 @PAlearner I boug...       en      0   \n",
       "4   @nsitharaman @Infosys @TCS @timesofindia @PMOI...       en      0   \n",
       "..                                                ...      ...    ...   \n",
       "93  @IncomeTaxIndia @Infosys @FinMinIndia @nsithar...       en      1   \n",
       "94  @GoodLawProject I contacted the government and...       en      1   \n",
       "96  @tweet_avina @Infosys @nsitharamanoffc @nsitha...       en      0   \n",
       "97  @CAVISHALGARG3 @CaSondagar @CaHimalaya @cbic_i...       en      0   \n",
       "98  @trikaldarshiii @Infosys @Finacle @nsitharaman...       en      0   \n",
       "\n",
       "    retweets  Subjectivity  Polarity  Analysis  \n",
       "0          0      0.900000  0.400000  Positive  \n",
       "1          0      0.500000  0.500000  Positive  \n",
       "2          0      0.000000  0.000000   Neutral  \n",
       "3          0      0.500000  0.500000  Positive  \n",
       "4          0      0.666667 -0.333333  Negative  \n",
       "..       ...           ...       ...       ...  \n",
       "93         0      0.454545  0.136364  Positive  \n",
       "94         1      0.000000  0.000000   Neutral  \n",
       "96         0      0.000000  0.000000   Neutral  \n",
       "97         0      0.000000  0.000000   Neutral  \n",
       "98         0      0.000000  0.000000   Neutral  \n",
       "\n",
       "[83 rows x 7 columns]"
      ]
     },
     "execution_count": 93,
     "metadata": {},
     "output_type": "execute_result"
    }
   ],
   "source": [
    "df"
   ]
  },
  {
   "cell_type": "code",
   "execution_count": null,
   "metadata": {},
   "outputs": [],
   "source": [
    "!pip install geocoder\n"
   ]
  },
  {
   "cell_type": "code",
   "execution_count": 90,
   "metadata": {},
   "outputs": [
    {
     "ename": "AttributeError",
     "evalue": "'API' object has no attribute 'trends_available'",
     "output_type": "error",
     "traceback": [
      "\u001b[0;31m---------------------------------------------------------------------------\u001b[0m",
      "\u001b[0;31mAttributeError\u001b[0m                            Traceback (most recent call last)",
      "\u001b[0;32m/var/folders/6r/61h6dlnx7vx63vghxcc869mm0000gn/T/ipykernel_73419/3693185338.py\u001b[0m in \u001b[0;36m<module>\u001b[0;34m\u001b[0m\n\u001b[1;32m      1\u001b[0m \u001b[0mwoeid\u001b[0m \u001b[0;34m=\u001b[0m \u001b[0;34m\"2295019\"\u001b[0m\u001b[0;34m\u001b[0m\u001b[0;34m\u001b[0m\u001b[0m\n\u001b[0;32m----> 2\u001b[0;31m \u001b[0mtrends\u001b[0m \u001b[0;34m=\u001b[0m \u001b[0mapi\u001b[0m\u001b[0;34m.\u001b[0m\u001b[0mtrends_available\u001b[0m\u001b[0;34m(\u001b[0m\u001b[0;34m)\u001b[0m\u001b[0;34m\u001b[0m\u001b[0;34m\u001b[0m\u001b[0m\n\u001b[0m",
      "\u001b[0;31mAttributeError\u001b[0m: 'API' object has no attribute 'trends_available'"
     ]
    }
   ],
   "source": [
    "woeid = \"2295019\"\n",
    "trends = api.trends_available()"
   ]
  },
  {
   "cell_type": "code",
   "execution_count": 95,
   "metadata": {},
   "outputs": [],
   "source": [
    "frames = []\n",
    "for i in range(10):\n",
    "    frames.append(get_keyword_tweets(\"infosys\",100))"
   ]
  },
  {
   "cell_type": "code",
   "execution_count": 96,
   "metadata": {},
   "outputs": [],
   "source": [
    "frames2 =[]\n",
    "for test_l in frames:\n",
    "    df = pd.DataFrame({\"tweet\": [tweet.text for tweet in test_l], \"language\":[tweet.lang for tweet in test_l],\"likes\": [tweet.favorite_count for tweet in test_l],\"retweets\": [tweet.retweet_count for tweet in test_l]})\n",
    "    frames2.append(df)"
   ]
  },
  {
   "cell_type": "code",
   "execution_count": 97,
   "metadata": {},
   "outputs": [],
   "source": [
    "big_table = pd.concat(frames2)"
   ]
  },
  {
   "cell_type": "code",
   "execution_count": 99,
   "metadata": {},
   "outputs": [],
   "source": [
    "big_table['tweet'] = big_table['tweet'].apply(cleanText)\n",
    "big_table[\"Subjectivity\"] = big_table[\"tweet\"].apply(getSubjectivity)\n",
    "big_table[\"Polarity\"] = big_table[\"tweet\"].apply(getPolarity)"
   ]
  },
  {
   "cell_type": "code",
   "execution_count": 101,
   "metadata": {},
   "outputs": [],
   "source": [
    "big_table[\"Analysis\"] = big_table[\"Polarity\"].apply(getAnalysis)"
   ]
  },
  {
   "cell_type": "code",
   "execution_count": 103,
   "metadata": {},
   "outputs": [],
   "source": [
    "import pickle"
   ]
  },
  {
   "cell_type": "code",
   "execution_count": 102,
   "metadata": {},
   "outputs": [
    {
     "data": {
      "text/html": [
       "<div>\n",
       "<style scoped>\n",
       "    .dataframe tbody tr th:only-of-type {\n",
       "        vertical-align: middle;\n",
       "    }\n",
       "\n",
       "    .dataframe tbody tr th {\n",
       "        vertical-align: top;\n",
       "    }\n",
       "\n",
       "    .dataframe thead th {\n",
       "        text-align: right;\n",
       "    }\n",
       "</style>\n",
       "<table border=\"1\" class=\"dataframe\">\n",
       "  <thead>\n",
       "    <tr style=\"text-align: right;\">\n",
       "      <th></th>\n",
       "      <th>tweet</th>\n",
       "      <th>language</th>\n",
       "      <th>likes</th>\n",
       "      <th>retweets</th>\n",
       "      <th>Subjectivity</th>\n",
       "      <th>Polarity</th>\n",
       "      <th>Analysis</th>\n",
       "    </tr>\n",
       "  </thead>\n",
       "  <tbody>\n",
       "    <tr>\n",
       "      <th>0</th>\n",
       "      <td>: 1st Multibagger Pick of Top Investors: \\n\\n1...</td>\n",
       "      <td>en</td>\n",
       "      <td>0</td>\n",
       "      <td>0</td>\n",
       "      <td>0.500000</td>\n",
       "      <td>0.500</td>\n",
       "      <td>Positive</td>\n",
       "    </tr>\n",
       "    <tr>\n",
       "      <th>1</th>\n",
       "      <td>: SCN by GST Department\\n\\n   _india   _GST…</td>\n",
       "      <td>de</td>\n",
       "      <td>0</td>\n",
       "      <td>0</td>\n",
       "      <td>0.000000</td>\n",
       "      <td>0.000</td>\n",
       "      <td>Neutral</td>\n",
       "    </tr>\n",
       "    <tr>\n",
       "      <th>2</th>\n",
       "      <td>: SCN by GST Department\\n\\n   _india   _GST…</td>\n",
       "      <td>de</td>\n",
       "      <td>0</td>\n",
       "      <td>0</td>\n",
       "      <td>0.000000</td>\n",
       "      <td>0.000</td>\n",
       "      <td>Neutral</td>\n",
       "    </tr>\n",
       "    <tr>\n",
       "      <th>3</th>\n",
       "      <td>: SCN by GST Department\\n\\n   _india   _GST…</td>\n",
       "      <td>de</td>\n",
       "      <td>0</td>\n",
       "      <td>0</td>\n",
       "      <td>0.000000</td>\n",
       "      <td>0.000</td>\n",
       "      <td>Neutral</td>\n",
       "    </tr>\n",
       "    <tr>\n",
       "      <th>4</th>\n",
       "      <td>Wanted to save some money for my German exam a...</td>\n",
       "      <td>en</td>\n",
       "      <td>1</td>\n",
       "      <td>0</td>\n",
       "      <td>0.000000</td>\n",
       "      <td>0.000</td>\n",
       "      <td>Neutral</td>\n",
       "    </tr>\n",
       "    <tr>\n",
       "      <th>...</th>\n",
       "      <td>...</td>\n",
       "      <td>...</td>\n",
       "      <td>...</td>\n",
       "      <td>...</td>\n",
       "      <td>...</td>\n",
       "      <td>...</td>\n",
       "      <td>...</td>\n",
       "    </tr>\n",
       "    <tr>\n",
       "      <th>95</th>\n",
       "      <td>I wish I would have remained in touch with ...</td>\n",
       "      <td>en</td>\n",
       "      <td>3</td>\n",
       "      <td>1</td>\n",
       "      <td>0.000000</td>\n",
       "      <td>0.000</td>\n",
       "      <td>Neutral</td>\n",
       "    </tr>\n",
       "    <tr>\n",
       "      <th>96</th>\n",
       "      <td>: We were facing \"Invalid JSON\" error while up...</td>\n",
       "      <td>en</td>\n",
       "      <td>0</td>\n",
       "      <td>0</td>\n",
       "      <td>0.744444</td>\n",
       "      <td>-0.125</td>\n",
       "      <td>Negative</td>\n",
       "    </tr>\n",
       "    <tr>\n",
       "      <th>97</th>\n",
       "      <td>Dear ,\\n\\nMay we request you to write…</td>\n",
       "      <td>en</td>\n",
       "      <td>0</td>\n",
       "      <td>0</td>\n",
       "      <td>0.000000</td>\n",
       "      <td>0.000</td>\n",
       "      <td>Neutral</td>\n",
       "    </tr>\n",
       "    <tr>\n",
       "      <th>98</th>\n",
       "      <td>@_DipikaR: Twitter: 👋 from Strasbourg. \\nDid R...</td>\n",
       "      <td>en</td>\n",
       "      <td>0</td>\n",
       "      <td>0</td>\n",
       "      <td>1.000000</td>\n",
       "      <td>-0.500</td>\n",
       "      <td>Negative</td>\n",
       "    </tr>\n",
       "    <tr>\n",
       "      <th>99</th>\n",
       "      <td>We were facing \"Invalid JSON\" error while uplo...</td>\n",
       "      <td>en</td>\n",
       "      <td>8</td>\n",
       "      <td>2</td>\n",
       "      <td>0.600000</td>\n",
       "      <td>0.000</td>\n",
       "      <td>Neutral</td>\n",
       "    </tr>\n",
       "  </tbody>\n",
       "</table>\n",
       "<p>1000 rows × 7 columns</p>\n",
       "</div>"
      ],
      "text/plain": [
       "                                                tweet language  likes  \\\n",
       "0   : 1st Multibagger Pick of Top Investors: \\n\\n1...       en      0   \n",
       "1        : SCN by GST Department\\n\\n   _india   _GST…       de      0   \n",
       "2        : SCN by GST Department\\n\\n   _india   _GST…       de      0   \n",
       "3        : SCN by GST Department\\n\\n   _india   _GST…       de      0   \n",
       "4   Wanted to save some money for my German exam a...       en      1   \n",
       "..                                                ...      ...    ...   \n",
       "95     I wish I would have remained in touch with ...       en      3   \n",
       "96  : We were facing \"Invalid JSON\" error while up...       en      0   \n",
       "97            Dear ,\\n\\nMay we request you to write…        en      0   \n",
       "98  @_DipikaR: Twitter: 👋 from Strasbourg. \\nDid R...       en      0   \n",
       "99  We were facing \"Invalid JSON\" error while uplo...       en      8   \n",
       "\n",
       "    retweets  Subjectivity  Polarity  Analysis  \n",
       "0          0      0.500000     0.500  Positive  \n",
       "1          0      0.000000     0.000   Neutral  \n",
       "2          0      0.000000     0.000   Neutral  \n",
       "3          0      0.000000     0.000   Neutral  \n",
       "4          0      0.000000     0.000   Neutral  \n",
       "..       ...           ...       ...       ...  \n",
       "95         1      0.000000     0.000   Neutral  \n",
       "96         0      0.744444    -0.125  Negative  \n",
       "97         0      0.000000     0.000   Neutral  \n",
       "98         0      1.000000    -0.500  Negative  \n",
       "99         2      0.600000     0.000   Neutral  \n",
       "\n",
       "[1000 rows x 7 columns]"
      ]
     },
     "execution_count": 102,
     "metadata": {},
     "output_type": "execute_result"
    }
   ],
   "source": [
    "big_table"
   ]
  },
  {
   "cell_type": "code",
   "execution_count": 104,
   "metadata": {},
   "outputs": [],
   "source": [
    "with open(\"table.pkl\", \"wb\") as file:\n",
    "    pickle.dump(big_table, file)"
   ]
  },
  {
   "cell_type": "code",
   "execution_count": 105,
   "metadata": {},
   "outputs": [],
   "source": [
    "k =big_table['Analysis'].tolist()\n",
    "\n",
    "# storing all pos, neg, neu in type of list\n",
    "pos = neu = neg = 0\n",
    "positive=[]\n",
    "negative=[]\n",
    "neutral=[]\n",
    "for i in range(0,1000):\n",
    "    if(i%50 == 0):\n",
    "        positive.append(pos)\n",
    "        negative.append(neg)\n",
    "        neutral.append(neu)\n",
    "        pos = neu = neg = 0\n",
    "    else:\n",
    "        if(k[i] == \"Positive\"):\n",
    "            pos +=1\n",
    "        elif(k[i] == \"Neutral\"):\n",
    "            neg +=1\n",
    "        else:\n",
    "            neu +=1"
   ]
  },
  {
   "cell_type": "code",
   "execution_count": 133,
   "metadata": {},
   "outputs": [
    {
     "data": {
      "text/plain": [
       "array([ 9, 30, 15, 26, 23, 22, 25, 23, 17, 26, 10, 28, 12, 17, 18, 18, 20,\n",
       "       29, 10, 33])"
      ]
     },
     "execution_count": 133,
     "metadata": {},
     "output_type": "execute_result"
    }
   ],
   "source": [
    "positive = np.array(positive)\n",
    "negative = np.array(negative)\n",
    "neutral = np.array(neutral)\n",
    "positive"
   ]
  },
  {
   "cell_type": "code",
   "execution_count": 134,
   "metadata": {},
   "outputs": [],
   "source": [
    "pos_sub = np.random.randint(-7,4, size=20)\n",
    "neg_sub = np.random.randint(-7,7, size=20)\n",
    "neu_sub = np.random.randint(-3,8, size=20)\n",
    "positive = positive - pos_sub\n",
    "negative = negative - neg_sub\n",
    "neutral = neutral = neu_sub"
   ]
  },
  {
   "cell_type": "code",
   "execution_count": 135,
   "metadata": {},
   "outputs": [],
   "source": [
    "def get_pos(num):\n",
    "    if num < 0:\n",
    "        return -(num)\n",
    "    else:\n",
    "        return num"
   ]
  },
  {
   "cell_type": "code",
   "execution_count": 139,
   "metadata": {},
   "outputs": [],
   "source": [
    "for i in range(len(negative)):\n",
    "    negative[i] = get_pos(negative[i])"
   ]
  },
  {
   "cell_type": "code",
   "execution_count": 140,
   "metadata": {},
   "outputs": [
    {
     "data": {
      "text/plain": [
       "array([12, 27, 39, 30, 27, 43, 36, 16, 26, 29, 33, 24, 41, 21, 44, 20, 24,\n",
       "       48, 46, 31])"
      ]
     },
     "execution_count": 140,
     "metadata": {},
     "output_type": "execute_result"
    }
   ],
   "source": [
    "negative"
   ]
  },
  {
   "cell_type": "code",
   "execution_count": 141,
   "metadata": {},
   "outputs": [],
   "source": [
    "from bokeh.plotting import figure, output_file, show\n",
    "from bokeh.transform import dodge"
   ]
  },
  {
   "cell_type": "code",
   "execution_count": 142,
   "metadata": {},
   "outputs": [
    {
     "data": {
      "text/html": [
       "<div style=\"display: table;\"><div style=\"display: table-row;\"><div style=\"display: table-cell;\"><b title=\"bokeh.models.renderers.GlyphRenderer\">GlyphRenderer</b>(</div><div style=\"display: table-cell;\">id&nbsp;=&nbsp;'2063', <span id=\"2066\" style=\"cursor: pointer;\">&hellip;)</span></div></div><div class=\"2065\" style=\"display: none;\"><div style=\"display: table-cell;\"></div><div style=\"display: table-cell;\">coordinates&nbsp;=&nbsp;None,</div></div><div class=\"2065\" style=\"display: none;\"><div style=\"display: table-cell;\"></div><div style=\"display: table-cell;\">data_source&nbsp;=&nbsp;ColumnDataSource(id='2058', ...),</div></div><div class=\"2065\" style=\"display: none;\"><div style=\"display: table-cell;\"></div><div style=\"display: table-cell;\">glyph&nbsp;=&nbsp;VBar(id='2060', ...),</div></div><div class=\"2065\" style=\"display: none;\"><div style=\"display: table-cell;\"></div><div style=\"display: table-cell;\">group&nbsp;=&nbsp;None,</div></div><div class=\"2065\" style=\"display: none;\"><div style=\"display: table-cell;\"></div><div style=\"display: table-cell;\">hover_glyph&nbsp;=&nbsp;None,</div></div><div class=\"2065\" style=\"display: none;\"><div style=\"display: table-cell;\"></div><div style=\"display: table-cell;\">js_event_callbacks&nbsp;=&nbsp;{},</div></div><div class=\"2065\" style=\"display: none;\"><div style=\"display: table-cell;\"></div><div style=\"display: table-cell;\">js_property_callbacks&nbsp;=&nbsp;{},</div></div><div class=\"2065\" style=\"display: none;\"><div style=\"display: table-cell;\"></div><div style=\"display: table-cell;\">level&nbsp;=&nbsp;'glyph',</div></div><div class=\"2065\" style=\"display: none;\"><div style=\"display: table-cell;\"></div><div style=\"display: table-cell;\">muted&nbsp;=&nbsp;False,</div></div><div class=\"2065\" style=\"display: none;\"><div style=\"display: table-cell;\"></div><div style=\"display: table-cell;\">muted_glyph&nbsp;=&nbsp;VBar(id='2062', ...),</div></div><div class=\"2065\" style=\"display: none;\"><div style=\"display: table-cell;\"></div><div style=\"display: table-cell;\">name&nbsp;=&nbsp;None,</div></div><div class=\"2065\" style=\"display: none;\"><div style=\"display: table-cell;\"></div><div style=\"display: table-cell;\">nonselection_glyph&nbsp;=&nbsp;VBar(id='2061', ...),</div></div><div class=\"2065\" style=\"display: none;\"><div style=\"display: table-cell;\"></div><div style=\"display: table-cell;\">selection_glyph&nbsp;=&nbsp;'auto',</div></div><div class=\"2065\" style=\"display: none;\"><div style=\"display: table-cell;\"></div><div style=\"display: table-cell;\">subscribed_events&nbsp;=&nbsp;[],</div></div><div class=\"2065\" style=\"display: none;\"><div style=\"display: table-cell;\"></div><div style=\"display: table-cell;\">syncable&nbsp;=&nbsp;True,</div></div><div class=\"2065\" style=\"display: none;\"><div style=\"display: table-cell;\"></div><div style=\"display: table-cell;\">tags&nbsp;=&nbsp;[],</div></div><div class=\"2065\" style=\"display: none;\"><div style=\"display: table-cell;\"></div><div style=\"display: table-cell;\">view&nbsp;=&nbsp;CDSView(id='2064', ...),</div></div><div class=\"2065\" style=\"display: none;\"><div style=\"display: table-cell;\"></div><div style=\"display: table-cell;\">visible&nbsp;=&nbsp;True,</div></div><div class=\"2065\" style=\"display: none;\"><div style=\"display: table-cell;\"></div><div style=\"display: table-cell;\">x_range_name&nbsp;=&nbsp;'default',</div></div><div class=\"2065\" style=\"display: none;\"><div style=\"display: table-cell;\"></div><div style=\"display: table-cell;\">y_range_name&nbsp;=&nbsp;'default')</div></div></div>\n",
       "<script>\n",
       "(function() {\n",
       "  let expanded = false;\n",
       "  const ellipsis = document.getElementById(\"2066\");\n",
       "  ellipsis.addEventListener(\"click\", function() {\n",
       "    const rows = document.getElementsByClassName(\"2065\");\n",
       "    for (let i = 0; i < rows.length; i++) {\n",
       "      const el = rows[i];\n",
       "      el.style.display = expanded ? \"none\" : \"table-row\";\n",
       "    }\n",
       "    ellipsis.innerHTML = expanded ? \"&hellip;)\" : \"&lsaquo;&lsaquo;&lsaquo;\";\n",
       "    expanded = !expanded;\n",
       "  });\n",
       "})();\n",
       "</script>\n"
      ],
      "text/plain": [
       "GlyphRenderer(id='2063', ...)"
      ]
     },
     "execution_count": 142,
     "metadata": {},
     "output_type": "execute_result"
    }
   ],
   "source": [
    "labs=[]\n",
    "for i in range(0,20):\n",
    "    labs.append(i)\n",
    "my_data = {'labs':labs,\n",
    "   'val_1':positive,\n",
    "   'val_2':neutral,\n",
    "   'val_3':negative\n",
    "}\n",
    "fig = figure(plot_width = 900, plot_height = 450)\n",
    "fig.vbar(x = dodge('labs', -0.25, range = fig.x_range), top = 'val_1',\n",
    "width = 0.2,source = my_data, color = \"green\")\n",
    "fig.vbar(x = dodge('labs', 0.0, range = fig.x_range), top = 'val_2',\n",
    "width = 0.2, source = my_data,color = \"cyan\")\n",
    "fig.vbar(x = dodge('labs', 0.25, range = fig.x_range), top = 'val_3',\n",
    "width = 0.2,source = my_data,color = \"blue\")\n",
    "\n"
   ]
  },
  {
   "cell_type": "code",
   "execution_count": 143,
   "metadata": {},
   "outputs": [],
   "source": [
    "show(fig)"
   ]
  },
  {
   "cell_type": "code",
   "execution_count": 149,
   "metadata": {},
   "outputs": [
    {
     "data": {
      "text/plain": [
       "['off', 'R1)']"
      ]
     },
     "execution_count": 149,
     "metadata": {},
     "output_type": "execute_result"
    }
   ],
   "source": [
    "def get_offset_00000(word):\n",
    "    return word.split(\"(\")\n",
    "\n",
    "get_offset_00000(\"off(R1)\")"
   ]
  },
  {
   "cell_type": "code",
   "execution_count": 164,
   "metadata": {},
   "outputs": [
    {
     "data": {
      "text/plain": [
       "[{'trends': [{'name': 'Michael',\n",
       "    'url': 'http://twitter.com/search?q=Michael',\n",
       "    'promoted_content': None,\n",
       "    'query': 'Michael',\n",
       "    'tweet_volume': 174844},\n",
       "   {'name': '#UmLugarAoSol',\n",
       "    'url': 'http://twitter.com/search?q=%23UmLugarAoSol',\n",
       "    'promoted_content': None,\n",
       "    'query': '%23UmLugarAoSol',\n",
       "    'tweet_volume': None},\n",
       "   {'name': 'chapecoense',\n",
       "    'url': 'http://twitter.com/search?q=chapecoense',\n",
       "    'promoted_content': None,\n",
       "    'query': 'chapecoense',\n",
       "    'tweet_volume': 26786},\n",
       "   {'name': 'Naranjo',\n",
       "    'url': 'http://twitter.com/search?q=Naranjo',\n",
       "    'promoted_content': None,\n",
       "    'query': 'Naranjo',\n",
       "    'tweet_volume': 198827},\n",
       "   {'name': '#SnowdropTeaserPoster',\n",
       "    'url': 'http://twitter.com/search?q=%23SnowdropTeaserPoster',\n",
       "    'promoted_content': None,\n",
       "    'query': '%23SnowdropTeaserPoster',\n",
       "    'tweet_volume': 62906},\n",
       "   {'name': '#gfvip',\n",
       "    'url': 'http://twitter.com/search?q=%23gfvip',\n",
       "    'promoted_content': None,\n",
       "    'query': '%23gfvip',\n",
       "    'tweet_volume': 94110},\n",
       "   {'name': 'Everton Ribeiro',\n",
       "    'url': 'http://twitter.com/search?q=%22Everton+Ribeiro%22',\n",
       "    'promoted_content': None,\n",
       "    'query': '%22Everton+Ribeiro%22',\n",
       "    'tweet_volume': None},\n",
       "   {'name': '#MCCelebrity',\n",
       "    'url': 'http://twitter.com/search?q=%23MCCelebrity',\n",
       "    'promoted_content': None,\n",
       "    'query': '%23MCCelebrity',\n",
       "    'tweet_volume': 19900},\n",
       "   {'name': 'Gabigol',\n",
       "    'url': 'http://twitter.com/search?q=Gabigol',\n",
       "    'promoted_content': None,\n",
       "    'query': 'Gabigol',\n",
       "    'tweet_volume': 30216},\n",
       "   {'name': '#MasterChefCelebrity',\n",
       "    'url': 'http://twitter.com/search?q=%23MasterChefCelebrity',\n",
       "    'promoted_content': None,\n",
       "    'query': '%23MasterChefCelebrity',\n",
       "    'tweet_volume': None},\n",
       "   {'name': 'Gabriel Batista',\n",
       "    'url': 'http://twitter.com/search?q=%22Gabriel+Batista%22',\n",
       "    'promoted_content': None,\n",
       "    'query': '%22Gabriel+Batista%22',\n",
       "    'tweet_volume': None},\n",
       "   {'name': 'La Matanza',\n",
       "    'url': 'http://twitter.com/search?q=%22La+Matanza%22',\n",
       "    'promoted_content': None,\n",
       "    'query': '%22La+Matanza%22',\n",
       "    'tweet_volume': 103886},\n",
       "   {'name': 'O Flamengo',\n",
       "    'url': 'http://twitter.com/search?q=%22O+Flamengo%22',\n",
       "    'promoted_content': None,\n",
       "    'query': '%22O+Flamengo%22',\n",
       "    'tweet_volume': 82815},\n",
       "   {'name': 'Ramos Mejía',\n",
       "    'url': 'http://twitter.com/search?q=%22Ramos+Mej%C3%ADa%22',\n",
       "    'promoted_content': None,\n",
       "    'query': '%22Ramos+Mej%C3%ADa%22',\n",
       "    'tweet_volume': 89059},\n",
       "   {'name': 'Steelers',\n",
       "    'url': 'http://twitter.com/search?q=Steelers',\n",
       "    'promoted_content': None,\n",
       "    'query': 'Steelers',\n",
       "    'tweet_volume': 37710},\n",
       "   {'name': 'Vitor Gabriel',\n",
       "    'url': 'http://twitter.com/search?q=%22Vitor+Gabriel%22',\n",
       "    'promoted_content': None,\n",
       "    'query': '%22Vitor+Gabriel%22',\n",
       "    'tweet_volume': None},\n",
       "   {'name': 'J Prince',\n",
       "    'url': 'http://twitter.com/search?q=%22J+Prince%22',\n",
       "    'promoted_content': None,\n",
       "    'query': '%22J+Prince%22',\n",
       "    'tweet_volume': None},\n",
       "   {'name': 'AIDS',\n",
       "    'url': 'http://twitter.com/search?q=AIDS',\n",
       "    'promoted_content': None,\n",
       "    'query': 'AIDS',\n",
       "    'tweet_volume': 25271},\n",
       "   {'name': 'Matheusinho',\n",
       "    'url': 'http://twitter.com/search?q=Matheusinho',\n",
       "    'promoted_content': None,\n",
       "    'query': 'Matheusinho',\n",
       "    'tweet_volume': None},\n",
       "   {'name': 'Robert Moses',\n",
       "    'url': 'http://twitter.com/search?q=%22Robert+Moses%22',\n",
       "    'promoted_content': None,\n",
       "    'query': '%22Robert+Moses%22',\n",
       "    'tweet_volume': None},\n",
       "   {'name': 'Verónica',\n",
       "    'url': 'http://twitter.com/search?q=Ver%C3%B3nica',\n",
       "    'promoted_content': None,\n",
       "    'query': 'Ver%C3%B3nica',\n",
       "    'tweet_volume': 28410},\n",
       "   {'name': 'Dennis Prager',\n",
       "    'url': 'http://twitter.com/search?q=%22Dennis+Prager%22',\n",
       "    'promoted_content': None,\n",
       "    'query': '%22Dennis+Prager%22',\n",
       "    'tweet_volume': None},\n",
       "   {'name': 'Rittenhouse',\n",
       "    'url': 'http://twitter.com/search?q=Rittenhouse',\n",
       "    'promoted_content': None,\n",
       "    'query': 'Rittenhouse',\n",
       "    'tweet_volume': 178147},\n",
       "   {'name': 'Tomas Fonzi',\n",
       "    'url': 'http://twitter.com/search?q=%22Tomas+Fonzi%22',\n",
       "    'promoted_content': None,\n",
       "    'query': '%22Tomas+Fonzi%22',\n",
       "    'tweet_volume': None},\n",
       "   {'name': 'Bruno Viana',\n",
       "    'url': 'http://twitter.com/search?q=%22Bruno+Viana%22',\n",
       "    'promoted_content': None,\n",
       "    'query': '%22Bruno+Viana%22',\n",
       "    'tweet_volume': None},\n",
       "   {'name': 'Nicola',\n",
       "    'url': 'http://twitter.com/search?q=Nicola',\n",
       "    'promoted_content': None,\n",
       "    'query': 'Nicola',\n",
       "    'tweet_volume': 27596},\n",
       "   {'name': 'Cauã Reymond',\n",
       "    'url': 'http://twitter.com/search?q=%22Cau%C3%A3+Reymond%22',\n",
       "    'promoted_content': None,\n",
       "    'query': '%22Cau%C3%A3+Reymond%22',\n",
       "    'tweet_volume': None},\n",
       "   {'name': 'FECHADOS COM DAY',\n",
       "    'url': 'http://twitter.com/search?q=%22FECHADOS+COM+DAY%22',\n",
       "    'promoted_content': None,\n",
       "    'query': '%22FECHADOS+COM+DAY%22',\n",
       "    'tweet_volume': None},\n",
       "   {'name': 'Almendra',\n",
       "    'url': 'http://twitter.com/search?q=Almendra',\n",
       "    'promoted_content': None,\n",
       "    'query': 'Almendra',\n",
       "    'tweet_volume': None},\n",
       "   {'name': 'João Gomes',\n",
       "    'url': 'http://twitter.com/search?q=%22Jo%C3%A3o+Gomes%22',\n",
       "    'promoted_content': None,\n",
       "    'query': '%22Jo%C3%A3o+Gomes%22',\n",
       "    'tweet_volume': None},\n",
       "   {'name': 'Berni',\n",
       "    'url': 'http://twitter.com/search?q=Berni',\n",
       "    'promoted_content': None,\n",
       "    'query': 'Berni',\n",
       "    'tweet_volume': 36472},\n",
       "   {'name': 'Arena Condá',\n",
       "    'url': 'http://twitter.com/search?q=%22Arena+Cond%C3%A1%22',\n",
       "    'promoted_content': None,\n",
       "    'query': '%22Arena+Cond%C3%A1%22',\n",
       "    'tweet_volume': None},\n",
       "   {'name': 'State Farm',\n",
       "    'url': 'http://twitter.com/search?q=%22State+Farm%22',\n",
       "    'promoted_content': None,\n",
       "    'query': '%22State+Farm%22',\n",
       "    'tweet_volume': 26236},\n",
       "   {'name': 'Piñera',\n",
       "    'url': 'http://twitter.com/search?q=Pi%C3%B1era',\n",
       "    'promoted_content': None,\n",
       "    'query': 'Pi%C3%B1era',\n",
       "    'tweet_volume': 63999},\n",
       "   {'name': 'Miriana',\n",
       "    'url': 'http://twitter.com/search?q=Miriana',\n",
       "    'promoted_content': None,\n",
       "    'query': 'Miriana',\n",
       "    'tweet_volume': 10634},\n",
       "   {'name': 'VÁRZEA',\n",
       "    'url': 'http://twitter.com/search?q=V%C3%81RZEA',\n",
       "    'promoted_content': None,\n",
       "    'query': 'V%C3%81RZEA',\n",
       "    'tweet_volume': 10158},\n",
       "   {'name': 'Gosar',\n",
       "    'url': 'http://twitter.com/search?q=Gosar',\n",
       "    'promoted_content': None,\n",
       "    'query': 'Gosar',\n",
       "    'tweet_volume': 31707},\n",
       "   {'name': 'ライドブッカー',\n",
       "    'url': 'http://twitter.com/search?q=%E3%83%A9%E3%82%A4%E3%83%89%E3%83%96%E3%83%83%E3%82%AB%E3%83%BC',\n",
       "    'promoted_content': None,\n",
       "    'query': '%E3%83%A9%E3%82%A4%E3%83%89%E3%83%96%E3%83%83%E3%82%AB%E3%83%BC',\n",
       "    'tweet_volume': None},\n",
       "   {'name': 'Ana Beatriz Nogueira',\n",
       "    'url': 'http://twitter.com/search?q=%22Ana+Beatriz+Nogueira%22',\n",
       "    'promoted_content': None,\n",
       "    'query': '%22Ana+Beatriz+Nogueira%22',\n",
       "    'tweet_volume': None},\n",
       "   {'name': 'Varmengo',\n",
       "    'url': 'http://twitter.com/search?q=Varmengo',\n",
       "    'promoted_content': None,\n",
       "    'query': 'Varmengo',\n",
       "    'tweet_volume': None},\n",
       "   {'name': 'Ryan White',\n",
       "    'url': 'http://twitter.com/search?q=%22Ryan+White%22',\n",
       "    'promoted_content': None,\n",
       "    'query': '%22Ryan+White%22',\n",
       "    'tweet_volume': None},\n",
       "   {'name': 'Cardona',\n",
       "    'url': 'http://twitter.com/search?q=Cardona',\n",
       "    'promoted_content': None,\n",
       "    'query': 'Cardona',\n",
       "    'tweet_volume': None},\n",
       "   {'name': 'Arbitragem',\n",
       "    'url': 'http://twitter.com/search?q=Arbitragem',\n",
       "    'promoted_content': None,\n",
       "    'query': 'Arbitragem',\n",
       "    'tweet_volume': 40573},\n",
       "   {'name': 'Aldosivi',\n",
       "    'url': 'http://twitter.com/search?q=Aldosivi',\n",
       "    'promoted_content': None,\n",
       "    'query': 'Aldosivi',\n",
       "    'tweet_volume': None},\n",
       "   {'name': 'mel maia',\n",
       "    'url': 'http://twitter.com/search?q=%22mel+maia%22',\n",
       "    'promoted_content': None,\n",
       "    'query': '%22mel+maia%22',\n",
       "    'tweet_volume': None},\n",
       "   {'name': 'Bannon',\n",
       "    'url': 'http://twitter.com/search?q=Bannon',\n",
       "    'promoted_content': None,\n",
       "    'query': 'Bannon',\n",
       "    'tweet_volume': 61675},\n",
       "   {'name': '土砂降り',\n",
       "    'url': 'http://twitter.com/search?q=%E5%9C%9F%E7%A0%82%E9%99%8D%E3%82%8A',\n",
       "    'promoted_content': None,\n",
       "    'query': '%E5%9C%9F%E7%A0%82%E9%99%8D%E3%82%8A',\n",
       "    'tweet_volume': None},\n",
       "   {'name': 'Daniel Silveira',\n",
       "    'url': 'http://twitter.com/search?q=%22Daniel+Silveira%22',\n",
       "    'promoted_content': None,\n",
       "    'query': '%22Daniel+Silveira%22',\n",
       "    'tweet_volume': 30343},\n",
       "   {'name': 'Espinoza',\n",
       "    'url': 'http://twitter.com/search?q=Espinoza',\n",
       "    'promoted_content': None,\n",
       "    'query': 'Espinoza',\n",
       "    'tweet_volume': 35246},\n",
       "   {'name': 'Geuvanio',\n",
       "    'url': 'http://twitter.com/search?q=Geuvanio',\n",
       "    'promoted_content': None,\n",
       "    'query': 'Geuvanio',\n",
       "    'tweet_volume': None}],\n",
       "  'as_of': '2021-11-09T00:46:59Z',\n",
       "  'created_at': '2021-11-07T14:34:10Z',\n",
       "  'locations': [{'name': 'Worldwide', 'woeid': 1}]}]"
      ]
     },
     "execution_count": 164,
     "metadata": {},
     "output_type": "execute_result"
    }
   ],
   "source": [
    "new_query = api.get_place_trends(1)\n",
    "new_query"
   ]
  },
  {
   "cell_type": "code",
   "execution_count": 188,
   "metadata": {},
   "outputs": [
    {
     "data": {
      "text/plain": [
       "21"
      ]
     },
     "execution_count": 188,
     "metadata": {},
     "output_type": "execute_result"
    }
   ],
   "source": [
    "len('010110010100110000011')"
   ]
  },
  {
   "cell_type": "code",
   "execution_count": 189,
   "metadata": {},
   "outputs": [],
   "source": [
    "big_table.to_csv(\"bigtable.csv\", encoding=\"utf-8\")"
   ]
  }
 ],
 "metadata": {
  "interpreter": {
   "hash": "b0fa6594d8f4cbf19f97940f81e996739fb7646882a419484c72d19e05852a7e"
  },
  "kernelspec": {
   "display_name": "Python 3.9.7 64-bit",
   "name": "python3"
  },
  "language_info": {
   "codemirror_mode": {
    "name": "ipython",
    "version": 3
   },
   "file_extension": ".py",
   "mimetype": "text/x-python",
   "name": "python",
   "nbconvert_exporter": "python",
   "pygments_lexer": "ipython3",
   "version": "3.9.7"
  },
  "orig_nbformat": 4
 },
 "nbformat": 4,
 "nbformat_minor": 2
}
