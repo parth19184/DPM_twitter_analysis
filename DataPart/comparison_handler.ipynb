{
 "cells": [
  {
   "cell_type": "code",
   "execution_count": 1,
   "metadata": {},
   "outputs": [],
   "source": [
    "import pandas as pd\n",
    "import numpy as np\n",
    "import datetime\n",
    "from datetime import datetime\n",
    "from bokeh.plotting import figure, output_file, show"
   ]
  },
  {
   "cell_type": "code",
   "execution_count": 2,
   "metadata": {},
   "outputs": [],
   "source": [
    "asian_df = pd.read_csv('StockCSV/ASIANPAINTS.csv')"
   ]
  },
  {
   "cell_type": "code",
   "execution_count": 8,
   "metadata": {},
   "outputs": [],
   "source": [
    "asian_df[\"Date\"] = pd.to_datetime(asian_df[\"datetime\"])"
   ]
  },
  {
   "cell_type": "code",
   "execution_count": 11,
   "metadata": {},
   "outputs": [
    {
     "data": {
      "text/plain": [
       "pandas._libs.tslibs.timestamps.Timestamp"
      ]
     },
     "execution_count": 11,
     "metadata": {},
     "output_type": "execute_result"
    }
   ],
   "source": [
    "type(asian_df[\"Date\"][0])"
   ]
  },
  {
   "cell_type": "code",
   "execution_count": 24,
   "metadata": {},
   "outputs": [],
   "source": [
    "def get_datetime(date):\n",
    "    return datetime.strptime(date[:10], '%Y-%m-%d')"
   ]
  },
  {
   "cell_type": "code",
   "execution_count": 25,
   "metadata": {},
   "outputs": [],
   "source": [
    "asian_df[\"Date\"] = asian_df[\"datetime\"].apply(get_datetime)"
   ]
  },
  {
   "cell_type": "code",
   "execution_count": 27,
   "metadata": {},
   "outputs": [
    {
     "data": {
      "text/plain": [
       "Timestamp('2021-11-16 00:00:00')"
      ]
     },
     "execution_count": 27,
     "metadata": {},
     "output_type": "execute_result"
    }
   ],
   "source": [
    "asian_df[\"Date\"][0]"
   ]
  },
  {
   "cell_type": "code",
   "execution_count": 28,
   "metadata": {},
   "outputs": [
    {
     "data": {
      "text/plain": [
       "Timestamp('2021-11-22 00:00:00')"
      ]
     },
     "execution_count": 28,
     "metadata": {},
     "output_type": "execute_result"
    }
   ],
   "source": [
    "asian_df[\"Date\"][len(asian_df)-1]"
   ]
  },
  {
   "cell_type": "code",
   "execution_count": 29,
   "metadata": {},
   "outputs": [],
   "source": [
    "asian_df_indexed = asian_df.set_index(\"Date\")"
   ]
  },
  {
   "cell_type": "code",
   "execution_count": 45,
   "metadata": {},
   "outputs": [
    {
     "data": {
      "text/plain": [
       "Date\n",
       "2021-11-16     90\n",
       "2021-11-17     81\n",
       "2021-11-18    120\n",
       "2021-11-19    104\n",
       "2021-11-20    115\n",
       "2021-11-21     19\n",
       "2021-11-22     78\n",
       "2021-11-23     51\n",
       "Name: Analysis, dtype: int64"
      ]
     },
     "execution_count": 45,
     "metadata": {},
     "output_type": "execute_result"
    }
   ],
   "source": [
    "asian_df.groupby(\"Date\")[\"Analysis\"].count()"
   ]
  },
  {
   "cell_type": "code",
   "execution_count": 64,
   "metadata": {},
   "outputs": [
    {
     "name": "stdout",
     "output_type": "stream",
     "text": [
      "1\n",
      "2\n",
      "3\n",
      "4\n",
      "5\n",
      "6\n",
      "7\n",
      "8\n"
     ]
    }
   ],
   "source": [
    "date_list = []\n",
    "positive_sentiment_list = []\n",
    "negative_sentiment_list = []\n",
    "k = 0\n",
    "for date, df in asian_df.groupby(\"Date\"):\n",
    "    k += 1\n",
    "    date_list.append(date)\n",
    "    positive_sentiment_list.append(len(df.loc[df[\"Analysis\"] == \"Positive\"])/len(df)*100)\n",
    "    negative_sentiment_list.append(len(df.loc[df[\"Analysis\"] == \"Negative\"])/len(df)*100)\n",
    "    print(k)"
   ]
  },
  {
   "cell_type": "code",
   "execution_count": 66,
   "metadata": {},
   "outputs": [
    {
     "data": {
      "text/plain": [
       "[2.2222222222222223,\n",
       " 14.814814814814813,\n",
       " 15.833333333333332,\n",
       " 20.192307692307693,\n",
       " 22.608695652173914,\n",
       " 15.789473684210526,\n",
       " 12.82051282051282,\n",
       " 31.372549019607842]"
      ]
     },
     "execution_count": 66,
     "metadata": {},
     "output_type": "execute_result"
    }
   ],
   "source": [
    "negative_sentiment_list"
   ]
  },
  {
   "cell_type": "code",
   "execution_count": 67,
   "metadata": {},
   "outputs": [],
   "source": [
    "p = figure(\n",
    "    title = \"positive sentiment\",\n",
    "    x_axis_type = \"datetime\",\n",
    "    width = 800,\n",
    "    height = 800,\n",
    "    x_axis_label = \"date\",\n",
    "    y_axis_label = \"% positive sentiment\"\n",
    ")"
   ]
  },
  {
   "cell_type": "code",
   "execution_count": 83,
   "metadata": {},
   "outputs": [
    {
     "data": {
      "text/html": [
       "<div style=\"display: table;\"><div style=\"display: table-row;\"><div style=\"display: table-cell;\"><b title=\"bokeh.models.renderers.GlyphRenderer\">GlyphRenderer</b>(</div><div style=\"display: table-cell;\">id&nbsp;=&nbsp;'3503', <span id=\"3609\" style=\"cursor: pointer;\">&hellip;)</span></div></div><div class=\"3608\" style=\"display: none;\"><div style=\"display: table-cell;\"></div><div style=\"display: table-cell;\">coordinates&nbsp;=&nbsp;None,</div></div><div class=\"3608\" style=\"display: none;\"><div style=\"display: table-cell;\"></div><div style=\"display: table-cell;\">data_source&nbsp;=&nbsp;ColumnDataSource(id='3499', ...),</div></div><div class=\"3608\" style=\"display: none;\"><div style=\"display: table-cell;\"></div><div style=\"display: table-cell;\">glyph&nbsp;=&nbsp;VBar(id='3500', ...),</div></div><div class=\"3608\" style=\"display: none;\"><div style=\"display: table-cell;\"></div><div style=\"display: table-cell;\">group&nbsp;=&nbsp;None,</div></div><div class=\"3608\" style=\"display: none;\"><div style=\"display: table-cell;\"></div><div style=\"display: table-cell;\">hover_glyph&nbsp;=&nbsp;None,</div></div><div class=\"3608\" style=\"display: none;\"><div style=\"display: table-cell;\"></div><div style=\"display: table-cell;\">js_event_callbacks&nbsp;=&nbsp;{},</div></div><div class=\"3608\" style=\"display: none;\"><div style=\"display: table-cell;\"></div><div style=\"display: table-cell;\">js_property_callbacks&nbsp;=&nbsp;{},</div></div><div class=\"3608\" style=\"display: none;\"><div style=\"display: table-cell;\"></div><div style=\"display: table-cell;\">level&nbsp;=&nbsp;'glyph',</div></div><div class=\"3608\" style=\"display: none;\"><div style=\"display: table-cell;\"></div><div style=\"display: table-cell;\">muted&nbsp;=&nbsp;False,</div></div><div class=\"3608\" style=\"display: none;\"><div style=\"display: table-cell;\"></div><div style=\"display: table-cell;\">muted_glyph&nbsp;=&nbsp;VBar(id='3502', ...),</div></div><div class=\"3608\" style=\"display: none;\"><div style=\"display: table-cell;\"></div><div style=\"display: table-cell;\">name&nbsp;=&nbsp;None,</div></div><div class=\"3608\" style=\"display: none;\"><div style=\"display: table-cell;\"></div><div style=\"display: table-cell;\">nonselection_glyph&nbsp;=&nbsp;VBar(id='3501', ...),</div></div><div class=\"3608\" style=\"display: none;\"><div style=\"display: table-cell;\"></div><div style=\"display: table-cell;\">selection_glyph&nbsp;=&nbsp;'auto',</div></div><div class=\"3608\" style=\"display: none;\"><div style=\"display: table-cell;\"></div><div style=\"display: table-cell;\">subscribed_events&nbsp;=&nbsp;[],</div></div><div class=\"3608\" style=\"display: none;\"><div style=\"display: table-cell;\"></div><div style=\"display: table-cell;\">syncable&nbsp;=&nbsp;True,</div></div><div class=\"3608\" style=\"display: none;\"><div style=\"display: table-cell;\"></div><div style=\"display: table-cell;\">tags&nbsp;=&nbsp;[],</div></div><div class=\"3608\" style=\"display: none;\"><div style=\"display: table-cell;\"></div><div style=\"display: table-cell;\">view&nbsp;=&nbsp;CDSView(id='3504', ...),</div></div><div class=\"3608\" style=\"display: none;\"><div style=\"display: table-cell;\"></div><div style=\"display: table-cell;\">visible&nbsp;=&nbsp;True,</div></div><div class=\"3608\" style=\"display: none;\"><div style=\"display: table-cell;\"></div><div style=\"display: table-cell;\">x_range_name&nbsp;=&nbsp;'default',</div></div><div class=\"3608\" style=\"display: none;\"><div style=\"display: table-cell;\"></div><div style=\"display: table-cell;\">y_range_name&nbsp;=&nbsp;'default')</div></div></div>\n",
       "<script>\n",
       "(function() {\n",
       "  let expanded = false;\n",
       "  const ellipsis = document.getElementById(\"3609\");\n",
       "  ellipsis.addEventListener(\"click\", function() {\n",
       "    const rows = document.getElementsByClassName(\"3608\");\n",
       "    for (let i = 0; i < rows.length; i++) {\n",
       "      const el = rows[i];\n",
       "      el.style.display = expanded ? \"none\" : \"table-row\";\n",
       "    }\n",
       "    ellipsis.innerHTML = expanded ? \"&hellip;)\" : \"&lsaquo;&lsaquo;&lsaquo;\";\n",
       "    expanded = !expanded;\n",
       "  });\n",
       "})();\n",
       "</script>\n"
      ],
      "text/plain": [
       "GlyphRenderer(id='3503', ...)"
      ]
     },
     "execution_count": 83,
     "metadata": {},
     "output_type": "execute_result"
    }
   ],
   "source": [
    "p.vbar(x = date_list,top = negative_sentiment_list,legend_label = \"negative sentiment\", width = 1)"
   ]
  },
  {
   "cell_type": "code",
   "execution_count": 84,
   "metadata": {},
   "outputs": [],
   "source": [
    "show(p)"
   ]
  },
  {
   "cell_type": "code",
   "execution_count": 70,
   "metadata": {},
   "outputs": [
    {
     "data": {
      "text/html": [
       "<div>\n",
       "<style scoped>\n",
       "    .dataframe tbody tr th:only-of-type {\n",
       "        vertical-align: middle;\n",
       "    }\n",
       "\n",
       "    .dataframe tbody tr th {\n",
       "        vertical-align: top;\n",
       "    }\n",
       "\n",
       "    .dataframe thead th {\n",
       "        text-align: right;\n",
       "    }\n",
       "</style>\n",
       "<table border=\"1\" class=\"dataframe\">\n",
       "  <thead>\n",
       "    <tr style=\"text-align: right;\">\n",
       "      <th></th>\n",
       "      <th>Symbol</th>\n",
       "      <th>Series</th>\n",
       "      <th>Date</th>\n",
       "      <th>Prev Close</th>\n",
       "      <th>Open Price</th>\n",
       "      <th>High Price</th>\n",
       "      <th>Low Price</th>\n",
       "      <th>Last Price</th>\n",
       "      <th>Close Price</th>\n",
       "      <th>Average Price</th>\n",
       "      <th>Total Traded Quantity</th>\n",
       "      <th>Turnover</th>\n",
       "      <th>No. of Trades</th>\n",
       "      <th>Deliverable Qty</th>\n",
       "      <th>% Dly Qt to Traded Qty</th>\n",
       "    </tr>\n",
       "  </thead>\n",
       "  <tbody>\n",
       "    <tr>\n",
       "      <th>0</th>\n",
       "      <td>ASIANPAINT</td>\n",
       "      <td>EQ</td>\n",
       "      <td>15-Nov-2021</td>\n",
       "      <td>3122.90</td>\n",
       "      <td>3126.00</td>\n",
       "      <td>3180.00</td>\n",
       "      <td>3126.00</td>\n",
       "      <td>3165.00</td>\n",
       "      <td>3168.70</td>\n",
       "      <td>3167.68</td>\n",
       "      <td>696377</td>\n",
       "      <td>2.205898e+09</td>\n",
       "      <td>56166</td>\n",
       "      <td>267696</td>\n",
       "      <td>38.44</td>\n",
       "    </tr>\n",
       "    <tr>\n",
       "      <th>1</th>\n",
       "      <td>ASIANPAINT</td>\n",
       "      <td>EQ</td>\n",
       "      <td>16-Nov-2021</td>\n",
       "      <td>3168.70</td>\n",
       "      <td>3165.00</td>\n",
       "      <td>3209.00</td>\n",
       "      <td>3120.10</td>\n",
       "      <td>3154.80</td>\n",
       "      <td>3151.70</td>\n",
       "      <td>3160.25</td>\n",
       "      <td>1400107</td>\n",
       "      <td>4.424689e+09</td>\n",
       "      <td>102431</td>\n",
       "      <td>734623</td>\n",
       "      <td>52.47</td>\n",
       "    </tr>\n",
       "    <tr>\n",
       "      <th>2</th>\n",
       "      <td>ASIANPAINT</td>\n",
       "      <td>EQ</td>\n",
       "      <td>17-Nov-2021</td>\n",
       "      <td>3151.70</td>\n",
       "      <td>3170.00</td>\n",
       "      <td>3239.90</td>\n",
       "      <td>3165.05</td>\n",
       "      <td>3225.95</td>\n",
       "      <td>3230.25</td>\n",
       "      <td>3218.95</td>\n",
       "      <td>1616452</td>\n",
       "      <td>5.203280e+09</td>\n",
       "      <td>128259</td>\n",
       "      <td>632637</td>\n",
       "      <td>39.14</td>\n",
       "    </tr>\n",
       "    <tr>\n",
       "      <th>3</th>\n",
       "      <td>ASIANPAINT</td>\n",
       "      <td>EQ</td>\n",
       "      <td>18-Nov-2021</td>\n",
       "      <td>3230.25</td>\n",
       "      <td>3249.85</td>\n",
       "      <td>3260.00</td>\n",
       "      <td>3214.00</td>\n",
       "      <td>3215.20</td>\n",
       "      <td>3226.85</td>\n",
       "      <td>3242.12</td>\n",
       "      <td>1609821</td>\n",
       "      <td>5.219240e+09</td>\n",
       "      <td>108657</td>\n",
       "      <td>802130</td>\n",
       "      <td>49.83</td>\n",
       "    </tr>\n",
       "    <tr>\n",
       "      <th>4</th>\n",
       "      <td>ASIANPAINT</td>\n",
       "      <td>EQ</td>\n",
       "      <td>22-Nov-2021</td>\n",
       "      <td>3226.85</td>\n",
       "      <td>3241.00</td>\n",
       "      <td>3308.35</td>\n",
       "      <td>3215.05</td>\n",
       "      <td>3263.35</td>\n",
       "      <td>3261.25</td>\n",
       "      <td>3273.82</td>\n",
       "      <td>2146970</td>\n",
       "      <td>7.028802e+09</td>\n",
       "      <td>169077</td>\n",
       "      <td>987674</td>\n",
       "      <td>46.00</td>\n",
       "    </tr>\n",
       "  </tbody>\n",
       "</table>\n",
       "</div>"
      ],
      "text/plain": [
       "       Symbol Series         Date  Prev Close  Open Price  High Price  \\\n",
       "0  ASIANPAINT     EQ  15-Nov-2021     3122.90     3126.00     3180.00   \n",
       "1  ASIANPAINT     EQ  16-Nov-2021     3168.70     3165.00     3209.00   \n",
       "2  ASIANPAINT     EQ  17-Nov-2021     3151.70     3170.00     3239.90   \n",
       "3  ASIANPAINT     EQ  18-Nov-2021     3230.25     3249.85     3260.00   \n",
       "4  ASIANPAINT     EQ  22-Nov-2021     3226.85     3241.00     3308.35   \n",
       "\n",
       "   Low Price  Last Price  Close Price  Average Price  Total Traded Quantity  \\\n",
       "0    3126.00     3165.00      3168.70        3167.68                 696377   \n",
       "1    3120.10     3154.80      3151.70        3160.25                1400107   \n",
       "2    3165.05     3225.95      3230.25        3218.95                1616452   \n",
       "3    3214.00     3215.20      3226.85        3242.12                1609821   \n",
       "4    3215.05     3263.35      3261.25        3273.82                2146970   \n",
       "\n",
       "       Turnover  No. of Trades  Deliverable Qty  % Dly Qt to Traded Qty  \n",
       "0  2.205898e+09          56166           267696                   38.44  \n",
       "1  4.424689e+09         102431           734623                   52.47  \n",
       "2  5.203280e+09         128259           632637                   39.14  \n",
       "3  5.219240e+09         108657           802130                   49.83  \n",
       "4  7.028802e+09         169077           987674                   46.00  "
      ]
     },
     "execution_count": 70,
     "metadata": {},
     "output_type": "execute_result"
    }
   ],
   "source": [
    "market_asian_df = pd.read_csv('MarketCSV/ASIANPAINTS.csv')\n",
    "market_asian_df.head()"
   ]
  },
  {
   "cell_type": "code",
   "execution_count": 86,
   "metadata": {},
   "outputs": [],
   "source": [
    "market_asian_df[\"datetime\"] = pd.to_datetime(market_asian_df[\"Date\"])"
   ]
  },
  {
   "cell_type": "code",
   "execution_count": 87,
   "metadata": {},
   "outputs": [],
   "source": [
    "opening_price_list = market_asian_df[\"Open Price\"].tolist()\n",
    "closing_price_list = market_asian_df[\"Close Price\"].tolist()\n",
    "date_list = market_asian_df[\"datetime\"].tolist()"
   ]
  },
  {
   "cell_type": "code",
   "execution_count": 88,
   "metadata": {},
   "outputs": [],
   "source": [
    "bokeh_plot = figure(\n",
    "    title = \"closing prices\",\n",
    "    x_axis_type = \"datetime\",\n",
    "    width = 500,\n",
    "    height = 500,\n",
    "    x_axis_label = \"date\",\n",
    "    y_axis_label = \"closing prices\"\n",
    ")"
   ]
  },
  {
   "cell_type": "code",
   "execution_count": 97,
   "metadata": {},
   "outputs": [],
   "source": [
    "bokeh_plot.line(date_list,closing_price_list,legend_label = \"closing prices\", line_width = 2)\n",
    "show(bokeh_plot)\n"
   ]
  },
  {
   "cell_type": "code",
   "execution_count": null,
   "metadata": {},
   "outputs": [],
   "source": [
    "show(bokeh_plot)"
   ]
  },
  {
   "cell_type": "code",
   "execution_count": 106,
   "metadata": {},
   "outputs": [],
   "source": [
    "show(p)"
   ]
  },
  {
   "cell_type": "code",
   "execution_count": 1,
   "metadata": {},
   "outputs": [],
   "source": [
    "def create_close_bokeh(stockname):\n",
    "    df = pd.read_csv('MarketCSV/'+stockname+'.csv')\n",
    "    df[\"datetime\"] = pd.to_datetime(df[\"Date\"])\n",
    "    closing_price_list = df[\"Close Price\"].tolist()\n",
    "    date_list = df[\"datetime\"].tolist()\n",
    "    bokeh_plot = figure(\n",
    "        title = \"closing prices\",\n",
    "        x_axis_type = \"datetime\",\n",
    "        width = 500,\n",
    "        height = 500,\n",
    "        x_axis_label = \"date\",\n",
    "        y_axis_label = \"closing prices\"\n",
    "    )\n",
    "    bokeh_plot.line(date_list,closing_price_list,legend_label = \"closing prices\", line_width = 2)\n",
    "    return bokeh_plot"
   ]
  },
  {
   "cell_type": "code",
   "execution_count": 100,
   "metadata": {},
   "outputs": [],
   "source": [
    "def create_positive_bokeh(stockname):\n",
    "    df = pd.read_csv('StockCSV/{}.csv'.format(stockname))\n",
    "    df[\"Date\"] = df[\"datetime\"].apply(get_datetime)\n",
    "    date_list = []\n",
    "    positive_sentiment_list = []\n",
    "    negative_sentiment_list = []\n",
    "    k = 0\n",
    "    for date, df in df.groupby(\"Date\"):\n",
    "        k += 1\n",
    "        date_list.append(date)\n",
    "        positive_sentiment_list.append(len(df.loc[df[\"Analysis\"] == \"Positive\"])/len(df)*100)\n",
    "        negative_sentiment_list.append(len(df.loc[df[\"Analysis\"] == \"Negative\"])/len(df)*100)\n",
    "    p = figure(\n",
    "        title = \"positive sentiment\",\n",
    "        x_axis_type = \"datetime\",\n",
    "        width = 800,\n",
    "        height = 800,\n",
    "        x_axis_label = \"date\",\n",
    "        y_axis_label = \"% positive sentiment\"\n",
    "    )\n",
    "    p.vbar(x = date_list,top = positive_sentiment_list,legend_label = \"positive sentiment\", width = 1)\n",
    "    return p"
   ]
  },
  {
   "cell_type": "code",
   "execution_count": 104,
   "metadata": {},
   "outputs": [],
   "source": [
    "def create_negative_bokeh(stockname):\n",
    "    df = pd.read_csv('StockCSV/{}.csv'.format(stockname))\n",
    "    df[\"Date\"] = df[\"datetime\"].apply(get_datetime)\n",
    "    date_list = []\n",
    "    positive_sentiment_list = []\n",
    "    negative_sentiment_list = []\n",
    "    k = 0\n",
    "    for date, df in df.groupby(\"Date\"):\n",
    "        k += 1\n",
    "        date_list.append(date)\n",
    "        positive_sentiment_list.append(len(df.loc[df[\"Analysis\"] == \"Positive\"])/len(df)*100)\n",
    "        negative_sentiment_list.append(len(df.loc[df[\"Analysis\"] == \"Negative\"])/len(df)*100)\n",
    "    p = figure(\n",
    "        title = \"negative sentiment\",\n",
    "        x_axis_type = \"datetime\",\n",
    "        width = 800,\n",
    "        height = 800,\n",
    "        x_axis_label = \"date\",\n",
    "        y_axis_label = \"% positive sentiment\"\n",
    "    )\n",
    "    p.vbar(x = date_list,top = negative_sentiment_list,legend_label = \"negative sentiment\", width = 1)\n",
    "    return p"
   ]
  },
  {
   "cell_type": "code",
   "execution_count": 101,
   "metadata": {},
   "outputs": [],
   "source": [
    "bokeh_here = create_bokeh(\"INFOSYS\")"
   ]
  },
  {
   "cell_type": "code",
   "execution_count": 105,
   "metadata": {},
   "outputs": [],
   "source": [
    "show(bokeh_here)"
   ]
  },
  {
   "cell_type": "code",
   "execution_count": null,
   "metadata": {},
   "outputs": [],
   "source": [
    "def change_csv(stockname):\n",
    "    df_here = pd.read_csv(\"StockCSV/{}.csv\".format(stockname))\n",
    "    df_here[\"Date\"] = pd.to_datetime(df_here[\"datetime\"])\n",
    "    df_here.to_csv(\"StockCSV/{}.csv\".format(stockname),mode = 'a',header = False, encoding=\"utf-8\")"
   ]
  }
 ],
 "metadata": {
  "interpreter": {
   "hash": "b0fa6594d8f4cbf19f97940f81e996739fb7646882a419484c72d19e05852a7e"
  },
  "kernelspec": {
   "display_name": "Python 3.9.7 64-bit",
   "language": "python",
   "name": "python3"
  },
  "language_info": {
   "codemirror_mode": {
    "name": "ipython",
    "version": 3
   },
   "file_extension": ".py",
   "mimetype": "text/x-python",
   "name": "python",
   "nbconvert_exporter": "python",
   "pygments_lexer": "ipython3",
   "version": "3.9.7"
  },
  "orig_nbformat": 4
 },
 "nbformat": 4,
 "nbformat_minor": 2
}
