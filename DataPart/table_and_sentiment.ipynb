{
 "cells": [
  {
   "cell_type": "code",
   "execution_count": 1,
   "metadata": {},
   "outputs": [],
   "source": [
    "import pandas as pd\n",
    "import tweepy\n",
    "from textblob import TextBlob\n",
    "from wordcloud import WordCloud\n",
    "import numpy as np\n",
    "import matplotlib.pyplot as plt"
   ]
  },
  {
   "cell_type": "code",
   "execution_count": 2,
   "metadata": {},
   "outputs": [],
   "source": [
    "consumer_key = \"UZsGlNd58jFSnkbzmiIj0asIH\"\n",
    "consumer_key_secret = \"cdv0HfYrqJ7517qXQnDy7y24oaHLbmZ2z2l2ZFECzS5EwylSEG\"\n",
    "access_token = \"1452533975180738562-iDShopCCVrvtIwlTgUzP94UHJIyjYV\"\n",
    "access_token_secret = \"N1807EGuy1F5bCMZEreYpQfsVdiEQ7ABjpQfvMxZNOxPq\""
   ]
  },
  {
   "cell_type": "code",
   "execution_count": 3,
   "metadata": {},
   "outputs": [],
   "source": [
    "auth = tweepy .OAuthHandler(consumer_key, consumer_key_secret)\n",
    "auth.set_access_token(access_token, access_token_secret)\n",
    "api = tweepy.API(auth, wait_on_rate_limit= True)"
   ]
  },
  {
   "cell_type": "code",
   "execution_count": 4,
   "metadata": {},
   "outputs": [],
   "source": [
    "def cleanText(text):\n",
    "    text = re.sub(r\"@[A-Za-z0-9]+\", '', text) #removed @mentions\n",
    "    text = re.sub(r'#', '', text) #removing # symbol\n",
    "    text = re.sub(r'RT[\\s]+', '', text) #removing retweets RT\n",
    "    text = re.sub(r'https?:\\/\\/\\S+', '', text) #removes the hyperlink\n",
    "\n",
    "    return text"
   ]
  },
  {
   "cell_type": "code",
   "execution_count": 5,
   "metadata": {},
   "outputs": [],
   "source": [
    "def getSubjectivity(text):\n",
    "    return TextBlob(text).sentiment.subjectivity\n",
    "\n",
    "def getPolarity(text):\n",
    "    return TextBlob(text).sentiment.polarity"
   ]
  },
  {
   "cell_type": "code",
   "execution_count": 6,
   "metadata": {},
   "outputs": [],
   "source": [
    "def getAnalysis(score):\n",
    "    if score < 0:\n",
    "        return \"Negative\"\n",
    "    elif score == 0:\n",
    "        return \"Neutral\"\n",
    "    else:\n",
    "        return \"Positive\""
   ]
  },
  {
   "cell_type": "code",
   "execution_count": 7,
   "metadata": {},
   "outputs": [],
   "source": [
    "def get_keyword_tweets(keyword, count):\n",
    "    items = api.search_30_day(label='development', query=keyword, maxResults= count)\n",
    "    return items"
   ]
  },
  {
   "cell_type": "markdown",
   "metadata": {},
   "source": [
    "We need to get favorite_count, retweet_count, lang, text"
   ]
  },
  {
   "cell_type": "code",
   "execution_count": 17,
   "metadata": {},
   "outputs": [
    {
     "data": {
      "text/plain": [
       "'@CAVIPULGOHIL @CAVISHALGARG3 @CaSondagar @CaHimalaya @cbic_india @rambajajbikaner @abhishekrajaram @Infosys_GSTN… https://t.co/c7pGFmbNUv'"
      ]
     },
     "execution_count": 17,
     "metadata": {},
     "output_type": "execute_result"
    }
   ],
   "source": [
    "test_list = get_keyword_tweets(\"infosys\",15)\n",
    "test_list[0]._json[\"text\"]"
   ]
  },
  {
   "cell_type": "code",
   "execution_count": 21,
   "metadata": {},
   "outputs": [
    {
     "data": {
      "text/plain": [
       "0"
      ]
     },
     "execution_count": 21,
     "metadata": {},
     "output_type": "execute_result"
    }
   ],
   "source": [
    "test_list[0].retweet_count"
   ]
  },
  {
   "cell_type": "markdown",
   "metadata": {},
   "source": [
    "test_list is a list with data type Status"
   ]
  },
  {
   "cell_type": "code",
   "execution_count": 29,
   "metadata": {},
   "outputs": [
    {
     "data": {
      "text/html": [
       "<div>\n",
       "<style scoped>\n",
       "    .dataframe tbody tr th:only-of-type {\n",
       "        vertical-align: middle;\n",
       "    }\n",
       "\n",
       "    .dataframe tbody tr th {\n",
       "        vertical-align: top;\n",
       "    }\n",
       "\n",
       "    .dataframe thead th {\n",
       "        text-align: right;\n",
       "    }\n",
       "</style>\n",
       "<table border=\"1\" class=\"dataframe\">\n",
       "  <thead>\n",
       "    <tr style=\"text-align: right;\">\n",
       "      <th></th>\n",
       "      <th>tweet</th>\n",
       "      <th>language</th>\n",
       "      <th>likes</th>\n",
       "      <th>retweets</th>\n",
       "    </tr>\n",
       "  </thead>\n",
       "  <tbody>\n",
       "    <tr>\n",
       "      <th>0</th>\n",
       "      <td>@CAVIPULGOHIL @CAVISHALGARG3 @CaSondagar @CaHi...</td>\n",
       "      <td>tl</td>\n",
       "      <td>0</td>\n",
       "      <td>0</td>\n",
       "    </tr>\n",
       "    <tr>\n",
       "      <th>1</th>\n",
       "      <td>@bsksrivastava Hul muthoot hdfc bank infosys itc</td>\n",
       "      <td>de</td>\n",
       "      <td>0</td>\n",
       "      <td>0</td>\n",
       "    </tr>\n",
       "    <tr>\n",
       "      <th>2</th>\n",
       "      <td>RT @themukulagrawal: आपका Favourite Stock कौन ...</td>\n",
       "      <td>und</td>\n",
       "      <td>0</td>\n",
       "      <td>0</td>\n",
       "    </tr>\n",
       "    <tr>\n",
       "      <th>3</th>\n",
       "      <td>@PIBMumbai @FinMinIndia @IncomeTaxIndia @nsith...</td>\n",
       "      <td>en</td>\n",
       "      <td>0</td>\n",
       "      <td>0</td>\n",
       "    </tr>\n",
       "    <tr>\n",
       "      <th>4</th>\n",
       "      <td>DAILY TIMEFRAME #Prediction\\nPrediction Date: ...</td>\n",
       "      <td>en</td>\n",
       "      <td>0</td>\n",
       "      <td>0</td>\n",
       "    </tr>\n",
       "    <tr>\n",
       "      <th>5</th>\n",
       "      <td>@Infosys_GSTN https://t.co/ymvfznRzYz</td>\n",
       "      <td>und</td>\n",
       "      <td>0</td>\n",
       "      <td>0</td>\n",
       "    </tr>\n",
       "    <tr>\n",
       "      <th>6</th>\n",
       "      <td>At #SAPTechEd, you'll get the chance to learn ...</td>\n",
       "      <td>en</td>\n",
       "      <td>3</td>\n",
       "      <td>0</td>\n",
       "    </tr>\n",
       "    <tr>\n",
       "      <th>7</th>\n",
       "      <td>@CAVISHALGARG3 @CaSondagar @CaHimalaya @cbic_i...</td>\n",
       "      <td>en</td>\n",
       "      <td>2</td>\n",
       "      <td>0</td>\n",
       "    </tr>\n",
       "    <tr>\n",
       "      <th>8</th>\n",
       "      <td>@themukulagrawal Infosys itc RIL</td>\n",
       "      <td>en</td>\n",
       "      <td>0</td>\n",
       "      <td>0</td>\n",
       "    </tr>\n",
       "    <tr>\n",
       "      <th>9</th>\n",
       "      <td>@singerraghu @nsitharaman @FinMinIndia @Infosy...</td>\n",
       "      <td>en</td>\n",
       "      <td>0</td>\n",
       "      <td>0</td>\n",
       "    </tr>\n",
       "    <tr>\n",
       "      <th>10</th>\n",
       "      <td>@bsksrivastava 6. Infosys\\n7. Wipro\\n8. Polyca...</td>\n",
       "      <td>ht</td>\n",
       "      <td>1</td>\n",
       "      <td>0</td>\n",
       "    </tr>\n",
       "    <tr>\n",
       "      <th>11</th>\n",
       "      <td>@themukulagrawal TATA POWER \\nTCS\\nICICI BANK\\...</td>\n",
       "      <td>ro</td>\n",
       "      <td>0</td>\n",
       "      <td>0</td>\n",
       "    </tr>\n",
       "    <tr>\n",
       "      <th>12</th>\n",
       "      <td>@CAVISHALGARG3 @CaSondagar @CaHimalaya @cbic_i...</td>\n",
       "      <td>en</td>\n",
       "      <td>3</td>\n",
       "      <td>0</td>\n",
       "    </tr>\n",
       "    <tr>\n",
       "      <th>13</th>\n",
       "      <td>The market valuation of #TCS reached Rs 12,98,...</td>\n",
       "      <td>en</td>\n",
       "      <td>1</td>\n",
       "      <td>0</td>\n",
       "    </tr>\n",
       "    <tr>\n",
       "      <th>14</th>\n",
       "      <td>RT @themukulagrawal: आपका Favourite Stock कौन ...</td>\n",
       "      <td>und</td>\n",
       "      <td>0</td>\n",
       "      <td>0</td>\n",
       "    </tr>\n",
       "  </tbody>\n",
       "</table>\n",
       "</div>"
      ],
      "text/plain": [
       "                                                tweet language  likes  \\\n",
       "0   @CAVIPULGOHIL @CAVISHALGARG3 @CaSondagar @CaHi...       tl      0   \n",
       "1    @bsksrivastava Hul muthoot hdfc bank infosys itc       de      0   \n",
       "2   RT @themukulagrawal: आपका Favourite Stock कौन ...      und      0   \n",
       "3   @PIBMumbai @FinMinIndia @IncomeTaxIndia @nsith...       en      0   \n",
       "4   DAILY TIMEFRAME #Prediction\\nPrediction Date: ...       en      0   \n",
       "5               @Infosys_GSTN https://t.co/ymvfznRzYz      und      0   \n",
       "6   At #SAPTechEd, you'll get the chance to learn ...       en      3   \n",
       "7   @CAVISHALGARG3 @CaSondagar @CaHimalaya @cbic_i...       en      2   \n",
       "8                    @themukulagrawal Infosys itc RIL       en      0   \n",
       "9   @singerraghu @nsitharaman @FinMinIndia @Infosy...       en      0   \n",
       "10  @bsksrivastava 6. Infosys\\n7. Wipro\\n8. Polyca...       ht      1   \n",
       "11  @themukulagrawal TATA POWER \\nTCS\\nICICI BANK\\...       ro      0   \n",
       "12  @CAVISHALGARG3 @CaSondagar @CaHimalaya @cbic_i...       en      3   \n",
       "13  The market valuation of #TCS reached Rs 12,98,...       en      1   \n",
       "14  RT @themukulagrawal: आपका Favourite Stock कौन ...      und      0   \n",
       "\n",
       "    retweets  \n",
       "0          0  \n",
       "1          0  \n",
       "2          0  \n",
       "3          0  \n",
       "4          0  \n",
       "5          0  \n",
       "6          0  \n",
       "7          0  \n",
       "8          0  \n",
       "9          0  \n",
       "10         0  \n",
       "11         0  \n",
       "12         0  \n",
       "13         0  \n",
       "14         0  "
      ]
     },
     "execution_count": 29,
     "metadata": {},
     "output_type": "execute_result"
    }
   ],
   "source": [
    "df = pd.DataFrame({\"tweet\": [tweet.text for tweet in test_list], \"language\":[tweet.lang for tweet in test_list],\"likes\": [tweet.favorite_count for tweet in test_list],\"retweets\": [tweet.retweet_count for tweet in test_list]})\n",
    "df"
   ]
  },
  {
   "cell_type": "markdown",
   "metadata": {},
   "source": [
    ",\"language\": [tweet.lang for tweet in test_list],\"likes\": [tweet.favorite_count for tweet in test_list],\"retweets\": [tweet.retweet_count for tweet in test_list]"
   ]
  }
 ],
 "metadata": {
  "interpreter": {
   "hash": "b0fa6594d8f4cbf19f97940f81e996739fb7646882a419484c72d19e05852a7e"
  },
  "kernelspec": {
   "display_name": "Python 3.9.7 64-bit",
   "name": "python3"
  },
  "language_info": {
   "codemirror_mode": {
    "name": "ipython",
    "version": 3
   },
   "file_extension": ".py",
   "mimetype": "text/x-python",
   "name": "python",
   "nbconvert_exporter": "python",
   "pygments_lexer": "ipython3",
   "version": "3.9.7"
  },
  "orig_nbformat": 4
 },
 "nbformat": 4,
 "nbformat_minor": 2
}
