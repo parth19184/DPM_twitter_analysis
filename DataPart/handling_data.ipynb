{
 "cells": [
  {
   "cell_type": "code",
   "execution_count": 1,
   "metadata": {},
   "outputs": [],
   "source": [
    "import pandas as pd\n",
    "import tweepy\n",
    "from textblob import TextBlob\n",
    "from wordcloud import WordCloud\n",
    "import numpy as np\n",
    "import matplotlib.pyplot as plt\n",
    "import re"
   ]
  },
  {
   "cell_type": "code",
   "execution_count": 2,
   "metadata": {},
   "outputs": [],
   "source": [
    "#Yashwanth key\n",
    "'''consumer_key = \"CSuIiOnVjfkIVlwoOt8TmrGW7\"\n",
    "consumer_key_secret = \"wz0VqziOsFNr1vaz1RY3XySNHajIeW7D2SKdyMP76Z89rJuHvd\"\n",
    "access_token = \"1457745168690450437-7dnKuIzrBMIxTJSqQ0eSfaNycyp7BV\"\n",
    "access_token_secret = \"mfkismanuwheyKmCsXCbFIVLNibt2MW8CZas3qfqFPken\"'''\n",
    "#parth key:\n",
    "consumer_key = \"FVFGY8gFJGp77OOM6Do5OprZ4\"\n",
    "consumer_key_secret = \"2utlJGqBy3lObyRPRSxMiFUWOoQNjgCmd5Ia4E3XlYO0YQyCzY\"\n",
    "access_token = \"1452533975180738562-bfBTDql81sBKYmJfVojaQY16Z35M53\"\n",
    "access_token_secret = \"xPWXQNu9ElozB7RcXRS4RBQLdQHprkQP0ZDBjUHgJLFnI\""
   ]
  },
  {
   "cell_type": "markdown",
   "metadata": {},
   "source": []
  },
  {
   "cell_type": "code",
   "execution_count": 3,
   "metadata": {},
   "outputs": [],
   "source": [
    "auth = tweepy .OAuthHandler(consumer_key, consumer_key_secret)\n",
    "auth.set_access_token(access_token, access_token_secret)\n",
    "api = tweepy.API(auth)"
   ]
  },
  {
   "cell_type": "code",
   "execution_count": 4,
   "metadata": {},
   "outputs": [],
   "source": [
    "def cleanText(text):\n",
    "    text = re.sub(r\"@[A-Za-z0-9]+\", '', text) #removed @mentions\n",
    "    text = re.sub(r'#', '', text) #removing # symbol\n",
    "    text = re.sub(r'RT[\\s]+', '', text) #removing retweets RT\n",
    "    text = re.sub(r'https?:\\/\\/\\S+', '', text) #removes the hyperlink\n",
    "\n",
    "    return text\n",
    "\n",
    "def getSubjectivity(text):\n",
    "    return TextBlob(text).sentiment.subjectivity\n",
    "\n",
    "def getPolarity(text):\n",
    "    return TextBlob(text).sentiment.polarity\n",
    "\n",
    "def getAnalysis(score):\n",
    "    if score < 0:\n",
    "        return \"Negative\"\n",
    "    elif score == 0:\n",
    "        return \"Neutral\"\n",
    "    else:\n",
    "        return \"Positive\""
   ]
  },
  {
   "cell_type": "code",
   "execution_count": 5,
   "metadata": {},
   "outputs": [],
   "source": [
    "def get_keyword_tweets(keyword, count):\n",
    "    items = api.search_30_day(label='development', query=keyword, maxResults= count)\n",
    "    return items"
   ]
  },
  {
   "cell_type": "code",
   "execution_count": 6,
   "metadata": {},
   "outputs": [],
   "source": [
    "def get_new_table(stockname):\n",
    "    answer = get_keyword_tweets(stockname, 100)\n",
    "    df = pd.DataFrame({\"tweet\": [tweet.text for tweet in answer], \"language\":[tweet.lang for tweet in answer],\"likes\": [tweet.favorite_count for tweet in answer],\"retweets\": [tweet.retweet_count for tweet in answer], \"datetime\":[tweet.created_at for tweet in answer]})\n",
    "    df = df[df.language == \"en\"]\n",
    "    df[\"Subjectivity\"] = df[\"tweet\"].apply(getSubjectivity)\n",
    "    df[\"Polarity\"] = df[\"tweet\"].apply(getPolarity)\n",
    "    df[\"Analysis\"] = df[\"Polarity\"].apply(getAnalysis)\n",
    "    return df"
   ]
  },
  {
   "cell_type": "code",
   "execution_count": 12,
   "metadata": {},
   "outputs": [],
   "source": [
    "paytm_csv = get_new_table(\"paytm\")\n",
    "paytm_csv.to_csv(\"paytm.csv\", encoding=\"utf-8\")"
   ]
  },
  {
   "cell_type": "code",
   "execution_count": 7,
   "metadata": {},
   "outputs": [],
   "source": [
    "stocklist = [\"ASIANPAINTS\", 'AXIS BANK', 'BAJAJ AUTO','BAJAJ FINANCE', 'BAJAJ FINSERV', 'BHARTI AIRTEL', 'HCL TECHNOLOGIES', 'HDFC', 'HDFC BANK', 'HUL', 'ICICI BANK', 'INDUSIND BANK', 'INFOSYS', 'ITC', 'KOTAK MAHINDRA BANK', 'L&T','M3M','MARUTI SUZUKI', 'NESTLE', 'NTPC', 'ONGC', 'POWER GRID', 'RELIANCE IND', 'SBI', 'SUN PHARMA', 'TATA STEEL', 'TCS', 'TECH MAHINDRA', 'TITAN', 'ULTRATECH CEMENT']"
   ]
  },
  {
   "cell_type": "code",
   "execution_count": 8,
   "metadata": {},
   "outputs": [],
   "source": [
    "stocklist2 = [\"ASIANPAINTS\", 'AXIS_BANK', 'BAJAJ_AUTO','BAJAJ_FINANCE', 'BAJAJ_FINSERV', 'BHARTI_AIRTEL', 'HCL_TECHNOLOGIES', 'HDFC', 'HDFC_BANK', 'HUL', 'ICICI_BANK', 'INDUSIND_BANK', 'INFOSYS', 'ITC', 'KOTAK_MAHINDRA_BANK', 'L&T','3M','MARUTI_SUZUKI', 'NESTLE', 'NTPC', 'ONGC', 'POWER_GRID', 'RELIANCE_IND', 'SBI', 'SUN_PHARMA', 'TATA_STEEL', 'TCS', 'TECH_MAHINDRA', 'TITAN', 'ULTRATECH_CEMENT']"
   ]
  },
  {
   "cell_type": "code",
   "execution_count": 6,
   "metadata": {},
   "outputs": [],
   "source": [
    "stocklist_df = pd.DataFrame(stocklist, columns=[\"Symbol\"])"
   ]
  },
  {
   "cell_type": "code",
   "execution_count": 10,
   "metadata": {},
   "outputs": [],
   "source": [
    "stocklist_df = pd.DataFrame(stocklist2, columns=[\"Symbol\"])"
   ]
  },
  {
   "cell_type": "code",
   "execution_count": 11,
   "metadata": {},
   "outputs": [],
   "source": [
    "stocklist_df.to_csv(\"Stocklist2.csv\", encoding=\"utf-8\")"
   ]
  },
  {
   "cell_type": "code",
   "execution_count": 7,
   "metadata": {},
   "outputs": [],
   "source": [
    "stocklist_df.to_csv(\"Stocklist.csv\", encoding=\"utf-8\")"
   ]
  },
  {
   "cell_type": "code",
   "execution_count": 27,
   "metadata": {},
   "outputs": [
    {
     "data": {
      "text/plain": [
       "'M3M'"
      ]
     },
     "execution_count": 27,
     "metadata": {},
     "output_type": "execute_result"
    }
   ],
   "source": [
    "stocklist[16]"
   ]
  },
  {
   "cell_type": "code",
   "execution_count": 8,
   "metadata": {},
   "outputs": [],
   "source": [
    "def create_table_in_folder(stockname):\n",
    "    csv = get_new_table(stockname)\n",
    "    csv.to_csv(\"StockCSV/{}.csv\".format(stockname), encoding=\"utf-8\")\n",
    "\n",
    "def add_in_table(stockname):\n",
    "    csv = get_new_table(stockname)\n",
    "    csv.to_csv(\"StockCSV/{}.csv\".format(stockname),mode = 'a',header = False, encoding=\"utf-8\")"
   ]
  },
  {
   "cell_type": "code",
   "execution_count": 71,
   "metadata": {},
   "outputs": [],
   "source": [
    "add_in_table(stocklist[29])"
   ]
  },
  {
   "cell_type": "code",
   "execution_count": 9,
   "metadata": {},
   "outputs": [],
   "source": [
    "tata_df = get_new_table(\"TATASTEEL\")\n",
    "tata_df.to_csv('tata.csv', mode='a', index=False, header=False)"
   ]
  },
  {
   "cell_type": "code",
   "execution_count": 1,
   "metadata": {},
   "outputs": [],
   "source": [
    "import sched, time"
   ]
  },
  {
   "cell_type": "code",
   "execution_count": null,
   "metadata": {},
   "outputs": [],
   "source": [
    "import requests"
   ]
  },
  {
   "cell_type": "code",
   "execution_count": 2,
   "metadata": {},
   "outputs": [],
   "source": [
    "s = sched.scheduler(time.time, time.sleep)"
   ]
  },
  {
   "cell_type": "code",
   "execution_count": 4,
   "metadata": {},
   "outputs": [],
   "source": [
    "def add_in_table(): \n",
    "    time.sleep(60*60*6)\n",
    "    for stock in stocklist:\n",
    "        add_in_table(stock)\n",
    "    return add_in_table()\n",
    "    "
   ]
  },
  {
   "cell_type": "markdown",
   "metadata": {},
   "source": []
  },
  {
   "cell_type": "code",
   "execution_count": 9,
   "metadata": {},
   "outputs": [
    {
     "ename": "TypeError",
     "evalue": "add_in_table() missing 1 required positional argument: 'stockname'",
     "output_type": "error",
     "traceback": [
      "\u001b[0;31m---------------------------------------------------------------------------\u001b[0m",
      "\u001b[0;31mTypeError\u001b[0m                                 Traceback (most recent call last)",
      "\u001b[0;32m/var/folders/6r/61h6dlnx7vx63vghxcc869mm0000gn/T/ipykernel_40095/124994866.py\u001b[0m in \u001b[0;36m<module>\u001b[0;34m\u001b[0m\n\u001b[0;32m----> 1\u001b[0;31m \u001b[0madd_in_table\u001b[0m\u001b[0;34m(\u001b[0m\u001b[0;34m)\u001b[0m\u001b[0;34m\u001b[0m\u001b[0;34m\u001b[0m\u001b[0m\n\u001b[0m",
      "\u001b[0;31mTypeError\u001b[0m: add_in_table() missing 1 required positional argument: 'stockname'"
     ]
    }
   ],
   "source": [
    "add_in_table()"
   ]
  },
  {
   "cell_type": "code",
   "execution_count": 9,
   "metadata": {},
   "outputs": [],
   "source": [
    "for i in stocklist:\n",
    "    add_in_table(i)"
   ]
  },
  {
   "cell_type": "code",
   "execution_count": 4,
   "metadata": {},
   "outputs": [],
   "source": [
    "df_here = pd.read_csv(\"StockCSV/ASIANPAINTS.csv\")\n",
    "df_here[\"Date\"] = pd.to_datetime(df_here[\"datetime\"])"
   ]
  },
  {
   "cell_type": "code",
   "execution_count": 5,
   "metadata": {},
   "outputs": [
    {
     "data": {
      "text/plain": [
       "<DatetimeArray>\n",
       "['2021-11-16 20:31:57+00:00', '2021-11-16 19:19:23+00:00',\n",
       " '2021-11-16 19:13:10+00:00', '2021-11-16 19:03:21+00:00',\n",
       " '2021-11-16 18:54:58+00:00', '2021-11-16 18:52:38+00:00',\n",
       " '2021-11-16 18:47:30+00:00', '2021-11-16 18:29:13+00:00',\n",
       " '2021-11-16 18:24:30+00:00', '2021-11-16 18:14:20+00:00',\n",
       " ...\n",
       " '2021-12-09 19:16:55+00:00', '2021-12-09 19:10:22+00:00',\n",
       " '2021-12-09 18:49:49+00:00', '2021-12-09 18:41:01+00:00',\n",
       " '2021-12-09 18:38:49+00:00', '2021-12-09 18:34:20+00:00',\n",
       " '2021-12-09 18:10:40+00:00', '2021-12-09 17:54:04+00:00',\n",
       " '2021-12-09 17:41:11+00:00', '2021-12-09 17:23:46+00:00']\n",
       "Length: 968, dtype: datetime64[ns, UTC]"
      ]
     },
     "execution_count": 5,
     "metadata": {},
     "output_type": "execute_result"
    }
   ],
   "source": [
    "df_here[\"Date\"].unique()"
   ]
  }
 ],
 "metadata": {
  "interpreter": {
   "hash": "b0fa6594d8f4cbf19f97940f81e996739fb7646882a419484c72d19e05852a7e"
  },
  "kernelspec": {
   "display_name": "Python 3.9.7 64-bit",
   "name": "python3"
  },
  "language_info": {
   "codemirror_mode": {
    "name": "ipython",
    "version": 3
   },
   "file_extension": ".py",
   "mimetype": "text/x-python",
   "name": "python",
   "nbconvert_exporter": "python",
   "pygments_lexer": "ipython3",
   "version": "3.9.7"
  },
  "orig_nbformat": 4
 },
 "nbformat": 4,
 "nbformat_minor": 2
}
