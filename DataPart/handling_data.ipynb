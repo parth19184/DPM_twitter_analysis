{
 "cells": [
  {
   "cell_type": "code",
   "execution_count": 1,
   "metadata": {},
   "outputs": [],
   "source": [
    "import pandas as pd\n",
    "import tweepy\n",
    "from textblob import TextBlob\n",
    "from wordcloud import WordCloud\n",
    "import numpy as np\n",
    "import matplotlib.pyplot as plt\n",
    "import re"
   ]
  },
  {
   "cell_type": "code",
   "execution_count": 2,
   "metadata": {},
   "outputs": [],
   "source": [
    "#Yashwanth key\n",
    "consumer_key = \"CSuIiOnVjfkIVlwoOt8TmrGW7\"\n",
    "consumer_key_secret = \"wz0VqziOsFNr1vaz1RY3XySNHajIeW7D2SKdyMP76Z89rJuHvd\"\n",
    "access_token = \"1457745168690450437-7dnKuIzrBMIxTJSqQ0eSfaNycyp7BV\"\n",
    "access_token_secret = \"mfkismanuwheyKmCsXCbFIVLNibt2MW8CZas3qfqFPken\""
   ]
  },
  {
   "cell_type": "code",
   "execution_count": 3,
   "metadata": {},
   "outputs": [],
   "source": [
    "auth = tweepy .OAuthHandler(consumer_key, consumer_key_secret)\n",
    "auth.set_access_token(access_token, access_token_secret)\n",
    "api = tweepy.API(auth)"
   ]
  },
  {
   "cell_type": "code",
   "execution_count": 4,
   "metadata": {},
   "outputs": [],
   "source": [
    "def cleanText(text):\n",
    "    text = re.sub(r\"@[A-Za-z0-9]+\", '', text) #removed @mentions\n",
    "    text = re.sub(r'#', '', text) #removing # symbol\n",
    "    text = re.sub(r'RT[\\s]+', '', text) #removing retweets RT\n",
    "    text = re.sub(r'https?:\\/\\/\\S+', '', text) #removes the hyperlink\n",
    "\n",
    "    return text\n",
    "\n",
    "def getSubjectivity(text):\n",
    "    return TextBlob(text).sentiment.subjectivity\n",
    "\n",
    "def getPolarity(text):\n",
    "    return TextBlob(text).sentiment.polarity\n",
    "\n",
    "def getAnalysis(score):\n",
    "    if score < 0:\n",
    "        return \"Negative\"\n",
    "    elif score == 0:\n",
    "        return \"Neutral\"\n",
    "    else:\n",
    "        return \"Positive\""
   ]
  },
  {
   "cell_type": "code",
   "execution_count": 5,
   "metadata": {},
   "outputs": [],
   "source": [
    "def get_keyword_tweets(keyword, count):\n",
    "    items = api.search_30_day(label='Development', query=keyword, maxResults= count)\n",
    "    return items"
   ]
  },
  {
   "cell_type": "code",
   "execution_count": 7,
   "metadata": {},
   "outputs": [],
   "source": [
    "def get_new_table(stockname):\n",
    "    answer = get_keyword_tweets(stockname, 100)\n",
    "    df = pd.DataFrame({\"tweet\": [tweet.text for tweet in answer], \"language\":[tweet.lang for tweet in answer],\"likes\": [tweet.favorite_count for tweet in answer],\"retweets\": [tweet.retweet_count for tweet in answer], \"datetime\":[tweet.created_at for tweet in answer]})\n",
    "    df = df[df.language == \"en\"]\n",
    "    df[\"Subjectivity\"] = df[\"tweet\"].apply(getSubjectivity)\n",
    "    df[\"Polarity\"] = df[\"tweet\"].apply(getPolarity)\n",
    "    df[\"Analysis\"] = df[\"Polarity\"].apply(getAnalysis)\n",
    "    return df"
   ]
  },
  {
   "cell_type": "code",
   "execution_count": 12,
   "metadata": {},
   "outputs": [],
   "source": [
    "paytm_csv = get_new_table(\"paytm\")\n",
    "paytm_csv.to_csv(\"infy.csv\", encoding=\"utf-8\")"
   ]
  },
  {
   "cell_type": "code",
   "execution_count": 8,
   "metadata": {},
   "outputs": [],
   "source": [
    "stocklist = [\"ASIANPAINTS\", 'AXIS BANK', 'BAJAJ AUTO','BAJAJ FINANCE', 'BAJAJ FINSERV', 'BHARTI AIRTEL', 'HCL TECHNOLOGIES', 'HDFC', 'HDFC BANK', 'HUL', 'ICICI BANK', 'INDUSIND BANK', 'INFOSYS', 'ITC', 'KOTAK MAHINDRA BANK', 'L&T','M3M','MARUTI SUZUKI', 'NESTLE', 'NTPC', 'ONGC', 'POWER GRID', 'RELIANCE IND', 'SBI', 'SUN PHARMA', 'TATA STEEL', 'TCS', 'TECH MAHINDRA', 'TITAN', 'ULTRATECH CEMENT']"
   ]
  },
  {
   "cell_type": "code",
   "execution_count": 27,
   "metadata": {},
   "outputs": [
    {
     "data": {
      "text/plain": [
       "'M3M'"
      ]
     },
     "execution_count": 27,
     "metadata": {},
     "output_type": "execute_result"
    }
   ],
   "source": [
    "stocklist[16]"
   ]
  },
  {
   "cell_type": "code",
   "execution_count": 10,
   "metadata": {},
   "outputs": [],
   "source": [
    "def create_table_in_folder(stockname):\n",
    "    csv = get_new_table(stockname)\n",
    "    csv.to_csv(\"StockCSV/{}.csv\".format(stockname), encoding=\"utf-8\")\n",
    "\n",
    "def add_in_table(stockname):\n",
    "    csv = get_new_table(stockname)\n",
    "    csv.to_csv(\"StockCSV/{}.csv\".format(stockname),mode = 'a',header = False, encoding=\"utf-8\")"
   ]
  },
  {
   "cell_type": "code",
   "execution_count": 71,
   "metadata": {},
   "outputs": [],
   "source": [
    "add_in_table(stocklist[29])"
   ]
  },
  {
   "cell_type": "code",
   "execution_count": 9,
   "metadata": {},
   "outputs": [],
   "source": [
    "tata_df = get_new_table(\"TATASTEEL\")\n",
    "tata_df.to_csv('tata.csv', mode='a', index=False, header=False)"
   ]
  },
  {
   "cell_type": "code",
   "execution_count": 1,
   "metadata": {},
   "outputs": [],
   "source": [
    "import sched, time"
   ]
  },
  {
   "cell_type": "code",
   "execution_count": null,
   "metadata": {},
   "outputs": [],
   "source": [
    "import requests"
   ]
  },
  {
   "cell_type": "code",
   "execution_count": 2,
   "metadata": {},
   "outputs": [],
   "source": [
    "s = sched.scheduler(time.time, time.sleep)"
   ]
  },
  {
   "cell_type": "code",
   "execution_count": 4,
   "metadata": {},
   "outputs": [],
   "source": [
    "def add_in_table(): \n",
    "    time.sleep(60*60*6)\n",
    "    for stock in stocklist:\n",
    "        add_in_table(stock)\n",
    "    return add_in_table()\n",
    "    "
   ]
  },
  {
   "cell_type": "code",
   "execution_count": 6,
   "metadata": {},
   "outputs": [
    {
     "ename": "KeyboardInterrupt",
     "evalue": "",
     "output_type": "error",
     "traceback": [
      "\u001b[0;31m---------------------------------------------------------------------------\u001b[0m",
      "\u001b[0;31mKeyboardInterrupt\u001b[0m                         Traceback (most recent call last)",
      "\u001b[0;32m/var/folders/6r/61h6dlnx7vx63vghxcc869mm0000gn/T/ipykernel_30312/124994866.py\u001b[0m in \u001b[0;36m<module>\u001b[0;34m\u001b[0m\n\u001b[0;32m----> 1\u001b[0;31m \u001b[0madd_in_table\u001b[0m\u001b[0;34m(\u001b[0m\u001b[0;34m)\u001b[0m\u001b[0;34m\u001b[0m\u001b[0;34m\u001b[0m\u001b[0m\n\u001b[0m",
      "\u001b[0;32m/var/folders/6r/61h6dlnx7vx63vghxcc869mm0000gn/T/ipykernel_30312/1343997248.py\u001b[0m in \u001b[0;36madd_in_table\u001b[0;34m()\u001b[0m\n\u001b[1;32m      1\u001b[0m \u001b[0;32mdef\u001b[0m \u001b[0madd_in_table\u001b[0m\u001b[0;34m(\u001b[0m\u001b[0;34m)\u001b[0m\u001b[0;34m:\u001b[0m\u001b[0;34m\u001b[0m\u001b[0;34m\u001b[0m\u001b[0m\n\u001b[0;32m----> 2\u001b[0;31m     \u001b[0mtime\u001b[0m\u001b[0;34m.\u001b[0m\u001b[0msleep\u001b[0m\u001b[0;34m(\u001b[0m\u001b[0;36m60\u001b[0m\u001b[0;34m*\u001b[0m\u001b[0;36m60\u001b[0m\u001b[0;34m*\u001b[0m\u001b[0;36m6\u001b[0m\u001b[0;34m)\u001b[0m\u001b[0;34m\u001b[0m\u001b[0;34m\u001b[0m\u001b[0m\n\u001b[0m\u001b[1;32m      3\u001b[0m     \u001b[0;32mfor\u001b[0m \u001b[0mstock\u001b[0m \u001b[0;32min\u001b[0m \u001b[0mstocklist\u001b[0m\u001b[0;34m:\u001b[0m\u001b[0;34m\u001b[0m\u001b[0;34m\u001b[0m\u001b[0m\n\u001b[1;32m      4\u001b[0m         \u001b[0madd_in_table\u001b[0m\u001b[0;34m(\u001b[0m\u001b[0mstock\u001b[0m\u001b[0;34m)\u001b[0m\u001b[0;34m\u001b[0m\u001b[0;34m\u001b[0m\u001b[0m\n\u001b[1;32m      5\u001b[0m     \u001b[0;32mreturn\u001b[0m \u001b[0madd_in_table\u001b[0m\u001b[0;34m(\u001b[0m\u001b[0;34m)\u001b[0m\u001b[0;34m\u001b[0m\u001b[0;34m\u001b[0m\u001b[0m\n",
      "\u001b[0;31mKeyboardInterrupt\u001b[0m: "
     ]
    }
   ],
   "source": [
    "add_in_table()"
   ]
  },
  {
   "cell_type": "code",
   "execution_count": 11,
   "metadata": {},
   "outputs": [],
   "source": [
    "for i in stocklist:\n",
    "    add_in_table(i)"
   ]
  }
 ],
 "metadata": {
  "interpreter": {
   "hash": "b0fa6594d8f4cbf19f97940f81e996739fb7646882a419484c72d19e05852a7e"
  },
  "kernelspec": {
   "display_name": "Python 3.9.7 64-bit",
   "name": "python3"
  },
  "language_info": {
   "codemirror_mode": {
    "name": "ipython",
    "version": 3
   },
   "file_extension": ".py",
   "mimetype": "text/x-python",
   "name": "python",
   "nbconvert_exporter": "python",
   "pygments_lexer": "ipython3",
   "version": "3.9.7"
  },
  "orig_nbformat": 4
 },
 "nbformat": 4,
 "nbformat_minor": 2
}
