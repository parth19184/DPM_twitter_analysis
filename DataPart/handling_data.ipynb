{
 "cells": [
  {
   "cell_type": "code",
   "execution_count": 1,
   "metadata": {},
   "outputs": [],
   "source": [
    "import pandas as pd\n",
    "import tweepy\n",
    "from textblob import TextBlob\n",
    "from wordcloud import WordCloud\n",
    "import numpy as np\n",
    "import matplotlib.pyplot as plt\n",
    "import re"
   ]
  },
  {
   "cell_type": "code",
   "execution_count": 2,
   "metadata": {},
   "outputs": [],
   "source": [
    "consumer_key = \"CSuIiOnVjfkIVlwoOt8TmrGW7\"\n",
    "consumer_key_secret = \"wz0VqziOsFNr1vaz1RY3XySNHajIeW7D2SKdyMP76Z89rJuHvd\"\n",
    "access_token = \"1457745168690450437-7dnKuIzrBMIxTJSqQ0eSfaNycyp7BV\"\n",
    "access_token_secret = \"mfkismanuwheyKmCsXCbFIVLNibt2MW8CZas3qfqFPken\""
   ]
  },
  {
   "cell_type": "code",
   "execution_count": 3,
   "metadata": {},
   "outputs": [],
   "source": [
    "auth = tweepy .OAuthHandler(consumer_key, consumer_key_secret)\n",
    "auth.set_access_token(access_token, access_token_secret)\n",
    "api = tweepy.API(auth)"
   ]
  },
  {
   "cell_type": "code",
   "execution_count": 4,
   "metadata": {},
   "outputs": [],
   "source": [
    "def cleanText(text):\n",
    "    text = re.sub(r\"@[A-Za-z0-9]+\", '', text) #removed @mentions\n",
    "    text = re.sub(r'#', '', text) #removing # symbol\n",
    "    text = re.sub(r'RT[\\s]+', '', text) #removing retweets RT\n",
    "    text = re.sub(r'https?:\\/\\/\\S+', '', text) #removes the hyperlink\n",
    "\n",
    "    return text\n",
    "\n",
    "def getSubjectivity(text):\n",
    "    return TextBlob(text).sentiment.subjectivity\n",
    "\n",
    "def getPolarity(text):\n",
    "    return TextBlob(text).sentiment.polarity\n",
    "\n",
    "def getAnalysis(score):\n",
    "    if score < 0:\n",
    "        return \"Negative\"\n",
    "    elif score == 0:\n",
    "        return \"Neutral\"\n",
    "    else:\n",
    "        return \"Positive\""
   ]
  },
  {
   "cell_type": "code",
   "execution_count": 5,
   "metadata": {},
   "outputs": [],
   "source": [
    "def get_keyword_tweets(keyword, count):\n",
    "    items = api.search_30_day(label='Development', query=keyword, maxResults= count)\n",
    "    return items"
   ]
  },
  {
   "cell_type": "code",
   "execution_count": 7,
   "metadata": {},
   "outputs": [
    {
     "data": {
      "text/plain": [
       "{'created_at': 'Mon Nov 15 09:18:46 +0000 2021',\n",
       " 'id': 1460175433585025026,\n",
       " 'id_str': '1460175433585025026',\n",
       " 'text': 'Grapperhaus is volledig door de mand gevallen maar natuurlijk wordt hij 100% gesteund door georganiseerde Bill Gate… https://t.co/OIkMCtXIin',\n",
       " 'source': '<a href=\"http://www.realisteninverzet.nl\" rel=\"nofollow\">Realistbot NL</a>',\n",
       " 'truncated': True,\n",
       " 'in_reply_to_status_id': None,\n",
       " 'in_reply_to_status_id_str': None,\n",
       " 'in_reply_to_user_id': None,\n",
       " 'in_reply_to_user_id_str': None,\n",
       " 'in_reply_to_screen_name': None,\n",
       " 'user': {'id': 1057191992818577408,\n",
       "  'id_str': '1057191992818577408',\n",
       "  'name': 'Realistbot 🚜🇱🇺',\n",
       "  'screen_name': 'RealistBotNL',\n",
       "  'location': 'HOLLAND ME VADERLAND 🇱🇺',\n",
       "  'url': 'https://bit.ly/2HePvIg',\n",
       "  'description': 'pro europa dus anti eussr!! pvv op 1! nederland is een DICTATUUR ONDER RUTTE #oprutte #realist #verzet #boeren #parodie #antiantifa! broertje van @WokeBotNL',\n",
       "  'translator_type': 'none',\n",
       "  'protected': False,\n",
       "  'verified': False,\n",
       "  'followers_count': 2100,\n",
       "  'friends_count': 1,\n",
       "  'listed_count': 20,\n",
       "  'favourites_count': 3,\n",
       "  'statuses_count': 30521,\n",
       "  'created_at': 'Tue Oct 30 08:46:27 +0000 2018',\n",
       "  'utc_offset': None,\n",
       "  'time_zone': None,\n",
       "  'geo_enabled': False,\n",
       "  'lang': None,\n",
       "  'contributors_enabled': False,\n",
       "  'is_translator': False,\n",
       "  'profile_background_color': '000000',\n",
       "  'profile_background_image_url': 'http://abs.twimg.com/images/themes/theme1/bg.png',\n",
       "  'profile_background_image_url_https': 'https://abs.twimg.com/images/themes/theme1/bg.png',\n",
       "  'profile_background_tile': False,\n",
       "  'profile_link_color': '7FDBB6',\n",
       "  'profile_sidebar_border_color': '000000',\n",
       "  'profile_sidebar_fill_color': '000000',\n",
       "  'profile_text_color': '000000',\n",
       "  'profile_use_background_image': False,\n",
       "  'profile_image_url': 'http://pbs.twimg.com/profile_images/1429866025978408961/WsEj0fN3_normal.jpg',\n",
       "  'profile_image_url_https': 'https://pbs.twimg.com/profile_images/1429866025978408961/WsEj0fN3_normal.jpg',\n",
       "  'profile_banner_url': 'https://pbs.twimg.com/profile_banners/1057191992818577408/1572985174',\n",
       "  'default_profile': False,\n",
       "  'default_profile_image': False,\n",
       "  'following': None,\n",
       "  'follow_request_sent': None,\n",
       "  'notifications': None,\n",
       "  'withheld_in_countries': []},\n",
       " 'geo': None,\n",
       " 'coordinates': None,\n",
       " 'place': None,\n",
       " 'contributors': None,\n",
       " 'is_quote_status': False,\n",
       " 'extended_tweet': {'full_text': 'Grapperhaus is volledig door de mand gevallen maar natuurlijk wordt hij 100% gesteund door georganiseerde Bill Gates. Daarom zeg ik: NEE TEGEN MSM 🐸',\n",
       "  'display_text_range': [0, 148],\n",
       "  'entities': {'hashtags': [],\n",
       "   'urls': [],\n",
       "   'user_mentions': [],\n",
       "   'symbols': []}},\n",
       " 'quote_count': 0,\n",
       " 'reply_count': 0,\n",
       " 'retweet_count': 0,\n",
       " 'favorite_count': 0,\n",
       " 'entities': {'hashtags': [],\n",
       "  'urls': [{'url': 'https://t.co/OIkMCtXIin',\n",
       "    'expanded_url': 'https://twitter.com/i/web/status/1460175433585025026',\n",
       "    'display_url': 'twitter.com/i/web/status/1…',\n",
       "    'indices': [117, 140]}],\n",
       "  'user_mentions': [],\n",
       "  'symbols': []},\n",
       " 'favorited': False,\n",
       " 'retweeted': False,\n",
       " 'filter_level': 'low',\n",
       " 'lang': 'nl',\n",
       " 'matching_rules': [{'tag': None}]}"
      ]
     },
     "execution_count": 7,
     "metadata": {},
     "output_type": "execute_result"
    }
   ],
   "source": [
    "p = get_keyword_tweets(\"bill gates\", 10)\n",
    "p[0]._json"
   ]
  },
  {
   "cell_type": "code",
   "execution_count": 6,
   "metadata": {},
   "outputs": [],
   "source": [
    "def get_new_table(stockname):\n",
    "    answer = get_keyword_tweets(stockname, 100)\n",
    "    df = pd.DataFrame({\"tweet\": [tweet.text for tweet in answer], \"language\":[tweet.lang for tweet in answer],\"likes\": [tweet.favorite_count for tweet in answer],\"retweets\": [tweet.retweet_count for tweet in answer], \"datetime\":[tweet.created_at for tweet in answer]})\n",
    "    df = df[df.language == \"en\"]\n",
    "    df[\"Subjectivity\"] = df[\"tweet\"].apply(getSubjectivity)\n",
    "    df[\"Polarity\"] = df[\"tweet\"].apply(getPolarity)\n",
    "    df[\"Analysis\"] = df[\"Polarity\"].apply(getAnalysis)\n",
    "    return df"
   ]
  },
  {
   "cell_type": "code",
   "execution_count": 8,
   "metadata": {},
   "outputs": [],
   "source": [
    "infy_csv = get_new_table(\"INFOSYS\")\n",
    "infy_csv.to_csv(\"infy.csv\", encoding=\"utf-8\")"
   ]
  },
  {
   "cell_type": "code",
   "execution_count": 9,
   "metadata": {},
   "outputs": [],
   "source": [
    "tata_df = get_new_table(\"TATASTEEL\")\n",
    "tata_df.to_csv('tata.csv', mode='a', index=False, header=False)"
   ]
  }
 ],
 "metadata": {
  "interpreter": {
   "hash": "b0fa6594d8f4cbf19f97940f81e996739fb7646882a419484c72d19e05852a7e"
  },
  "kernelspec": {
   "display_name": "Python 3.9.7 64-bit",
   "name": "python3"
  },
  "language_info": {
   "codemirror_mode": {
    "name": "ipython",
    "version": 3
   },
   "file_extension": ".py",
   "mimetype": "text/x-python",
   "name": "python",
   "nbconvert_exporter": "python",
   "pygments_lexer": "ipython3",
   "version": "3.9.7"
  },
  "orig_nbformat": 4
 },
 "nbformat": 4,
 "nbformat_minor": 2
}
