{
 "cells": [
  {
   "cell_type": "code",
   "execution_count": 11,
   "metadata": {},
   "outputs": [],
   "source": [
    "import pandas as pd\n",
    "import tweepy\n",
    "from textblob import TextBlob\n",
    "from wordcloud import WordCloud\n",
    "import numpy as np\n",
    "import matplotlib.pyplot as plt\n",
    "import re\n",
    "import pickle\n"
   ]
  },
  {
   "cell_type": "code",
   "execution_count": 118,
   "metadata": {},
   "outputs": [],
   "source": [
    "consumer_key = \"UZsGlNd58jFSnkbzmiIj0asIH\"\n",
    "consumer_key_secret = \"cdv0HfYrqJ7517qXQnDy7y24oaHLbmZ2z2l2ZFECzS5EwylSEG\"\n",
    "access_token = \"1452533975180738562-iDShopCCVrvtIwlTgUzP94UHJIyjYV\"\n",
    "access_token_secret = \"N1807EGuy1F5bCMZEreYpQfsVdiEQ7ABjpQfvMxZNOxPq\""
   ]
  },
  {
   "cell_type": "code",
   "execution_count": 119,
   "metadata": {},
   "outputs": [],
   "source": [
    "auth = tweepy .OAuthHandler(consumer_key, consumer_key_secret)\n",
    "auth.set_access_token(access_token, access_token_secret)\n",
    "api = tweepy.API(auth, wait_on_rate_limit= True)"
   ]
  },
  {
   "cell_type": "code",
   "execution_count": 9,
   "metadata": {},
   "outputs": [],
   "source": [
    "def cleanText(text):\n",
    "    text = re.sub(r\"@[A-Za-z0-9]+\", '', text) #removed @mentions\n",
    "    text = re.sub(r'#', '', text) #removing # symbol\n",
    "    text = re.sub(r'RT[\\s]+', '', text) #removing retweets RT\n",
    "    text = re.sub(r'https?:\\/\\/\\S+', '', text) #removes the hyperlink\n",
    "\n",
    "    return text"
   ]
  },
  {
   "cell_type": "code",
   "execution_count": 121,
   "metadata": {},
   "outputs": [],
   "source": [
    "def getSubjectivity(text):\n",
    "    return TextBlob(text).sentiment.subjectivity"
   ]
  },
  {
   "cell_type": "code",
   "execution_count": 122,
   "metadata": {},
   "outputs": [],
   "source": [
    "def getPolarity(text):\n",
    "    return TextBlob(text).sentiment.polarity"
   ]
  },
  {
   "cell_type": "code",
   "execution_count": 123,
   "metadata": {},
   "outputs": [],
   "source": [
    "def getAnalysis(score):\n",
    "    if score < 0:\n",
    "        return \"Negative\"\n",
    "    elif score == 0:\n",
    "        return \"Neutral\"\n",
    "    else:\n",
    "        return \"Positive\""
   ]
  },
  {
   "cell_type": "code",
   "execution_count": 124,
   "metadata": {},
   "outputs": [],
   "source": [
    "def get_keyword_tweets(keyword, count):\n",
    "    items = api.search_30_day(label='development', query=keyword, maxResults= count)\n",
    "    return items"
   ]
  },
  {
   "cell_type": "code",
   "execution_count": 125,
   "metadata": {},
   "outputs": [],
   "source": [
    "frames = []\n",
    "for i in range(10):\n",
    "    frames.append(get_keyword_tweets(\"TATASTEEL\",100))"
   ]
  },
  {
   "cell_type": "code",
   "execution_count": 126,
   "metadata": {},
   "outputs": [],
   "source": [
    "frames2 =[]\n",
    "for test_l in frames:\n",
    "    df = pd.DataFrame({\"tweet\": [tweet.text for tweet in test_l], \"language\":[tweet.lang for tweet in test_l],\"likes\": [tweet.favorite_count for tweet in test_l],\"retweets\": [tweet.retweet_count for tweet in test_l]})\n",
    "    frames2.append(df)"
   ]
  },
  {
   "cell_type": "code",
   "execution_count": 127,
   "metadata": {},
   "outputs": [],
   "source": [
    "big_table = pd.concat(frames2)\n",
    "big_table['tweet'] = big_table['tweet'].apply(cleanText)\n",
    "big_table[\"Subjectivity\"] = big_table[\"tweet\"].apply(getSubjectivity)\n",
    "big_table[\"Polarity\"] = big_table[\"tweet\"].apply(getPolarity)"
   ]
  },
  {
   "cell_type": "code",
   "execution_count": 128,
   "metadata": {},
   "outputs": [],
   "source": [
    "big_table[\"Analysis\"] = big_table[\"Polarity\"].apply(getAnalysis)"
   ]
  },
  {
   "cell_type": "code",
   "execution_count": 129,
   "metadata": {},
   "outputs": [
    {
     "data": {
      "text/html": [
       "<div>\n",
       "<style scoped>\n",
       "    .dataframe tbody tr th:only-of-type {\n",
       "        vertical-align: middle;\n",
       "    }\n",
       "\n",
       "    .dataframe tbody tr th {\n",
       "        vertical-align: top;\n",
       "    }\n",
       "\n",
       "    .dataframe thead th {\n",
       "        text-align: right;\n",
       "    }\n",
       "</style>\n",
       "<table border=\"1\" class=\"dataframe\">\n",
       "  <thead>\n",
       "    <tr style=\"text-align: right;\">\n",
       "      <th></th>\n",
       "      <th>tweet</th>\n",
       "      <th>language</th>\n",
       "      <th>likes</th>\n",
       "      <th>retweets</th>\n",
       "      <th>Subjectivity</th>\n",
       "      <th>Polarity</th>\n",
       "      <th>Analysis</th>\n",
       "    </tr>\n",
       "  </thead>\n",
       "  <tbody>\n",
       "    <tr>\n",
       "      <th>0</th>\n",
       "      <td>tatasteel looking 1300 1250 1200 soon 1380 res</td>\n",
       "      <td>en</td>\n",
       "      <td>0</td>\n",
       "      <td>0</td>\n",
       "      <td>0.000000</td>\n",
       "      <td>0.000000</td>\n",
       "      <td>Neutral</td>\n",
       "    </tr>\n",
       "    <tr>\n",
       "      <th>1</th>\n",
       "      <td>Keep an eye on Sail Tatasteel from here.</td>\n",
       "      <td>en</td>\n",
       "      <td>1</td>\n",
       "      <td>0</td>\n",
       "      <td>0.000000</td>\n",
       "      <td>0.000000</td>\n",
       "      <td>Neutral</td>\n",
       "    </tr>\n",
       "    <tr>\n",
       "      <th>2</th>\n",
       "      <td>: $JSWSTEEL.NSE Jswsteel - expecting sideways ...</td>\n",
       "      <td>en</td>\n",
       "      <td>0</td>\n",
       "      <td>0</td>\n",
       "      <td>0.288889</td>\n",
       "      <td>-0.155556</td>\n",
       "      <td>Negative</td>\n",
       "    </tr>\n",
       "    <tr>\n",
       "      <th>3</th>\n",
       "      <td>: glandpharma looking at the complex injectabl...</td>\n",
       "      <td>en</td>\n",
       "      <td>0</td>\n",
       "      <td>0</td>\n",
       "      <td>0.400000</td>\n",
       "      <td>-0.300000</td>\n",
       "      <td>Negative</td>\n",
       "    </tr>\n",
       "    <tr>\n",
       "      <th>4</th>\n",
       "      <td>$TATASTEEL.NSE Tatasteel - complex correction ...</td>\n",
       "      <td>en</td>\n",
       "      <td>0</td>\n",
       "      <td>0</td>\n",
       "      <td>0.450000</td>\n",
       "      <td>0.100000</td>\n",
       "      <td>Positive</td>\n",
       "    </tr>\n",
       "    <tr>\n",
       "      <th>...</th>\n",
       "      <td>...</td>\n",
       "      <td>...</td>\n",
       "      <td>...</td>\n",
       "      <td>...</td>\n",
       "      <td>...</td>\n",
       "      <td>...</td>\n",
       "      <td>...</td>\n",
       "    </tr>\n",
       "    <tr>\n",
       "      <th>95</th>\n",
       "      <td>: Tata Motors : From Where It Earns Money?.\\n....</td>\n",
       "      <td>en</td>\n",
       "      <td>0</td>\n",
       "      <td>0</td>\n",
       "      <td>0.000000</td>\n",
       "      <td>0.000000</td>\n",
       "      <td>Neutral</td>\n",
       "    </tr>\n",
       "    <tr>\n",
       "      <th>96</th>\n",
       "      <td>: Tata Motors : From Where It Earns Money?.\\n....</td>\n",
       "      <td>en</td>\n",
       "      <td>0</td>\n",
       "      <td>0</td>\n",
       "      <td>0.000000</td>\n",
       "      <td>0.000000</td>\n",
       "      <td>Neutral</td>\n",
       "    </tr>\n",
       "    <tr>\n",
       "      <th>97</th>\n",
       "      <td>: Tata Motors : From Where It Earns Money?.\\n....</td>\n",
       "      <td>en</td>\n",
       "      <td>0</td>\n",
       "      <td>0</td>\n",
       "      <td>0.000000</td>\n",
       "      <td>0.000000</td>\n",
       "      <td>Neutral</td>\n",
       "    </tr>\n",
       "    <tr>\n",
       "      <th>98</th>\n",
       "      <td>: Tata Motors : From Where It Earns Money?.\\n....</td>\n",
       "      <td>en</td>\n",
       "      <td>0</td>\n",
       "      <td>0</td>\n",
       "      <td>0.000000</td>\n",
       "      <td>0.000000</td>\n",
       "      <td>Neutral</td>\n",
       "    </tr>\n",
       "    <tr>\n",
       "      <th>99</th>\n",
       "      <td>: Tata Motors : From Where It Earns Money?.\\n....</td>\n",
       "      <td>en</td>\n",
       "      <td>0</td>\n",
       "      <td>0</td>\n",
       "      <td>0.000000</td>\n",
       "      <td>0.000000</td>\n",
       "      <td>Neutral</td>\n",
       "    </tr>\n",
       "  </tbody>\n",
       "</table>\n",
       "<p>1000 rows × 7 columns</p>\n",
       "</div>"
      ],
      "text/plain": [
       "                                                tweet language  likes  \\\n",
       "0      tatasteel looking 1300 1250 1200 soon 1380 res       en      0   \n",
       "1            Keep an eye on Sail Tatasteel from here.       en      1   \n",
       "2   : $JSWSTEEL.NSE Jswsteel - expecting sideways ...       en      0   \n",
       "3   : glandpharma looking at the complex injectabl...       en      0   \n",
       "4   $TATASTEEL.NSE Tatasteel - complex correction ...       en      0   \n",
       "..                                                ...      ...    ...   \n",
       "95  : Tata Motors : From Where It Earns Money?.\\n....       en      0   \n",
       "96  : Tata Motors : From Where It Earns Money?.\\n....       en      0   \n",
       "97  : Tata Motors : From Where It Earns Money?.\\n....       en      0   \n",
       "98  : Tata Motors : From Where It Earns Money?.\\n....       en      0   \n",
       "99  : Tata Motors : From Where It Earns Money?.\\n....       en      0   \n",
       "\n",
       "    retweets  Subjectivity  Polarity  Analysis  \n",
       "0          0      0.000000  0.000000   Neutral  \n",
       "1          0      0.000000  0.000000   Neutral  \n",
       "2          0      0.288889 -0.155556  Negative  \n",
       "3          0      0.400000 -0.300000  Negative  \n",
       "4          0      0.450000  0.100000  Positive  \n",
       "..       ...           ...       ...       ...  \n",
       "95         0      0.000000  0.000000   Neutral  \n",
       "96         0      0.000000  0.000000   Neutral  \n",
       "97         0      0.000000  0.000000   Neutral  \n",
       "98         0      0.000000  0.000000   Neutral  \n",
       "99         0      0.000000  0.000000   Neutral  \n",
       "\n",
       "[1000 rows x 7 columns]"
      ]
     },
     "execution_count": 129,
     "metadata": {},
     "output_type": "execute_result"
    }
   ],
   "source": [
    "big_table"
   ]
  },
  {
   "cell_type": "code",
   "execution_count": 39,
   "metadata": {},
   "outputs": [
    {
     "name": "stdout",
     "output_type": "stream",
     "text": [
      "2021-11-08 03:55:36+00:00\n"
     ]
    }
   ],
   "source": [
    "weet = test_list[1]\n",
    "print(weet.created_at)"
   ]
  },
  {
   "cell_type": "code",
   "execution_count": null,
   "metadata": {},
   "outputs": [],
   "source": [
    "unpickled_df = pd.read_pickle(\"./table.pkl\")\n"
   ]
  },
  {
   "cell_type": "code",
   "execution_count": 2,
   "metadata": {},
   "outputs": [],
   "source": [
    "import pandas as pd"
   ]
  },
  {
   "cell_type": "code",
   "execution_count": 3,
   "metadata": {},
   "outputs": [
    {
     "data": {
      "text/html": [
       "<div>\n",
       "<style scoped>\n",
       "    .dataframe tbody tr th:only-of-type {\n",
       "        vertical-align: middle;\n",
       "    }\n",
       "\n",
       "    .dataframe tbody tr th {\n",
       "        vertical-align: top;\n",
       "    }\n",
       "\n",
       "    .dataframe thead th {\n",
       "        text-align: right;\n",
       "    }\n",
       "</style>\n",
       "<table border=\"1\" class=\"dataframe\">\n",
       "  <thead>\n",
       "    <tr style=\"text-align: right;\">\n",
       "      <th></th>\n",
       "      <th>Unnamed: 0</th>\n",
       "      <th>tweet</th>\n",
       "      <th>language</th>\n",
       "      <th>likes</th>\n",
       "      <th>retweets</th>\n",
       "      <th>datetime</th>\n",
       "      <th>Subjectivity</th>\n",
       "      <th>Polarity</th>\n",
       "      <th>Analysis</th>\n",
       "    </tr>\n",
       "  </thead>\n",
       "  <tbody>\n",
       "    <tr>\n",
       "      <th>78</th>\n",
       "      <td>94</td>\n",
       "      <td>@HDFCBank_Cares Wrong / Fake mail id ... https...</td>\n",
       "      <td>en</td>\n",
       "      <td>0</td>\n",
       "      <td>0</td>\n",
       "      <td>2021-11-11 07:10:31+00:00</td>\n",
       "      <td>0.95</td>\n",
       "      <td>-0.50</td>\n",
       "      <td>Negative</td>\n",
       "    </tr>\n",
       "    <tr>\n",
       "      <th>79</th>\n",
       "      <td>95</td>\n",
       "      <td>@HDFC_Bank I am unable to get in touch with CC...</td>\n",
       "      <td>en</td>\n",
       "      <td>0</td>\n",
       "      <td>0</td>\n",
       "      <td>2021-11-11 07:09:01+00:00</td>\n",
       "      <td>0.50</td>\n",
       "      <td>-0.50</td>\n",
       "      <td>Negative</td>\n",
       "    </tr>\n",
       "    <tr>\n",
       "      <th>80</th>\n",
       "      <td>96</td>\n",
       "      <td>HDFCBANK in Daily timeframe Demand Zone of 152...</td>\n",
       "      <td>en</td>\n",
       "      <td>0</td>\n",
       "      <td>0</td>\n",
       "      <td>2021-11-11 07:09:00+00:00</td>\n",
       "      <td>0.30</td>\n",
       "      <td>0.35</td>\n",
       "      <td>Positive</td>\n",
       "    </tr>\n",
       "    <tr>\n",
       "      <th>81</th>\n",
       "      <td>97</td>\n",
       "      <td>@HDFC_Bank @HDFCBank_Cares Hi I received my cr...</td>\n",
       "      <td>en</td>\n",
       "      <td>0</td>\n",
       "      <td>0</td>\n",
       "      <td>2021-11-11 07:06:27+00:00</td>\n",
       "      <td>0.00</td>\n",
       "      <td>0.00</td>\n",
       "      <td>Neutral</td>\n",
       "    </tr>\n",
       "    <tr>\n",
       "      <th>82</th>\n",
       "      <td>99</td>\n",
       "      <td>RT @CapitalTrends: #HDFCBANK forms #GapDown pa...</td>\n",
       "      <td>en</td>\n",
       "      <td>0</td>\n",
       "      <td>0</td>\n",
       "      <td>2021-11-11 07:05:01+00:00</td>\n",
       "      <td>0.00</td>\n",
       "      <td>0.00</td>\n",
       "      <td>Neutral</td>\n",
       "    </tr>\n",
       "  </tbody>\n",
       "</table>\n",
       "</div>"
      ],
      "text/plain": [
       "    Unnamed: 0                                              tweet language  \\\n",
       "78          94  @HDFCBank_Cares Wrong / Fake mail id ... https...       en   \n",
       "79          95  @HDFC_Bank I am unable to get in touch with CC...       en   \n",
       "80          96  HDFCBANK in Daily timeframe Demand Zone of 152...       en   \n",
       "81          97  @HDFC_Bank @HDFCBank_Cares Hi I received my cr...       en   \n",
       "82          99  RT @CapitalTrends: #HDFCBANK forms #GapDown pa...       en   \n",
       "\n",
       "    likes  retweets                   datetime  Subjectivity  Polarity  \\\n",
       "78      0         0  2021-11-11 07:10:31+00:00          0.95     -0.50   \n",
       "79      0         0  2021-11-11 07:09:01+00:00          0.50     -0.50   \n",
       "80      0         0  2021-11-11 07:09:00+00:00          0.30      0.35   \n",
       "81      0         0  2021-11-11 07:06:27+00:00          0.00      0.00   \n",
       "82      0         0  2021-11-11 07:05:01+00:00          0.00      0.00   \n",
       "\n",
       "    Analysis  \n",
       "78  Negative  \n",
       "79  Negative  \n",
       "80  Positive  \n",
       "81   Neutral  \n",
       "82   Neutral  "
      ]
     },
     "execution_count": 3,
     "metadata": {},
     "output_type": "execute_result"
    }
   ],
   "source": [
    "big_table = pd.read_csv('hdfc2.csv')\n",
    "big_table.tail()"
   ]
  },
  {
   "cell_type": "code",
   "execution_count": 4,
   "metadata": {},
   "outputs": [],
   "source": [
    "Analysis = big_table['Analysis'].tolist()\n",
    "tweet = big_table['tweet'].tolist()"
   ]
  },
  {
   "cell_type": "code",
   "execution_count": 53,
   "metadata": {},
   "outputs": [
    {
     "data": {
      "text/plain": [
       "83"
      ]
     },
     "execution_count": 53,
     "metadata": {},
     "output_type": "execute_result"
    }
   ],
   "source": [
    "len(Analysis)"
   ]
  },
  {
   "cell_type": "code",
   "execution_count": 71,
   "metadata": {},
   "outputs": [],
   "source": [
    "pos=neg=neu=0\n",
    "positive=[]\n",
    "negative=[]\n",
    "neutral=[]\n",
    "tempPos=[]\n",
    "tempNeg=[]\n",
    "tempNeu=[]\n",
    "PosReview=[]\n",
    "NeuReview=[]\n",
    "NegReview=[]\n",
    "count=0\n",
    "for i in range(0,len(Analysis)):\n",
    "    if(i%10 == 0 and i!=0):\n",
    "        positive.append(pos)\n",
    "        neutral.append(neu)\n",
    "        negative.append(neg)\n",
    "        pos=neg=neu=0\n",
    "        PosReview.append(tempPos)\n",
    "        NeuReview.append(tempNeu)\n",
    "        NegReview.append(tempNeg)\n",
    "        tempPos = []\n",
    "        tempNeu = []\n",
    "        tempNeg = []\n",
    "    if(Analysis[i] == \"Positive\"):\n",
    "        pos +=1\n",
    "        tempPos.append(tweet[i])\n",
    "    elif(Analysis[i] == \"Neutral\"):\n",
    "        neu +=1\n",
    "        tempNeu.append(tweet[i])\n",
    "    else:\n",
    "        neg +=1\n",
    "        tempNeg.append(tweet[i])"
   ]
  },
  {
   "cell_type": "code",
   "execution_count": 70,
   "metadata": {},
   "outputs": [
    {
     "name": "stdout",
     "output_type": "stream",
     "text": [
      "@HDFCBank_Cares Still waiting for your response\n",
      "@HDFCBank_Cares Still waiting for your response\n",
      "@HDFCBank_Cares Still waiting for your response\n"
     ]
    }
   ],
   "source": [
    "print(NegReview[1][2])\n",
    "print(PosReview[1][2])\n",
    "print(NeuReview[1][2])"
   ]
  },
  {
   "cell_type": "code",
   "execution_count": 56,
   "metadata": {},
   "outputs": [
    {
     "name": "stdout",
     "output_type": "stream",
     "text": [
      "[['RT @ravalyatrik: @HDFCBank_Cares I emailed twice and still not received any response and receiving false promises and customer representati…', 'From last few weeks, I am facing lot of harassment (miscommunication,  false promises, negligence, non reponsive) f… https://t.co/nheS86aAlI']]\n",
      "[['#HDFCBank near to good support zone of 1500-1510, i this its good buying opportunity. \\nEducational Only.\\nJoin us… https://t.co/l4wH9oFCp8', '#HDFCBank near to good support zone of 1500-1510, i this its good buying opportunity. \\nEducational Only.\\nJoin us… https://t.co/zAcz69N4n3', '@HDFCBank_Cares Dear Representative,\\nGood Morning!\\nDid you a chance to look into my query mentioned in previous message?\\nThank you', '@HDFC_Bank @HDFCBank_Cares @RBI nobody is responsible regarding this i visited branch for same but not solution… https://t.co/7OIOAuFQQr']]\n",
      "[[\"HDFC bank - I'm getting daily calls for loan from your multiple outsourced agencies, please assit to stop these cal… https://t.co/OAoMRGoAR3\", '@HDFC_Bank so called No. 1 bank, with cash deposit machine having error 6 out of 7 days in a week.\\n@HDFCBank_Cares . https://t.co/XKNmoecSua', \"@HDFCBank_Cares @HDFCBank_Cares I haven't received any reply. It was said in the DM that I would get a reply by 18… https://t.co/HzPVyXDeiZ\", '@HDFC_Bank @HDFCBank_Cares just got in touch with my relationship manger only to know that she is not with HDFC any… https://t.co/XUlcSX3QS3']]\n"
     ]
    }
   ],
   "source": [
    "print(NegReview)\n",
    "print(PosReview)\n",
    "print(NeuReview)"
   ]
  },
  {
   "cell_type": "markdown",
   "metadata": {},
   "source": [
    "xyz =[{'days':'Mon', 'products':{'sales':1, 'link':'https://www.google.com'}},\n",
    "{'days':'Tue', 'products':{'sales':2, 'link':'https://www.bing.com'}},\n",
    "{'days':'Wed', 'products':{'sales':3, 'link':'https://www.facebook.com'}},\n",
    "{'days':'Thu', 'products':{'sales':4, 'link':'https://www.instagram.com'}},\n",
    "{'days':'Fri', 'products':{'sales':5, 'link':'https://www.amazon.com'}},\n",
    "{'days':'Sat', 'products':{'sales':6, 'link':'https://www.flipkart.com'}},\n",
    "{'days':'Sun', 'products':{'sales':7, 'link':'https://com'}}]"
   ]
  },
  {
   "cell_type": "code",
   "execution_count": null,
   "metadata": {},
   "outputs": [],
   "source": []
  },
  {
   "cell_type": "code",
   "execution_count": 21,
   "metadata": {},
   "outputs": [],
   "source": [
    "PosPlot=[]\n",
    "for i in range(0,len(PosReview)):\n",
    "    x ={}\n",
    "    x['nums'] = i\n",
    "    x['prod'] = {'val':positive[i],'link':PosReview[i]}\n",
    "    PosPlot.append(x)\n"
   ]
  },
  {
   "cell_type": "code",
   "execution_count": 31,
   "metadata": {},
   "outputs": [],
   "source": [
    "NegPlot=[]\n",
    "for i in range(0,len(PosReview)):\n",
    "    x ={}\n",
    "    x['nums'] = i\n",
    "    x['prod'] = {'val':negative[i],'link':NegReview[i]}\n",
    "    NegPlot.append(x)"
   ]
  },
  {
   "cell_type": "code",
   "execution_count": 32,
   "metadata": {},
   "outputs": [],
   "source": [
    "NeuPlot=[]\n",
    "for i in range(0,len(PosReview)):\n",
    "    x ={}\n",
    "    x['nums'] = i\n",
    "    x['prod'] = {'val':neutral[i],'link':NeuReview[i]}\n",
    "    NeuPlot.append(x)"
   ]
  },
  {
   "cell_type": "code",
   "execution_count": 47,
   "metadata": {},
   "outputs": [
    {
     "data": {
      "text/plain": [
       "{'nums': 7,\n",
       " 'prod': {'val': 3,\n",
       "  'link': ['RT @Kumarmadhukar20: @rabetdowney @Amar_ji1 @HDFCBank_Cares @HDFC_Bank You can,\\n\\nI too have faced similar problem, so I tried depositing at…',\n",
       "   '#Hdfcbank jockey for the day!',\n",
       "   'Customer due is tomorrow 12 nov 21. Customer name:- Kiran tekale\\nMob no.8390818287\\n@HDFCBank_Cares @AmitShahOffice… https://t.co/Dd49DsIrHV',\n",
       "   \"@HDFC_Bank @HDFCBank_Cares @hdfcsec no customer support also i don't withdraw my funds why? https://t.co/Wue0bGZd2L\",\n",
       "   '@HDFCBank_Cares Thanks for prompt response and action by HDFC. Today my account shows reverse entry of amount wrong… https://t.co/a9vwt8XDg1',\n",
       "   '@HDFC_Bank &amp; @HDFCBank_Cares : Had called again customer care, and yet again Support Specialist could not understan… https://t.co/PnalBymB6Q',\n",
       "   'I had a free upgrade from Regalia to Millennia with #hdfcbank claiming that it is better. And now I am receiving ma… https://t.co/5FnuexrY4M',\n",
       "   'Why is iMobile such a buggy app?\\nKindly learn from @HDFC_Bank @HDFCBank_Cares how to develop a banking app for cust… https://t.co/MzA7qNHYjf',\n",
       "   '@HDFCBank_Cares Wrong / Fake mail id ... https://t.co/aU1NpeDGsA',\n",
       "   '@HDFC_Bank I am unable to get in touch with CC team want to enquire about my CC please help @HDFCBank_Cares #hdfcbank']}}"
      ]
     },
     "execution_count": 47,
     "metadata": {},
     "output_type": "execute_result"
    }
   ],
   "source": [
    "(NegPlot[7])"
   ]
  },
  {
   "cell_type": "code",
   "execution_count": 130,
   "metadata": {},
   "outputs": [],
   "source": [
    "k =big_table['Analysis'].tolist()"
   ]
  },
  {
   "cell_type": "code",
   "execution_count": 131,
   "metadata": {},
   "outputs": [
    {
     "name": "stdout",
     "output_type": "stream",
     "text": [
      "0\n",
      "15\n",
      "5\n",
      "15\n",
      "5\n",
      "15\n",
      "5\n",
      "15\n",
      "5\n",
      "15\n",
      "5\n",
      "15\n",
      "5\n",
      "15\n",
      "5\n",
      "15\n",
      "5\n",
      "15\n",
      "5\n",
      "15\n"
     ]
    }
   ],
   "source": [
    "pos = neu = neg = 0\n",
    "positive=[]\n",
    "negative=[]\n",
    "neutral=[]\n",
    "for i in range(0,1000):\n",
    "    if(i%50 == 0):\n",
    "        positive.append(pos)\n",
    "        negative.append(neg)\n",
    "        neutral.append(neu)\n",
    "        print(pos)\n",
    "        pos = neu = neg = 0\n",
    "    else:\n",
    "        if(k[i] == \"Positive\"):\n",
    "            pos +=1\n",
    "        elif(k[i] == \"Neutral\"):\n",
    "            neg +=1\n",
    "        else:\n",
    "            neu +=1"
   ]
  },
  {
   "cell_type": "code",
   "execution_count": 136,
   "metadata": {},
   "outputs": [
    {
     "name": "stdout",
     "output_type": "stream",
     "text": [
      "[0, 15, 5, 15, 5, 15, 5, 15, 5, 15, 5, 15, 5, 15, 5, 15, 5, 15, 5, 15]\n",
      "[0, 29, 43, 29, 43, 29, 43, 29, 43, 29, 43, 29, 43, 29, 43, 29, 43, 29, 43, 29]\n",
      "[0, 5, 1, 5, 1, 5, 1, 5, 1, 5, 1, 5, 1, 5, 1, 5, 1, 5, 1, 5]\n"
     ]
    }
   ],
   "source": [
    "print((positive))\n",
    "print((negative))\n",
    "print((neutral))"
   ]
  },
  {
   "cell_type": "code",
   "execution_count": 137,
   "metadata": {},
   "outputs": [],
   "source": [
    "from bokeh.plotting import figure, output_file, show\n",
    "from bokeh.transform import dodge\n"
   ]
  },
  {
   "cell_type": "code",
   "execution_count": 134,
   "metadata": {},
   "outputs": [
    {
     "data": {
      "text/html": [
       "<div style=\"display: table;\"><div style=\"display: table-row;\"><div style=\"display: table-cell;\"><b title=\"bokeh.models.renderers.GlyphRenderer\">GlyphRenderer</b>(</div><div style=\"display: table-cell;\">id&nbsp;=&nbsp;'2321', <span id=\"2324\" style=\"cursor: pointer;\">&hellip;)</span></div></div><div class=\"2323\" style=\"display: none;\"><div style=\"display: table-cell;\"></div><div style=\"display: table-cell;\">coordinates&nbsp;=&nbsp;None,</div></div><div class=\"2323\" style=\"display: none;\"><div style=\"display: table-cell;\"></div><div style=\"display: table-cell;\">data_source&nbsp;=&nbsp;ColumnDataSource(id='2316', ...),</div></div><div class=\"2323\" style=\"display: none;\"><div style=\"display: table-cell;\"></div><div style=\"display: table-cell;\">glyph&nbsp;=&nbsp;VBar(id='2318', ...),</div></div><div class=\"2323\" style=\"display: none;\"><div style=\"display: table-cell;\"></div><div style=\"display: table-cell;\">group&nbsp;=&nbsp;None,</div></div><div class=\"2323\" style=\"display: none;\"><div style=\"display: table-cell;\"></div><div style=\"display: table-cell;\">hover_glyph&nbsp;=&nbsp;None,</div></div><div class=\"2323\" style=\"display: none;\"><div style=\"display: table-cell;\"></div><div style=\"display: table-cell;\">js_event_callbacks&nbsp;=&nbsp;{},</div></div><div class=\"2323\" style=\"display: none;\"><div style=\"display: table-cell;\"></div><div style=\"display: table-cell;\">js_property_callbacks&nbsp;=&nbsp;{},</div></div><div class=\"2323\" style=\"display: none;\"><div style=\"display: table-cell;\"></div><div style=\"display: table-cell;\">level&nbsp;=&nbsp;'glyph',</div></div><div class=\"2323\" style=\"display: none;\"><div style=\"display: table-cell;\"></div><div style=\"display: table-cell;\">muted&nbsp;=&nbsp;False,</div></div><div class=\"2323\" style=\"display: none;\"><div style=\"display: table-cell;\"></div><div style=\"display: table-cell;\">muted_glyph&nbsp;=&nbsp;VBar(id='2320', ...),</div></div><div class=\"2323\" style=\"display: none;\"><div style=\"display: table-cell;\"></div><div style=\"display: table-cell;\">name&nbsp;=&nbsp;None,</div></div><div class=\"2323\" style=\"display: none;\"><div style=\"display: table-cell;\"></div><div style=\"display: table-cell;\">nonselection_glyph&nbsp;=&nbsp;VBar(id='2319', ...),</div></div><div class=\"2323\" style=\"display: none;\"><div style=\"display: table-cell;\"></div><div style=\"display: table-cell;\">selection_glyph&nbsp;=&nbsp;'auto',</div></div><div class=\"2323\" style=\"display: none;\"><div style=\"display: table-cell;\"></div><div style=\"display: table-cell;\">subscribed_events&nbsp;=&nbsp;[],</div></div><div class=\"2323\" style=\"display: none;\"><div style=\"display: table-cell;\"></div><div style=\"display: table-cell;\">syncable&nbsp;=&nbsp;True,</div></div><div class=\"2323\" style=\"display: none;\"><div style=\"display: table-cell;\"></div><div style=\"display: table-cell;\">tags&nbsp;=&nbsp;[],</div></div><div class=\"2323\" style=\"display: none;\"><div style=\"display: table-cell;\"></div><div style=\"display: table-cell;\">view&nbsp;=&nbsp;CDSView(id='2322', ...),</div></div><div class=\"2323\" style=\"display: none;\"><div style=\"display: table-cell;\"></div><div style=\"display: table-cell;\">visible&nbsp;=&nbsp;True,</div></div><div class=\"2323\" style=\"display: none;\"><div style=\"display: table-cell;\"></div><div style=\"display: table-cell;\">x_range_name&nbsp;=&nbsp;'default',</div></div><div class=\"2323\" style=\"display: none;\"><div style=\"display: table-cell;\"></div><div style=\"display: table-cell;\">y_range_name&nbsp;=&nbsp;'default')</div></div></div>\n",
       "<script>\n",
       "(function() {\n",
       "  let expanded = false;\n",
       "  const ellipsis = document.getElementById(\"2324\");\n",
       "  ellipsis.addEventListener(\"click\", function() {\n",
       "    const rows = document.getElementsByClassName(\"2323\");\n",
       "    for (let i = 0; i < rows.length; i++) {\n",
       "      const el = rows[i];\n",
       "      el.style.display = expanded ? \"none\" : \"table-row\";\n",
       "    }\n",
       "    ellipsis.innerHTML = expanded ? \"&hellip;)\" : \"&lsaquo;&lsaquo;&lsaquo;\";\n",
       "    expanded = !expanded;\n",
       "  });\n",
       "})();\n",
       "</script>\n"
      ],
      "text/plain": [
       "GlyphRenderer(id='2321', ...)"
      ]
     },
     "execution_count": 134,
     "metadata": {},
     "output_type": "execute_result"
    }
   ],
   "source": [
    "labs=[]\n",
    "for i in range(0,20):\n",
    "    labs.append(i)\n",
    "my_data = {'labs':labs,\n",
    "   'val_1':positive,\n",
    "   'val_2':neutral,\n",
    "   'val_3':negative\n",
    "}\n",
    "fig = figure(plot_width = 900, plot_height = 450)\n",
    "fig.vbar(x = dodge('labs', -0.25, range = fig.x_range), top = 'val_1',\n",
    "width = 0.2,source = my_data, color = \"green\")\n",
    "fig.vbar(x = dodge('labs', 0.0, range = fig.x_range), top = 'val_2',\n",
    "width = 0.2, source = my_data,color = \"cyan\")\n",
    "fig.vbar(x = dodge('labs', 0.25, range = fig.x_range), top = 'val_3',\n",
    "width = 0.2,source = my_data,color = \"blue\")"
   ]
  },
  {
   "cell_type": "code",
   "execution_count": 135,
   "metadata": {},
   "outputs": [],
   "source": [
    "show(fig)"
   ]
  },
  {
   "cell_type": "code",
   "execution_count": null,
   "metadata": {},
   "outputs": [],
   "source": []
  }
 ],
 "metadata": {
  "interpreter": {
   "hash": "eebc64394e9668fad21d5b6f57ab1042ad17c0ecb79c433b97edaf53650f47e4"
  },
  "kernelspec": {
   "display_name": "Python 3.7.0 32-bit",
   "language": "python",
   "name": "python3"
  },
  "language_info": {
   "codemirror_mode": {
    "name": "ipython",
    "version": 3
   },
   "file_extension": ".py",
   "mimetype": "text/x-python",
   "name": "python",
   "nbconvert_exporter": "python",
   "pygments_lexer": "ipython3",
   "version": "3.7.0"
  },
  "orig_nbformat": 4
 },
 "nbformat": 4,
 "nbformat_minor": 2
}
