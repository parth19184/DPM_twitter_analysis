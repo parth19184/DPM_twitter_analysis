{
 "cells": [
  {
   "cell_type": "code",
   "execution_count": 17,
   "metadata": {},
   "outputs": [],
   "source": [
    "import pandas as pd\n",
    "import numpy as np\n",
    "from datetime import datetime"
   ]
  },
  {
   "cell_type": "code",
   "execution_count": 8,
   "metadata": {},
   "outputs": [
    {
     "data": {
      "text/html": [
       "<div>\n",
       "<style scoped>\n",
       "    .dataframe tbody tr th:only-of-type {\n",
       "        vertical-align: middle;\n",
       "    }\n",
       "\n",
       "    .dataframe tbody tr th {\n",
       "        vertical-align: top;\n",
       "    }\n",
       "\n",
       "    .dataframe thead th {\n",
       "        text-align: right;\n",
       "    }\n",
       "</style>\n",
       "<table border=\"1\" class=\"dataframe\">\n",
       "  <thead>\n",
       "    <tr style=\"text-align: right;\">\n",
       "      <th></th>\n",
       "      <th>Unnamed: 0</th>\n",
       "      <th>tweet</th>\n",
       "      <th>language</th>\n",
       "      <th>likes</th>\n",
       "      <th>retweets</th>\n",
       "      <th>datetime</th>\n",
       "      <th>Subjectivity</th>\n",
       "      <th>Polarity</th>\n",
       "      <th>Analysis</th>\n",
       "    </tr>\n",
       "  </thead>\n",
       "  <tbody>\n",
       "    <tr>\n",
       "      <th>0</th>\n",
       "      <td>0</td>\n",
       "      <td>@AmCathytray Yes, there is! https://t.co/d8dpC...</td>\n",
       "      <td>en</td>\n",
       "      <td>0</td>\n",
       "      <td>0</td>\n",
       "      <td>2021-11-16 20:31:57+00:00</td>\n",
       "      <td>0.000000</td>\n",
       "      <td>0.000000</td>\n",
       "      <td>Neutral</td>\n",
       "    </tr>\n",
       "    <tr>\n",
       "      <th>1</th>\n",
       "      <td>1</td>\n",
       "      <td>#bergerpaints #Asianpaints #indigopaints #irct...</td>\n",
       "      <td>en</td>\n",
       "      <td>0</td>\n",
       "      <td>0</td>\n",
       "      <td>2021-11-16 19:19:23+00:00</td>\n",
       "      <td>0.000000</td>\n",
       "      <td>0.000000</td>\n",
       "      <td>Neutral</td>\n",
       "    </tr>\n",
       "    <tr>\n",
       "      <th>2</th>\n",
       "      <td>2</td>\n",
       "      <td>Promote it on  @nftcommunitty https://t.co/hMF...</td>\n",
       "      <td>en</td>\n",
       "      <td>0</td>\n",
       "      <td>0</td>\n",
       "      <td>2021-11-16 19:13:10+00:00</td>\n",
       "      <td>0.000000</td>\n",
       "      <td>0.000000</td>\n",
       "      <td>Neutral</td>\n",
       "    </tr>\n",
       "    <tr>\n",
       "      <th>3</th>\n",
       "      <td>3</td>\n",
       "      <td>RT @SonyTV: #ShaandarShrukravaar ke kuch khaas...</td>\n",
       "      <td>en</td>\n",
       "      <td>0</td>\n",
       "      <td>0</td>\n",
       "      <td>2021-11-16 19:03:21+00:00</td>\n",
       "      <td>1.000000</td>\n",
       "      <td>0.000000</td>\n",
       "      <td>Neutral</td>\n",
       "    </tr>\n",
       "    <tr>\n",
       "      <th>4</th>\n",
       "      <td>4</td>\n",
       "      <td>RT @asianpaints: Beautiful Indian handicrafts ...</td>\n",
       "      <td>en</td>\n",
       "      <td>0</td>\n",
       "      <td>0</td>\n",
       "      <td>2021-11-16 18:54:58+00:00</td>\n",
       "      <td>0.933333</td>\n",
       "      <td>0.683333</td>\n",
       "      <td>Positive</td>\n",
       "    </tr>\n",
       "  </tbody>\n",
       "</table>\n",
       "</div>"
      ],
      "text/plain": [
       "   Unnamed: 0                                              tweet language  \\\n",
       "0           0  @AmCathytray Yes, there is! https://t.co/d8dpC...       en   \n",
       "1           1  #bergerpaints #Asianpaints #indigopaints #irct...       en   \n",
       "2           2  Promote it on  @nftcommunitty https://t.co/hMF...       en   \n",
       "3           3  RT @SonyTV: #ShaandarShrukravaar ke kuch khaas...       en   \n",
       "4           4  RT @asianpaints: Beautiful Indian handicrafts ...       en   \n",
       "\n",
       "   likes  retweets                   datetime  Subjectivity  Polarity  \\\n",
       "0      0         0  2021-11-16 20:31:57+00:00      0.000000  0.000000   \n",
       "1      0         0  2021-11-16 19:19:23+00:00      0.000000  0.000000   \n",
       "2      0         0  2021-11-16 19:13:10+00:00      0.000000  0.000000   \n",
       "3      0         0  2021-11-16 19:03:21+00:00      1.000000  0.000000   \n",
       "4      0         0  2021-11-16 18:54:58+00:00      0.933333  0.683333   \n",
       "\n",
       "   Analysis  \n",
       "0   Neutral  \n",
       "1   Neutral  \n",
       "2   Neutral  \n",
       "3   Neutral  \n",
       "4  Positive  "
      ]
     },
     "execution_count": 8,
     "metadata": {},
     "output_type": "execute_result"
    }
   ],
   "source": [
    "asianpaint_df = pd.read_csv('StockCSV/ASIANPAINTS.csv')\n",
    "asianpaint_df.head(5)"
   ]
  },
  {
   "cell_type": "code",
   "execution_count": 12,
   "metadata": {},
   "outputs": [
    {
     "data": {
      "text/plain": [
       "0      2021-11-16 20:31:57+00:00\n",
       "1      2021-11-16 19:19:23+00:00\n",
       "2      2021-11-16 19:13:10+00:00\n",
       "3      2021-11-16 19:03:21+00:00\n",
       "4      2021-11-16 18:54:58+00:00\n",
       "                 ...            \n",
       "561    2021-11-20 11:49:25+00:00\n",
       "562    2021-11-20 11:36:08+00:00\n",
       "563    2021-11-20 10:34:44+00:00\n",
       "564    2021-11-20 10:00:23+00:00\n",
       "565    2021-11-20 09:39:51+00:00\n",
       "Name: datetime, Length: 566, dtype: object"
      ]
     },
     "execution_count": 12,
     "metadata": {},
     "output_type": "execute_result"
    }
   ],
   "source": [
    "date_series = asianpaint_df[\"datetime\"]\n",
    "date_series"
   ]
  },
  {
   "cell_type": "code",
   "execution_count": 16,
   "metadata": {},
   "outputs": [
    {
     "data": {
      "text/plain": [
       "'2021-11-16'"
      ]
     },
     "execution_count": 16,
     "metadata": {},
     "output_type": "execute_result"
    }
   ],
   "source": [
    "date_series[1][:10]"
   ]
  },
  {
   "cell_type": "code",
   "execution_count": 20,
   "metadata": {},
   "outputs": [],
   "source": [
    "datetime_object = datetime.strptime('2021-11-16', '%Y-%m-%d')\n",
    "corrected_datetime_series = pd.to_datetime(date_series, format='%Y-%m-%d')"
   ]
  },
  {
   "cell_type": "code",
   "execution_count": 21,
   "metadata": {},
   "outputs": [
    {
     "data": {
      "text/plain": [
       "0     2021-11-16 20:31:57+00:00\n",
       "1     2021-11-16 19:19:23+00:00\n",
       "2     2021-11-16 19:13:10+00:00\n",
       "3     2021-11-16 19:03:21+00:00\n",
       "4     2021-11-16 18:54:58+00:00\n",
       "                 ...           \n",
       "561   2021-11-20 11:49:25+00:00\n",
       "562   2021-11-20 11:36:08+00:00\n",
       "563   2021-11-20 10:34:44+00:00\n",
       "564   2021-11-20 10:00:23+00:00\n",
       "565   2021-11-20 09:39:51+00:00\n",
       "Name: datetime, Length: 566, dtype: datetime64[ns, UTC]"
      ]
     },
     "execution_count": 21,
     "metadata": {},
     "output_type": "execute_result"
    }
   ],
   "source": [
    "corrected_datetime_series"
   ]
  },
  {
   "cell_type": "code",
   "execution_count": 25,
   "metadata": {},
   "outputs": [
    {
     "data": {
      "text/plain": [
       "383"
      ]
     },
     "execution_count": 25,
     "metadata": {},
     "output_type": "execute_result"
    }
   ],
   "source": [
    "grouped_part = asianpaint_df.groupby(\"datetime\")\n",
    "len(grouped_part)"
   ]
  }
 ],
 "metadata": {
  "interpreter": {
   "hash": "b0fa6594d8f4cbf19f97940f81e996739fb7646882a419484c72d19e05852a7e"
  },
  "kernelspec": {
   "display_name": "Python 3.9.7 64-bit",
   "language": "python",
   "name": "python3"
  },
  "language_info": {
   "codemirror_mode": {
    "name": "ipython",
    "version": 3
   },
   "file_extension": ".py",
   "mimetype": "text/x-python",
   "name": "python",
   "nbconvert_exporter": "python",
   "pygments_lexer": "ipython3",
   "version": "3.9.7"
  },
  "orig_nbformat": 4
 },
 "nbformat": 4,
 "nbformat_minor": 2
}
